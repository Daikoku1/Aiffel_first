{
 "cells": [
  {
   "cell_type": "code",
   "execution_count": null,
   "metadata": {},
   "outputs": [],
   "source": [
    "%%writefile /home/aiffel42/aiffel/Fund18/my_module1.py\n",
    "from PIL import Image\n",
    "from PIL import ImageFile\n",
    "from PIL import ImageMath, ImageEnhance\n",
    "\n",
    "def image_resize(image, height):\n",
    "    if height == 300:\n",
    "        image = image.resize((800, 300))\n",
    "    else:\n",
    "        image = image.resize((800, 600))\n",
    "    return image\n",
    "    \n",
    "    \n",
    "def image_rotate(image):\n",
    "    image = image.transpose(Image.ROTATE_180)\n",
    "    return image\n",
    "    \n",
    "def image_change_bw(image):\n",
    "    image = image.convert('L')\n",
    "    return image"
   ]
  },
  {
   "cell_type": "code",
   "execution_count": 1,
   "metadata": {},
   "outputs": [],
   "source": [
    "from PIL import Image\n",
    "import os\n",
    "import sys\n",
    "sys.path.append(os.getenv('HOME')+'/aiffel/Fund18')    # 우리가 추가한 모듈의 path를 sys.path에 임시로 추가해 줍니다. "
   ]
  },
  {
   "cell_type": "code",
   "execution_count": 2,
   "metadata": {},
   "outputs": [],
   "source": [
    "import my_module1 as my"
   ]
  },
  {
   "cell_type": "code",
   "execution_count": 17,
   "metadata": {},
   "outputs": [],
   "source": [
    "original_img_path = os.getenv('HOME')+'/aiffel/Fund18/test.jpg'\n",
    "result_img_path = os.getenv('HOME')+'/aiffel/Fund18/result_image.jpg'"
   ]
  },
  {
   "cell_type": "code",
   "execution_count": 18,
   "metadata": {},
   "outputs": [],
   "source": [
    "def img_transfer(original_image, result_image):\n",
    "    original = Image.open(original_image)\n",
    "    sub_img = my.image_resize(original, 300)\n",
    "    sub_img_reverse = my.image_rotate(sub_img)\n",
    "    \n",
    "    result = Image.new('RGB', (800, 600))\n",
    "    result.paste(im=sub_img_reverse, box = (0,0))\n",
    "    result.paste(im=sub_img, box = (0,300))\n",
    "    \n",
    "    result = my.image_change_bw(result)\n",
    "    \n",
    "    result.save(result_image)\n",
    "    \n",
    "\n",
    "img_transfer(original_img_path, result_img_path)\n",
    "# 만들어진 이미지를 화면에 출력해 봅시다. \n",
    "Image.open(result_img_path).show()"
   ]
  },
  {
   "cell_type": "code",
   "execution_count": 19,
   "metadata": {},
   "outputs": [
    {
     "name": "stdout",
     "output_type": "stream",
     "text": [
      "코드 실행 중..🛸\n",
      "완료!\n"
     ]
    }
   ],
   "source": [
    "from tkinter import *\n",
    "import tkinter.ttk as ttk\n",
    "from tkinter import filedialog\n",
    "from PIL import Image,ImageTk\n",
    "\n",
    "\n",
    "print('코드 실행 중..🛸')\n",
    "window = Tk()\n",
    "window.title(\"나의 이미지 편집기\")\n",
    "\n",
    "window.geometry(\"1240x600\")\n",
    "\n",
    "label1 = Label(window, text=\"이미지 편집전\")\n",
    "label2 = Label(window, text=\"이미지 편집후\")\n",
    "label1.place(x=200, y=20)\n",
    "label2.place(x=800, y=20)\n",
    "\n",
    "window.filename = None\n",
    "\n",
    "def click1():\n",
    "    window.filename = filedialog.askopenfilename(initialdir=\"~\", title=\"Select image file\")\n",
    "    if window.filename:\n",
    "        img = Image.open(window.filename)\n",
    "        img = img.resize((600, 450), Image.ANTIALIAS)\n",
    "        img = ImageTk.PhotoImage(img)\n",
    "        label3 = Label(window, image=img)\n",
    "        label3.image = img\n",
    "        label3.place(x=20, y=50)\n",
    "\n",
    "def click2():\n",
    "    img_transfer(window.filename, 'result.png')\n",
    "    img = Image.open('result.png')\n",
    "    img = img.resize((600, 450), Image.ANTIALIAS)\n",
    "    img = ImageTk.PhotoImage(img)\n",
    "    label4 = Label(window, image=img)\n",
    "    label4.image = img\n",
    "    label4.place(x=620, y=50)\n",
    "\n",
    "\n",
    "action1 = ttk.Button(window, text=\"이미지 선택\", command=click1)  \n",
    "action1.place(x=200, y=520)\n",
    "\n",
    "action2 = ttk.Button(window, text=\"이미지 변환\", command=click2)   \n",
    "action2.place(x=800, y=520)\n",
    "\n",
    "window.mainloop()\n",
    "print('완료!')"
   ]
  }
 ],
 "metadata": {
  "kernelspec": {
   "display_name": "Python 3",
   "language": "python",
   "name": "python3"
  },
  "language_info": {
   "codemirror_mode": {
    "name": "ipython",
    "version": 3
   },
   "file_extension": ".py",
   "mimetype": "text/x-python",
   "name": "python",
   "nbconvert_exporter": "python",
   "pygments_lexer": "ipython3",
   "version": "3.8.3"
  }
 },
 "nbformat": 4,
 "nbformat_minor": 4
}
