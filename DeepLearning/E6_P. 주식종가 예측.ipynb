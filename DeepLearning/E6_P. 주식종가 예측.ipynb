{
 "cells": [
  {
   "cell_type": "code",
   "execution_count": 2,
   "metadata": {},
   "outputs": [],
   "source": [
    "import numpy as np\n",
    "import pandas as pd\n",
    "import matplotlib.pyplot as plt\n",
    "import os"
   ]
  },
  {
   "cell_type": "code",
   "execution_count": 4,
   "metadata": {},
   "outputs": [
    {
     "data": {
      "text/html": [
       "<div>\n",
       "<style scoped>\n",
       "    .dataframe tbody tr th:only-of-type {\n",
       "        vertical-align: middle;\n",
       "    }\n",
       "\n",
       "    .dataframe tbody tr th {\n",
       "        vertical-align: top;\n",
       "    }\n",
       "\n",
       "    .dataframe thead th {\n",
       "        text-align: right;\n",
       "    }\n",
       "</style>\n",
       "<table border=\"1\" class=\"dataframe\">\n",
       "  <thead>\n",
       "    <tr style=\"text-align: right;\">\n",
       "      <th></th>\n",
       "      <th>Open</th>\n",
       "      <th>High</th>\n",
       "      <th>Low</th>\n",
       "      <th>Close</th>\n",
       "      <th>Adj Close</th>\n",
       "      <th>Volume</th>\n",
       "    </tr>\n",
       "    <tr>\n",
       "      <th>Date</th>\n",
       "      <th></th>\n",
       "      <th></th>\n",
       "      <th></th>\n",
       "      <th></th>\n",
       "      <th></th>\n",
       "      <th></th>\n",
       "    </tr>\n",
       "  </thead>\n",
       "  <tbody>\n",
       "    <tr>\n",
       "      <th>2000-01-04</th>\n",
       "      <td>6000.0</td>\n",
       "      <td>6110.0</td>\n",
       "      <td>5660.0</td>\n",
       "      <td>6110.0</td>\n",
       "      <td>0.090599</td>\n",
       "      <td>74195000.0</td>\n",
       "    </tr>\n",
       "    <tr>\n",
       "      <th>2000-01-05</th>\n",
       "      <td>5800.0</td>\n",
       "      <td>6060.0</td>\n",
       "      <td>5520.0</td>\n",
       "      <td>5580.0</td>\n",
       "      <td>0.082740</td>\n",
       "      <td>74680000.0</td>\n",
       "    </tr>\n",
       "    <tr>\n",
       "      <th>2000-01-06</th>\n",
       "      <td>5750.0</td>\n",
       "      <td>5780.0</td>\n",
       "      <td>5580.0</td>\n",
       "      <td>5620.0</td>\n",
       "      <td>0.083333</td>\n",
       "      <td>54390000.0</td>\n",
       "    </tr>\n",
       "    <tr>\n",
       "      <th>2000-01-07</th>\n",
       "      <td>5560.0</td>\n",
       "      <td>5670.0</td>\n",
       "      <td>5360.0</td>\n",
       "      <td>5540.0</td>\n",
       "      <td>0.082147</td>\n",
       "      <td>40305000.0</td>\n",
       "    </tr>\n",
       "    <tr>\n",
       "      <th>2000-01-10</th>\n",
       "      <td>5600.0</td>\n",
       "      <td>5770.0</td>\n",
       "      <td>5580.0</td>\n",
       "      <td>5770.0</td>\n",
       "      <td>0.085558</td>\n",
       "      <td>46880000.0</td>\n",
       "    </tr>\n",
       "  </tbody>\n",
       "</table>\n",
       "</div>"
      ],
      "text/plain": [
       "              Open    High     Low   Close  Adj Close      Volume\n",
       "Date                                                             \n",
       "2000-01-04  6000.0  6110.0  5660.0  6110.0   0.090599  74195000.0\n",
       "2000-01-05  5800.0  6060.0  5520.0  5580.0   0.082740  74680000.0\n",
       "2000-01-06  5750.0  5780.0  5580.0  5620.0   0.083333  54390000.0\n",
       "2000-01-07  5560.0  5670.0  5360.0  5540.0   0.082147  40305000.0\n",
       "2000-01-10  5600.0  5770.0  5580.0  5770.0   0.085558  46880000.0"
      ]
     },
     "execution_count": 4,
     "metadata": {},
     "output_type": "execute_result"
    }
   ],
   "source": [
    "csv_path = os.getenv(\"HOME\") + '/aiffel/stock_prediction/005930.KS.csv'\n",
    "data = pd.read_csv(csv_path, index_col='Date', parse_dates=True)\n",
    "data.head()"
   ]
  },
  {
   "cell_type": "code",
   "execution_count": 5,
   "metadata": {},
   "outputs": [
    {
     "data": {
      "text/plain": [
       "Date\n",
       "2000-01-04     6110.0\n",
       "2000-01-05     5580.0\n",
       "2000-01-06     5620.0\n",
       "2000-01-07     5540.0\n",
       "2000-01-10     5770.0\n",
       "               ...   \n",
       "2020-08-07    57500.0\n",
       "2020-08-10    57800.0\n",
       "2020-08-11    58200.0\n",
       "2020-08-12    59000.0\n",
       "2020-08-13    58700.0\n",
       "Name: Close, Length: 5187, dtype: float64"
      ]
     },
     "execution_count": 5,
     "metadata": {},
     "output_type": "execute_result"
    }
   ],
   "source": [
    "sam = data['Close']\n",
    "sam"
   ]
  },
  {
   "cell_type": "code",
   "execution_count": 6,
   "metadata": {},
   "outputs": [
    {
     "data": {
      "text/plain": [
       "Date\n",
       "2000-12-25   NaN\n",
       "2001-01-23   NaN\n",
       "2001-01-24   NaN\n",
       "2001-01-25   NaN\n",
       "2001-03-14   NaN\n",
       "2005-01-03   NaN\n",
       "2017-11-16   NaN\n",
       "2017-11-23   NaN\n",
       "2018-01-02   NaN\n",
       "2018-11-15   NaN\n",
       "2019-11-14   NaN\n",
       "Name: Close, dtype: float64"
      ]
     },
     "execution_count": 6,
     "metadata": {},
     "output_type": "execute_result"
    }
   ],
   "source": [
    "sam[sam.isna()]"
   ]
  },
  {
   "cell_type": "code",
   "execution_count": 7,
   "metadata": {},
   "outputs": [
    {
     "data": {
      "text/plain": [
       "Series([], Name: Close, dtype: float64)"
      ]
     },
     "execution_count": 7,
     "metadata": {},
     "output_type": "execute_result"
    }
   ],
   "source": [
    "sam=sam.interpolate(method='time')\n",
    "sam[sam.isna()]"
   ]
  },
  {
   "cell_type": "code",
   "execution_count": 8,
   "metadata": {},
   "outputs": [],
   "source": [
    "def plot_rolling_statistics(timeseries, window=12):\n",
    "    \n",
    "    rolmean = timeseries.rolling(window=window).mean()  # 이동평균 시계열\n",
    "    rolstd = timeseries.rolling(window=window).std()    # 이동표준편차 시계열\n",
    "\n",
    "     # 원본시계열, 이동평균, 이동표준편차를 plot으로 시각화해 본다.\n",
    "    orig = plt.plot(timeseries, color='blue',label='Original')    \n",
    "    mean = plt.plot(rolmean, color='red', label='Rolling Mean')\n",
    "    std = plt.plot(rolstd, color='black', label = 'Rolling Std')\n",
    "    plt.legend(loc='best')\n",
    "    plt.title('Rolling Mean & Standard Deviation')\n",
    "    plt.show(block=False)"
   ]
  },
  {
   "cell_type": "code",
   "execution_count": 9,
   "metadata": {},
   "outputs": [
    {
     "data": {
      "image/png": "[encoded data removed]",
      "text/plain": [
       "<Figure size 432x288 with 1 Axes>"
      ]
     },
     "metadata": {
      "needs_background": "light"
     },
     "output_type": "display_data"
    }
   ],
   "source": [
    "plot_rolling_statistics(sam)"
   ]
  },
  {
   "cell_type": "code",
   "execution_count": 10,
   "metadata": {},
   "outputs": [
    {
     "name": "stdout",
     "output_type": "stream",
     "text": [
      "Results of Dickey-Fuller Test:\n",
      "Test Statistic                    0.569039\n",
      "p-value                           0.986827\n",
      "#Lags Used                       27.000000\n",
      "Number of Observations Used    5159.000000\n",
      "Critical Value (1%)              -3.431618\n",
      "Critical Value (5%)              -2.862100\n",
      "Critical Value (10%)             -2.567068\n",
      "dtype: float64\n"
     ]
    }
   ],
   "source": [
    "from statsmodels.tsa.stattools import adfuller\n",
    "def augmented_dickey_fuller_test(timeseries):\n",
    "    # statsmodels 패키지에서 제공하는 adfuller 메소드를 호출합니다.\n",
    "    dftest = adfuller(timeseries, autolag='AIC')  \n",
    "    \n",
    "    # adfuller 메소드가 리턴한 결과를 정리하여 출력합니다.\n",
    "    print('Results of Dickey-Fuller Test:')\n",
    "    dfoutput = pd.Series(dftest[0:4], index=['Test Statistic','p-value','#Lags Used','Number of Observations Used'])\n",
    "    for key,value in dftest[4].items():\n",
    "        dfoutput['Critical Value (%s)' % key] = value\n",
    "    print(dfoutput)\n",
    "    \n",
    "augmented_dickey_fuller_test(sam)"
   ]
  },
  {
   "cell_type": "code",
   "execution_count": 11,
   "metadata": {},
   "outputs": [],
   "source": [
    "sam = np.log(sam)"
   ]
  },
  {
   "cell_type": "code",
   "execution_count": 12,
   "metadata": {},
   "outputs": [
    {
     "data": {
      "text/plain": [
       "[<matplotlib.lines.Line2D at 0x7f7812599340>]"
      ]
     },
     "execution_count": 12,
     "metadata": {},
     "output_type": "execute_result"
    },
    {
     "data": {
      "image/png": "[encoded data removed]",
      "text/plain": [
       "<Figure size 432x288 with 1 Axes>"
      ]
     },
     "metadata": {
      "needs_background": "light"
     },
     "output_type": "display_data"
    }
   ],
   "source": [
    "# 트렌드 : 시간 추이에 따라 나타나는 평균값 변화\n",
    "moving_avg = sam.rolling(window=12).mean()  # moving average를 구해서 \n",
    "plt.plot(sam)\n",
    "plt.plot(moving_avg, color='red')"
   ]
  },
  {
   "cell_type": "code",
   "execution_count": 13,
   "metadata": {},
   "outputs": [
    {
     "data": {
      "text/plain": [
       "Date\n",
       "2000-01-04         NaN\n",
       "2000-01-05         NaN\n",
       "2000-01-06         NaN\n",
       "2000-01-07         NaN\n",
       "2000-01-10         NaN\n",
       "2000-01-11         NaN\n",
       "2000-01-12         NaN\n",
       "2000-01-13         NaN\n",
       "2000-01-14         NaN\n",
       "2000-01-17         NaN\n",
       "2000-01-18         NaN\n",
       "2000-01-19    0.024767\n",
       "2000-01-20    0.039061\n",
       "2000-01-21    0.007850\n",
       "2000-01-24   -0.024419\n",
       "Name: Close, dtype: float64"
      ]
     },
     "execution_count": 13,
     "metadata": {},
     "output_type": "execute_result"
    }
   ],
   "source": [
    "sam_moving_avg = sam - moving_avg\n",
    "sam_moving_avg.head(15)"
   ]
  },
  {
   "cell_type": "code",
   "execution_count": 14,
   "metadata": {},
   "outputs": [
    {
     "data": {
      "text/plain": [
       "Date\n",
       "2000-01-19    0.024767\n",
       "2000-01-20    0.039061\n",
       "2000-01-21    0.007850\n",
       "2000-01-24   -0.024419\n",
       "2000-01-25   -0.069588\n",
       "2000-01-26   -0.057965\n",
       "2000-01-27   -0.047001\n",
       "2000-01-28    0.004477\n",
       "2000-01-31   -0.035715\n",
       "2000-02-01   -0.075802\n",
       "2000-02-02   -0.076542\n",
       "2000-02-03   -0.085232\n",
       "2000-02-04   -0.072735\n",
       "2000-02-07   -0.039679\n",
       "2000-02-08    0.002573\n",
       "Name: Close, dtype: float64"
      ]
     },
     "execution_count": 14,
     "metadata": {},
     "output_type": "execute_result"
    }
   ],
   "source": [
    "# 결측치 제거\n",
    "sam_moving_avg.dropna(inplace=True)\n",
    "sam_moving_avg.head(15)"
   ]
  },
  {
   "cell_type": "code",
   "execution_count": 15,
   "metadata": {},
   "outputs": [
    {
     "data": {
      "image/png": "[encoded data removed]",
      "text/plain": [
       "<Figure size 432x288 with 1 Axes>"
      ]
     },
     "metadata": {
      "needs_background": "light"
     },
     "output_type": "display_data"
    }
   ],
   "source": [
    "plot_rolling_statistics(sam_moving_avg)"
   ]
  },
  {
   "cell_type": "code",
   "execution_count": 16,
   "metadata": {},
   "outputs": [
    {
     "name": "stdout",
     "output_type": "stream",
     "text": [
      "Results of Dickey-Fuller Test:\n",
      "Test Statistic                -1.649538e+01\n",
      "p-value                        2.173129e-29\n",
      "#Lags Used                     1.100000e+01\n",
      "Number of Observations Used    5.164000e+03\n",
      "Critical Value (1%)           -3.431617e+00\n",
      "Critical Value (5%)           -2.862100e+00\n",
      "Critical Value (10%)          -2.567068e+00\n",
      "dtype: float64\n"
     ]
    }
   ],
   "source": [
    "augmented_dickey_fuller_test(sam_moving_avg)"
   ]
  },
  {
   "cell_type": "code",
   "execution_count": 17,
   "metadata": {},
   "outputs": [
    {
     "data": {
      "text/plain": [
       "[<matplotlib.lines.Line2D at 0x7f7812765dc0>]"
      ]
     },
     "execution_count": 17,
     "metadata": {},
     "output_type": "execute_result"
    },
    {
     "data": {
      "image/png": "[encoded data removed]",
      "text/plain": [
       "<Figure size 432x288 with 1 Axes>"
      ]
     },
     "metadata": {
      "needs_background": "light"
     },
     "output_type": "display_data"
    }
   ],
   "source": [
    "sam_moving_avg_shift = sam_moving_avg.shift()\n",
    "\n",
    "plt.plot(sam_moving_avg, color='blue')\n",
    "plt.plot(sam_moving_avg_shift, color='green')"
   ]
  },
  {
   "cell_type": "code",
   "execution_count": 18,
   "metadata": {},
   "outputs": [
    {
     "data": {
      "image/png": "[encoded data removed]",
      "text/plain": [
       "<Figure size 432x288 with 4 Axes>"
      ]
     },
     "metadata": {
      "needs_background": "light"
     },
     "output_type": "display_data"
    }
   ],
   "source": [
    "#시계열 분해 (Time Series Decomposition)\n",
    "from statsmodels.tsa.seasonal import seasonal_decompose\n",
    "decomposition = seasonal_decompose(sam, model='multiplicative', period = 30) \n",
    "\n",
    "trend = decomposition.trend\n",
    "seasonal = decomposition.seasonal\n",
    "residual = decomposition.resid\n",
    "\n",
    "plt.subplot(221)\n",
    "plt.plot(sam, label='Original')\n",
    "plt.legend(loc='best')\n",
    "plt.subplot(222)\n",
    "plt.plot(trend, label='Trend')\n",
    "plt.legend(loc='best')\n",
    "plt.subplot(223)\n",
    "plt.plot(seasonal,label='Seasonality')\n",
    "plt.legend(loc='best')\n",
    "plt.subplot(224)\n",
    "plt.plot(residual, label='Residuals')\n",
    "plt.legend(loc='best')\n",
    "plt.tight_layout()"
   ]
  },
  {
   "cell_type": "code",
   "execution_count": 19,
   "metadata": {},
   "outputs": [
    {
     "name": "stdout",
     "output_type": "stream",
     "text": [
      "Results of Dickey-Fuller Test:\n",
      "Test Statistic                -1.728531e+01\n",
      "p-value                        5.748537e-30\n",
      "#Lags Used                     3.300000e+01\n",
      "Number of Observations Used    5.123000e+03\n",
      "Critical Value (1%)           -3.431627e+00\n",
      "Critical Value (5%)           -2.862104e+00\n",
      "Critical Value (10%)          -2.567070e+00\n",
      "dtype: float64\n"
     ]
    }
   ],
   "source": [
    "residual.dropna(inplace=True)\n",
    "augmented_dickey_fuller_test(residual)"
   ]
  },
  {
   "cell_type": "code",
   "execution_count": 20,
   "metadata": {},
   "outputs": [],
   "source": [
    "train_data, test_data = residual[:int(len(sam)*0.9)], residual[int(len(sam)*0.9):]"
   ]
  },
  {
   "cell_type": "code",
   "execution_count": 21,
   "metadata": {},
   "outputs": [
    {
     "data": {
      "image/png": "[encoded data removed]",
      "text/plain": [
       "<Figure size 432x288 with 1 Axes>"
      ]
     },
     "metadata": {
      "needs_background": "light"
     },
     "output_type": "display_data"
    },
    {
     "data": {
      "image/png": "[encoded data removed]",
      "text/plain": [
       "<Figure size 432x288 with 1 Axes>"
      ]
     },
     "metadata": {
      "needs_background": "light"
     },
     "output_type": "display_data"
    }
   ],
   "source": [
    "from statsmodels.graphics.tsaplots import plot_acf, plot_pacf\n",
    "\n",
    "plot_acf(sam)   # ACF : Autocorrelation 그래프 그리기\n",
    "plot_pacf(sam)  # PACF : Partial Autocorrelation 그래프 그리기\n",
    "plt.show()"
   ]
  },
  {
   "cell_type": "code",
   "execution_count": 23,
   "metadata": {},
   "outputs": [
    {
     "name": "stdout",
     "output_type": "stream",
     "text": [
      "Results of Dickey-Fuller Test:\n",
      "Test Statistic                  -21.584636\n",
      "p-value                           0.000000\n",
      "#Lags Used                       33.000000\n",
      "Number of Observations Used    5151.000000\n",
      "Critical Value (1%)              -3.431620\n",
      "Critical Value (5%)              -2.862101\n",
      "Critical Value (10%)             -2.567069\n",
      "dtype: float64\n"
     ]
    }
   ],
   "source": [
    "diff_1 = sam.diff(periods=1).iloc[1:]\n",
    "diff_2 = diff_1.diff(periods=1).iloc[1:]\n",
    "diff_3 = sam.diff(periods=2).iloc[2:]\n",
    "augmented_dickey_fuller_test(diff_2)\n",
    "# augmented_dickey_fuller_test(diff_3)"
   ]
  },
  {
   "cell_type": "code",
   "execution_count": 24,
   "metadata": {},
   "outputs": [
    {
     "name": "stdout",
     "output_type": "stream",
     "text": [
      "1\n",
      "Results of Dickey-Fuller Test:\n",
      "Test Statistic                  -39.817874\n",
      "p-value                           0.000000\n",
      "#Lags Used                        3.000000\n",
      "Number of Observations Used    5182.000000\n",
      "Critical Value (1%)              -3.431613\n",
      "Critical Value (5%)              -2.862098\n",
      "Critical Value (10%)             -2.567067\n",
      "dtype: float64\n",
      "2\n",
      "Results of Dickey-Fuller Test:\n",
      "Test Statistic                -1.210198e+01\n",
      "p-value                        2.008540e-22\n",
      "#Lags Used                     2.900000e+01\n",
      "Number of Observations Used    5.155000e+03\n",
      "Critical Value (1%)           -3.431619e+00\n",
      "Critical Value (5%)           -2.862101e+00\n",
      "Critical Value (10%)          -2.567069e+00\n",
      "dtype: float64\n",
      "3\n",
      "Results of Dickey-Fuller Test:\n",
      "Test Statistic                -1.113927e+01\n",
      "p-value                        3.137992e-20\n",
      "#Lags Used                     3.300000e+01\n",
      "Number of Observations Used    5.150000e+03\n",
      "Critical Value (1%)           -3.431620e+00\n",
      "Critical Value (5%)           -2.862101e+00\n",
      "Critical Value (10%)          -2.567069e+00\n",
      "dtype: float64\n",
      "4\n",
      "Results of Dickey-Fuller Test:\n",
      "Test Statistic                -1.089362e+01\n",
      "p-value                        1.207608e-19\n",
      "#Lags Used                     3.200000e+01\n",
      "Number of Observations Used    5.150000e+03\n",
      "Critical Value (1%)           -3.431620e+00\n",
      "Critical Value (5%)           -2.862101e+00\n",
      "Critical Value (10%)          -2.567069e+00\n",
      "dtype: float64\n",
      "5\n",
      "Results of Dickey-Fuller Test:\n",
      "Test Statistic                -1.162130e+01\n",
      "p-value                        2.380948e-21\n",
      "#Lags Used                     3.300000e+01\n",
      "Number of Observations Used    5.148000e+03\n",
      "Critical Value (1%)           -3.431621e+00\n",
      "Critical Value (5%)           -2.862102e+00\n",
      "Critical Value (10%)          -2.567069e+00\n",
      "dtype: float64\n",
      "6\n",
      "Results of Dickey-Fuller Test:\n",
      "Test Statistic                -1.133998e+01\n",
      "p-value                        1.060473e-20\n",
      "#Lags Used                     3.300000e+01\n",
      "Number of Observations Used    5.147000e+03\n",
      "Critical Value (1%)           -3.431621e+00\n",
      "Critical Value (5%)           -2.862102e+00\n",
      "Critical Value (10%)          -2.567069e+00\n",
      "dtype: float64\n",
      "7\n",
      "Results of Dickey-Fuller Test:\n",
      "Test Statistic                -1.171342e+01\n",
      "p-value                        1.470461e-21\n",
      "#Lags Used                     3.300000e+01\n",
      "Number of Observations Used    5.146000e+03\n",
      "Critical Value (1%)           -3.431621e+00\n",
      "Critical Value (5%)           -2.862102e+00\n",
      "Critical Value (10%)          -2.567069e+00\n",
      "dtype: float64\n",
      "8\n",
      "Results of Dickey-Fuller Test:\n",
      "Test Statistic                -1.040397e+01\n",
      "p-value                        1.877734e-18\n",
      "#Lags Used                     3.300000e+01\n",
      "Number of Observations Used    5.145000e+03\n",
      "Critical Value (1%)           -3.431622e+00\n",
      "Critical Value (5%)           -2.862102e+00\n",
      "Critical Value (10%)          -2.567069e+00\n",
      "dtype: float64\n",
      "9\n",
      "Results of Dickey-Fuller Test:\n",
      "Test Statistic                -1.131560e+01\n",
      "p-value                        1.208834e-20\n",
      "#Lags Used                     3.300000e+01\n",
      "Number of Observations Used    5.144000e+03\n",
      "Critical Value (1%)           -3.431622e+00\n",
      "Critical Value (5%)           -2.862102e+00\n",
      "Critical Value (10%)          -2.567069e+00\n",
      "dtype: float64\n",
      "10\n",
      "Results of Dickey-Fuller Test:\n",
      "Test Statistic                -1.058770e+01\n",
      "p-value                        6.650578e-19\n",
      "#Lags Used                     3.100000e+01\n",
      "Number of Observations Used    5.145000e+03\n",
      "Critical Value (1%)           -3.431622e+00\n",
      "Critical Value (5%)           -2.862102e+00\n",
      "Critical Value (10%)          -2.567069e+00\n",
      "dtype: float64\n",
      "11\n",
      "Results of Dickey-Fuller Test:\n",
      "Test Statistic                -9.677709e+00\n",
      "p-value                        1.228063e-16\n",
      "#Lags Used                     3.300000e+01\n",
      "Number of Observations Used    5.142000e+03\n",
      "Critical Value (1%)           -3.431622e+00\n",
      "Critical Value (5%)           -2.862102e+00\n",
      "Critical Value (10%)          -2.567069e+00\n",
      "dtype: float64\n",
      "12\n",
      "Results of Dickey-Fuller Test:\n",
      "Test Statistic                -1.175977e+01\n",
      "p-value                        1.155412e-21\n",
      "#Lags Used                     3.300000e+01\n",
      "Number of Observations Used    5.141000e+03\n",
      "Critical Value (1%)           -3.431623e+00\n",
      "Critical Value (5%)           -2.862102e+00\n",
      "Critical Value (10%)          -2.567069e+00\n",
      "dtype: float64\n",
      "13\n",
      "Results of Dickey-Fuller Test:\n",
      "Test Statistic                -1.078871e+01\n",
      "p-value                        2.160731e-19\n",
      "#Lags Used                     3.200000e+01\n",
      "Number of Observations Used    5.141000e+03\n",
      "Critical Value (1%)           -3.431623e+00\n",
      "Critical Value (5%)           -2.862102e+00\n",
      "Critical Value (10%)          -2.567069e+00\n",
      "dtype: float64\n",
      "14\n",
      "Results of Dickey-Fuller Test:\n",
      "Test Statistic                -1.005913e+01\n",
      "p-value                        1.348060e-17\n",
      "#Lags Used                     3.100000e+01\n",
      "Number of Observations Used    5.141000e+03\n",
      "Critical Value (1%)           -3.431623e+00\n",
      "Critical Value (5%)           -2.862102e+00\n",
      "Critical Value (10%)          -2.567069e+00\n",
      "dtype: float64\n",
      "15\n",
      "Results of Dickey-Fuller Test:\n",
      "Test Statistic                -9.775591e+00\n",
      "p-value                        6.948944e-17\n",
      "#Lags Used                     3.300000e+01\n",
      "Number of Observations Used    5.138000e+03\n",
      "Critical Value (1%)           -3.431623e+00\n",
      "Critical Value (5%)           -2.862103e+00\n",
      "Critical Value (10%)          -2.567070e+00\n",
      "dtype: float64\n",
      "16\n",
      "Results of Dickey-Fuller Test:\n",
      "Test Statistic                -9.488723e+00\n",
      "p-value                        3.702029e-16\n",
      "#Lags Used                     3.300000e+01\n",
      "Number of Observations Used    5.137000e+03\n",
      "Critical Value (1%)           -3.431624e+00\n",
      "Critical Value (5%)           -2.862103e+00\n",
      "Critical Value (10%)          -2.567070e+00\n",
      "dtype: float64\n",
      "17\n",
      "Results of Dickey-Fuller Test:\n",
      "Test Statistic                -1.270947e+01\n",
      "p-value                        1.037662e-23\n",
      "#Lags Used                     3.300000e+01\n",
      "Number of Observations Used    5.136000e+03\n",
      "Critical Value (1%)           -3.431624e+00\n",
      "Critical Value (5%)           -2.862103e+00\n",
      "Critical Value (10%)          -2.567070e+00\n",
      "dtype: float64\n",
      "18\n",
      "Results of Dickey-Fuller Test:\n",
      "Test Statistic                -1.183430e+01\n",
      "p-value                        7.856815e-22\n",
      "#Lags Used                     3.300000e+01\n",
      "Number of Observations Used    5.135000e+03\n",
      "Critical Value (1%)           -3.431624e+00\n",
      "Critical Value (5%)           -2.862103e+00\n",
      "Critical Value (10%)          -2.567070e+00\n",
      "dtype: float64\n",
      "19\n",
      "Results of Dickey-Fuller Test:\n",
      "Test Statistic                -1.094565e+01\n",
      "p-value                        9.061845e-20\n",
      "#Lags Used                     3.100000e+01\n",
      "Number of Observations Used    5.136000e+03\n",
      "Critical Value (1%)           -3.431624e+00\n",
      "Critical Value (5%)           -2.862103e+00\n",
      "Critical Value (10%)          -2.567070e+00\n",
      "dtype: float64\n",
      "20\n",
      "Results of Dickey-Fuller Test:\n",
      "Test Statistic                -1.049840e+01\n",
      "p-value                        1.100148e-18\n",
      "#Lags Used                     3.300000e+01\n",
      "Number of Observations Used    5.133000e+03\n",
      "Critical Value (1%)           -3.431625e+00\n",
      "Critical Value (5%)           -2.862103e+00\n",
      "Critical Value (10%)          -2.567070e+00\n",
      "dtype: float64\n"
     ]
    }
   ],
   "source": [
    "for i in range(1, 21):\n",
    "    diff = sam.diff(periods=i).iloc[i:]\n",
    "    print(i)\n",
    "    augmented_dickey_fuller_test(diff)"
   ]
  },
  {
   "cell_type": "code",
   "execution_count": 25,
   "metadata": {},
   "outputs": [
    {
     "name": "stderr",
     "output_type": "stream",
     "text": [
      "/home/aiffel42/anaconda3/envs/aiffel/lib/python3.8/site-packages/statsmodels/tsa/base/tsa_model.py:216: ValueWarning: A date index has been provided, but it has no associated frequency information and so will be ignored when e.g. forecasting.\n",
      "  warnings.warn('A date index has been provided, but it has no'\n",
      "/home/aiffel42/anaconda3/envs/aiffel/lib/python3.8/site-packages/statsmodels/tsa/base/tsa_model.py:216: ValueWarning: A date index has been provided, but it has no associated frequency information and so will be ignored when e.g. forecasting.\n",
      "  warnings.warn('A date index has been provided, but it has no'\n"
     ]
    },
    {
     "name": "stdout",
     "output_type": "stream",
     "text": [
      "                             ARIMA Model Results                              \n",
      "==============================================================================\n",
      "Dep. Variable:                D.resid   No. Observations:                 4667\n",
      "Model:                ARIMA(0, 1, 12)   Log Likelihood               21674.842\n",
      "Method:                       css-mle   S.D. of innovations              0.002\n",
      "Date:                Thu, 13 Aug 2020   AIC                         -43321.683\n",
      "Time:                        18:43:20   BIC                         -43231.408\n",
      "Sample:                             1   HQIC                        -43289.932\n",
      "                                                                              \n",
      "==================================================================================\n",
      "                     coef    std err          z      P>|z|      [0.025      0.975]\n",
      "----------------------------------------------------------------------------------\n",
      "const           4.425e-08   5.08e-07      0.087      0.931   -9.52e-07    1.04e-06\n",
      "ma.L1.D.resid     -0.0948        nan        nan        nan         nan         nan\n",
      "ma.L2.D.resid     -0.2212        nan        nan        nan         nan         nan\n",
      "ma.L3.D.resid     -0.1648        nan        nan        nan         nan         nan\n",
      "ma.L4.D.resid     -0.1708        nan        nan        nan         nan         nan\n",
      "ma.L5.D.resid     -0.1118      0.007    -16.413      0.000      -0.125      -0.098\n",
      "ma.L6.D.resid     -0.0886      0.012     -7.466      0.000      -0.112      -0.065\n",
      "ma.L7.D.resid     -0.0730      0.014     -5.077      0.000      -0.101      -0.045\n",
      "ma.L8.D.resid     -0.0476      0.015     -3.234      0.001      -0.076      -0.019\n",
      "ma.L9.D.resid     -0.0324      0.013     -2.449      0.014      -0.058      -0.006\n",
      "ma.L10.D.resid    -0.0182      0.011     -1.723      0.085      -0.039       0.003\n",
      "ma.L11.D.resid     0.0224        nan        nan        nan         nan         nan\n",
      "ma.L12.D.resid     0.0152        nan        nan        nan         nan         nan\n",
      "                                    Roots                                     \n",
      "==============================================================================\n",
      "                   Real          Imaginary           Modulus         Frequency\n",
      "------------------------------------------------------------------------------\n",
      "MA.1             1.0038           -0.0000j            1.0038           -0.0000\n",
      "MA.2             0.9298           -0.9561j            1.3336           -0.1272\n",
      "MA.3             0.9298           +0.9561j            1.3336            0.1272\n",
      "MA.4             1.7772           -0.0000j            1.7772           -0.0000\n",
      "MA.5             0.2616           -1.3281j            1.3536           -0.2190\n",
      "MA.6             0.2616           +1.3281j            1.3536            0.2190\n",
      "MA.7            -0.4751           -1.2940j            1.3785           -0.3060\n",
      "MA.8            -0.4751           +1.2940j            1.3785            0.3060\n",
      "MA.9            -1.1778           -0.8652j            1.4614           -0.3992\n",
      "MA.10           -1.1778           +0.8652j            1.4614            0.3992\n",
      "MA.11           -1.6674           -0.1306j            1.6725           -0.4876\n",
      "MA.12           -1.6674           +0.1306j            1.6725            0.4876\n",
      "------------------------------------------------------------------------------\n"
     ]
    },
    {
     "name": "stderr",
     "output_type": "stream",
     "text": [
      "/home/aiffel42/anaconda3/envs/aiffel/lib/python3.8/site-packages/statsmodels/tsa/arima_model.py:1490: RuntimeWarning: invalid value encountered in sqrt\n",
      "  return np.sqrt(np.diag(-inv(hess)))\n",
      "/home/aiffel42/anaconda3/envs/aiffel/lib/python3.8/site-packages/scipy/stats/_distn_infrastructure.py:903: RuntimeWarning: invalid value encountered in greater\n",
      "  return (a < x) & (x < b)\n",
      "/home/aiffel42/anaconda3/envs/aiffel/lib/python3.8/site-packages/scipy/stats/_distn_infrastructure.py:903: RuntimeWarning: invalid value encountered in less\n",
      "  return (a < x) & (x < b)\n",
      "/home/aiffel42/anaconda3/envs/aiffel/lib/python3.8/site-packages/scipy/stats/_distn_infrastructure.py:1912: RuntimeWarning: invalid value encountered in less_equal\n",
      "  cond2 = cond0 & (x <= _a)\n"
     ]
    }
   ],
   "source": [
    "from statsmodels.tsa.arima_model import ARIMA\n",
    "\n",
    "model = ARIMA(train_data, order=(0, 1, 12))  \n",
    "fitted_m = model.fit(disp=-1)  \n",
    "print(fitted_m.summary())"
   ]
  },
  {
   "cell_type": "code",
   "execution_count": 26,
   "metadata": {},
   "outputs": [
    {
     "data": {
      "image/png": "[encoded data removed]",
      "text/plain": [
       "<Figure size 1000x500 with 1 Axes>"
      ]
     },
     "metadata": {
      "needs_background": "light"
     },
     "output_type": "display_data"
    }
   ],
   "source": [
    "fc, se, conf = fitted_m.forecast(len(test_data), alpha=0.05)  # 95% conf\n",
    "\n",
    "# Make as pandas series\n",
    "fc_series = pd.Series(fc, index=test_data.index)   # 예측결과\n",
    "lower_series = pd.Series(conf[:, 0], index=test_data.index)  # 예측결과의 하한 바운드\n",
    "upper_series = pd.Series(conf[:, 1], index=test_data.index)  # 예측결과의 상한 바운드\n",
    "\n",
    "# Plot\n",
    "plt.figure(figsize=(10,5), dpi=100)\n",
    "plt.plot(train_data, label='training')\n",
    "plt.plot(test_data, c='b', label='actual price')\n",
    "plt.plot(fc_series, c='r',label='predicted price')\n",
    "plt.fill_between(lower_series.index, lower_series, upper_series, color='k', alpha=.10)\n",
    "plt.legend()\n",
    "plt.show()"
   ]
  },
  {
   "cell_type": "code",
   "execution_count": 27,
   "metadata": {},
   "outputs": [
    {
     "name": "stdout",
     "output_type": "stream",
     "text": [
      "MSE:  5.06342425327816e-05\n",
      "MAE:  0.005484814690085253\n",
      "RMSE:  0.007115774204735673\n",
      "MAPE: 0.20%\n"
     ]
    }
   ],
   "source": [
    "from sklearn.metrics import mean_squared_error, mean_absolute_error\n",
    "import math\n",
    "\n",
    "mse = mean_squared_error(np.exp(test_data), np.exp(fc))\n",
    "print('MSE: ', mse)\n",
    "\n",
    "mae = mean_absolute_error(np.exp(test_data), np.exp(fc))\n",
    "print('MAE: ', mae)\n",
    "\n",
    "rmse = math.sqrt(mean_squared_error(np.exp(test_data), np.exp(fc)))\n",
    "print('RMSE: ', rmse)\n",
    "\n",
    "mape = np.mean(np.abs(np.exp(fc) - np.exp(test_data))/np.abs(np.exp(test_data)))\n",
    "print('MAPE: {:.2f}%'.format(mape*100))"
   ]
  },
  {
   "cell_type": "code",
   "execution_count": 216,
   "metadata": {},
   "outputs": [
    {
     "name": "stderr",
     "output_type": "stream",
     "text": [
      "/home/aiffel42/anaconda3/envs/aiffel/lib/python3.8/site-packages/statsmodels/tsa/base/tsa_model.py:216: ValueWarning: A date index has been provided, but it has no associated frequency information and so will be ignored when e.g. forecasting.\n",
      "  warnings.warn('A date index has been provided, but it has no'\n",
      "/home/aiffel42/anaconda3/envs/aiffel/lib/python3.8/site-packages/statsmodels/tsa/base/tsa_model.py:216: ValueWarning: A date index has been provided, but it has no associated frequency information and so will be ignored when e.g. forecasting.\n",
      "  warnings.warn('A date index has been provided, but it has no'\n"
     ]
    },
    {
     "data": {
      "text/plain": [
       "'MAPE: 8.08%'"
      ]
     },
     "execution_count": 216,
     "metadata": {},
     "output_type": "execute_result"
    }
   ],
   "source": [
    "make_model(0,1,12,sam)"
   ]
  },
  {
   "cell_type": "code",
   "execution_count": null,
   "metadata": {},
   "outputs": [],
   "source": []
  },
  {
   "cell_type": "markdown",
   "metadata": {},
   "source": [
    "주가_Naver\n",
    "====\n",
    "- (1,1,0) 일 때, min_MAPE = 11.54%"
   ]
  },
  {
   "cell_type": "code",
   "execution_count": 98,
   "metadata": {},
   "outputs": [
    {
     "data": {
      "text/html": [
       "<div>\n",
       "<style scoped>\n",
       "    .dataframe tbody tr th:only-of-type {\n",
       "        vertical-align: middle;\n",
       "    }\n",
       "\n",
       "    .dataframe tbody tr th {\n",
       "        vertical-align: top;\n",
       "    }\n",
       "\n",
       "    .dataframe thead th {\n",
       "        text-align: right;\n",
       "    }\n",
       "</style>\n",
       "<table border=\"1\" class=\"dataframe\">\n",
       "  <thead>\n",
       "    <tr style=\"text-align: right;\">\n",
       "      <th></th>\n",
       "      <th>Open</th>\n",
       "      <th>High</th>\n",
       "      <th>Low</th>\n",
       "      <th>Close</th>\n",
       "      <th>Adj Close</th>\n",
       "      <th>Volume</th>\n",
       "    </tr>\n",
       "    <tr>\n",
       "      <th>Date</th>\n",
       "      <th></th>\n",
       "      <th></th>\n",
       "      <th></th>\n",
       "      <th></th>\n",
       "      <th></th>\n",
       "      <th></th>\n",
       "    </tr>\n",
       "  </thead>\n",
       "  <tbody>\n",
       "    <tr>\n",
       "      <th>2002-10-29</th>\n",
       "      <td>1797.719971</td>\n",
       "      <td>1797.719971</td>\n",
       "      <td>1797.719971</td>\n",
       "      <td>1797.719971</td>\n",
       "      <td>1695.220947</td>\n",
       "      <td>501745.0</td>\n",
       "    </tr>\n",
       "    <tr>\n",
       "      <th>2002-10-30</th>\n",
       "      <td>2012.229980</td>\n",
       "      <td>2012.229980</td>\n",
       "      <td>1989.750000</td>\n",
       "      <td>2012.229980</td>\n",
       "      <td>1897.500488</td>\n",
       "      <td>20892185.0</td>\n",
       "    </tr>\n",
       "    <tr>\n",
       "      <th>2002-10-31</th>\n",
       "      <td>2042.869995</td>\n",
       "      <td>2091.899902</td>\n",
       "      <td>1865.140015</td>\n",
       "      <td>1912.130005</td>\n",
       "      <td>1803.108032</td>\n",
       "      <td>32327083.0</td>\n",
       "    </tr>\n",
       "    <tr>\n",
       "      <th>2002-11-01</th>\n",
       "      <td>1961.150024</td>\n",
       "      <td>2022.439941</td>\n",
       "      <td>1724.180054</td>\n",
       "      <td>1793.640015</td>\n",
       "      <td>1691.373535</td>\n",
       "      <td>18373668.0</td>\n",
       "    </tr>\n",
       "    <tr>\n",
       "      <th>2002-11-04</th>\n",
       "      <td>1777.300049</td>\n",
       "      <td>1789.550049</td>\n",
       "      <td>1660.849976</td>\n",
       "      <td>1703.750000</td>\n",
       "      <td>1606.608643</td>\n",
       "      <td>16939411.0</td>\n",
       "    </tr>\n",
       "  </tbody>\n",
       "</table>\n",
       "</div>"
      ],
      "text/plain": [
       "                   Open         High          Low        Close    Adj Close  \\\n",
       "Date                                                                          \n",
       "2002-10-29  1797.719971  1797.719971  1797.719971  1797.719971  1695.220947   \n",
       "2002-10-30  2012.229980  2012.229980  1989.750000  2012.229980  1897.500488   \n",
       "2002-10-31  2042.869995  2091.899902  1865.140015  1912.130005  1803.108032   \n",
       "2002-11-01  1961.150024  2022.439941  1724.180054  1793.640015  1691.373535   \n",
       "2002-11-04  1777.300049  1789.550049  1660.849976  1703.750000  1606.608643   \n",
       "\n",
       "                Volume  \n",
       "Date                    \n",
       "2002-10-29    501745.0  \n",
       "2002-10-30  20892185.0  \n",
       "2002-10-31  32327083.0  \n",
       "2002-11-01  18373668.0  \n",
       "2002-11-04  16939411.0  "
      ]
     },
     "execution_count": 98,
     "metadata": {},
     "output_type": "execute_result"
    }
   ],
   "source": [
    "n_path = os.getenv(\"HOME\") + '/aiffel/stock_prediction/035420.KS.csv'\n",
    "naver_data = pd.read_csv(n_path, index_col='Date', parse_dates=True)\n",
    "naver_data.head()"
   ]
  },
  {
   "cell_type": "code",
   "execution_count": 101,
   "metadata": {},
   "outputs": [
    {
     "data": {
      "text/plain": [
       "Date\n",
       "2002-10-29      1797.719971\n",
       "2002-10-30      2012.229980\n",
       "2002-10-31      1912.130005\n",
       "2002-11-01      1793.640015\n",
       "2002-11-04      1703.750000\n",
       "                  ...      \n",
       "2020-08-07    314000.000000\n",
       "2020-08-10    313500.000000\n",
       "2020-08-11    311500.000000\n",
       "2020-08-12    305000.000000\n",
       "2020-08-13    307000.000000\n",
       "Name: Close, Length: 4452, dtype: float64"
      ]
     },
     "execution_count": 101,
     "metadata": {},
     "output_type": "execute_result"
    }
   ],
   "source": [
    "naver = naver_data['Close']\n",
    "naver"
   ]
  },
  {
   "cell_type": "code",
   "execution_count": 102,
   "metadata": {},
   "outputs": [
    {
     "data": {
      "text/plain": [
       "Date\n",
       "2002-10-29     7.494274\n",
       "2002-10-30     7.606999\n",
       "2002-10-31     7.555973\n",
       "2002-11-01     7.492002\n",
       "2002-11-04     7.440587\n",
       "                ...    \n",
       "2020-08-07    12.657148\n",
       "2020-08-10    12.655555\n",
       "2020-08-11    12.649155\n",
       "2020-08-12    12.628067\n",
       "2020-08-13    12.634603\n",
       "Name: Close, Length: 4452, dtype: float64"
      ]
     },
     "execution_count": 102,
     "metadata": {},
     "output_type": "execute_result"
    }
   ],
   "source": [
    "n_log = np.log(naver)\n",
    "n_log"
   ]
  },
  {
   "cell_type": "code",
   "execution_count": 28,
   "metadata": {},
   "outputs": [],
   "source": [
    "def pre_set(data):\n",
    "    data = data.interpolate(method='time')\n",
    "    return np.log(data)\n",
    "\n",
    "\n",
    "def show_graph(data):\n",
    "    plot_acf(data)   # ACF : Autocorrelation 그래프 그리기\n",
    "    plot_pacf(data)  # PACF : Partial Autocorrelation 그래프 그리기\n",
    "    plt.show()\n",
    "\n",
    "def diff_n(data):\n",
    "    diff_1 = data.diff(periods=1).iloc[1:]\n",
    "    diff_2 = diff_1.diff(periods=1).iloc[1:]\n",
    "    return augmented_dickey_fuller_test(diff_1), augmented_dickey_fuller_test(diff_2)\n",
    "    \n",
    "def make_model(p,d,q,data):\n",
    "    train_data, test_data = data[:int(len(data)*0.9)], data[int(len(data)*0.9):]\n",
    "    model = ARIMA(train_data, order=(p, d, q))\n",
    "    fitted_m = model.fit(disp=-1)\n",
    "               \n",
    "    fc, se, conf = fitted_m.forecast(len(test_data), alpha=0.05)\n",
    "    fc_series = pd.Series(fc, index=test_data.index)\n",
    "    \n",
    "    mape = np.mean(np.abs(np.exp(fc) - np.exp(test_data))/np.abs(np.exp(test_data)))\n",
    "    return 'MAPE: {:.2f}%'.format(mape*100)"
   ]
  },
  {
   "cell_type": "code",
   "execution_count": 113,
   "metadata": {},
   "outputs": [],
   "source": [
    "naver = pre_set(naver)"
   ]
  },
  {
   "cell_type": "code",
   "execution_count": 115,
   "metadata": {},
   "outputs": [
    {
     "name": "stderr",
     "output_type": "stream",
     "text": [
      "/home/aiffel42/anaconda3/envs/aiffel/lib/python3.8/site-packages/statsmodels/tsa/base/tsa_model.py:216: ValueWarning: A date index has been provided, but it has no associated frequency information and so will be ignored when e.g. forecasting.\n",
      "  warnings.warn('A date index has been provided, but it has no'\n"
     ]
    },
    {
     "data": {
      "text/plain": [
       "'MAPE: 71.26%'"
      ]
     },
     "execution_count": 115,
     "metadata": {},
     "output_type": "execute_result"
    }
   ],
   "source": [
    "make_model(0,0,8,naver)"
   ]
  },
  {
   "cell_type": "code",
   "execution_count": 116,
   "metadata": {},
   "outputs": [
    {
     "name": "stderr",
     "output_type": "stream",
     "text": [
      "/home/aiffel42/anaconda3/envs/aiffel/lib/python3.8/site-packages/statsmodels/tsa/base/tsa_model.py:216: ValueWarning: A date index has been provided, but it has no associated frequency information and so will be ignored when e.g. forecasting.\n",
      "  warnings.warn('A date index has been provided, but it has no'\n"
     ]
    },
    {
     "data": {
      "text/plain": [
       "'MAPE: 25.32%'"
      ]
     },
     "execution_count": 116,
     "metadata": {},
     "output_type": "execute_result"
    }
   ],
   "source": [
    "make_model(1,0,0,naver)"
   ]
  },
  {
   "cell_type": "code",
   "execution_count": 117,
   "metadata": {},
   "outputs": [
    {
     "name": "stderr",
     "output_type": "stream",
     "text": [
      "/home/aiffel42/anaconda3/envs/aiffel/lib/python3.8/site-packages/statsmodels/tsa/base/tsa_model.py:216: ValueWarning: A date index has been provided, but it has no associated frequency information and so will be ignored when e.g. forecasting.\n",
      "  warnings.warn('A date index has been provided, but it has no'\n",
      "/home/aiffel42/anaconda3/envs/aiffel/lib/python3.8/site-packages/statsmodels/tsa/base/tsa_model.py:216: ValueWarning: A date index has been provided, but it has no associated frequency information and so will be ignored when e.g. forecasting.\n",
      "  warnings.warn('A date index has been provided, but it has no'\n"
     ]
    },
    {
     "data": {
      "text/plain": [
       "'MAPE: 11.54%'"
      ]
     },
     "execution_count": 117,
     "metadata": {},
     "output_type": "execute_result"
    }
   ],
   "source": [
    "make_model(1,1,0,naver)"
   ]
  },
  {
   "cell_type": "code",
   "execution_count": 126,
   "metadata": {},
   "outputs": [
    {
     "name": "stderr",
     "output_type": "stream",
     "text": [
      "/home/aiffel42/anaconda3/envs/aiffel/lib/python3.8/site-packages/statsmodels/tsa/base/tsa_model.py:216: ValueWarning: A date index has been provided, but it has no associated frequency information and so will be ignored when e.g. forecasting.\n",
      "  warnings.warn('A date index has been provided, but it has no'\n",
      "/home/aiffel42/anaconda3/envs/aiffel/lib/python3.8/site-packages/statsmodels/tsa/base/tsa_model.py:216: ValueWarning: A date index has been provided, but it has no associated frequency information and so will be ignored when e.g. forecasting.\n",
      "  warnings.warn('A date index has been provided, but it has no'\n"
     ]
    },
    {
     "data": {
      "text/plain": [
       "'MAPE: 11.55%'"
      ]
     },
     "execution_count": 126,
     "metadata": {},
     "output_type": "execute_result"
    }
   ],
   "source": [
    "make_model(2,1,0,naver)"
   ]
  },
  {
   "cell_type": "code",
   "execution_count": 128,
   "metadata": {},
   "outputs": [
    {
     "name": "stderr",
     "output_type": "stream",
     "text": [
      "/home/aiffel42/anaconda3/envs/aiffel/lib/python3.8/site-packages/statsmodels/tsa/base/tsa_model.py:216: ValueWarning: A date index has been provided, but it has no associated frequency information and so will be ignored when e.g. forecasting.\n",
      "  warnings.warn('A date index has been provided, but it has no'\n",
      "/home/aiffel42/anaconda3/envs/aiffel/lib/python3.8/site-packages/statsmodels/tsa/base/tsa_model.py:216: ValueWarning: A date index has been provided, but it has no associated frequency information and so will be ignored when e.g. forecasting.\n",
      "  warnings.warn('A date index has been provided, but it has no'\n"
     ]
    },
    {
     "data": {
      "text/plain": [
       "'MAPE: 11.56%'"
      ]
     },
     "execution_count": 128,
     "metadata": {},
     "output_type": "execute_result"
    }
   ],
   "source": [
    "make_model(3,1,0,naver)"
   ]
  },
  {
   "cell_type": "code",
   "execution_count": 129,
   "metadata": {},
   "outputs": [
    {
     "name": "stderr",
     "output_type": "stream",
     "text": [
      "/home/aiffel42/anaconda3/envs/aiffel/lib/python3.8/site-packages/statsmodels/tsa/base/tsa_model.py:216: ValueWarning: A date index has been provided, but it has no associated frequency information and so will be ignored when e.g. forecasting.\n",
      "  warnings.warn('A date index has been provided, but it has no'\n",
      "/home/aiffel42/anaconda3/envs/aiffel/lib/python3.8/site-packages/statsmodels/tsa/base/tsa_model.py:216: ValueWarning: A date index has been provided, but it has no associated frequency information and so will be ignored when e.g. forecasting.\n",
      "  warnings.warn('A date index has been provided, but it has no'\n"
     ]
    },
    {
     "data": {
      "text/plain": [
       "'MAPE: 11.63%'"
      ]
     },
     "execution_count": 129,
     "metadata": {},
     "output_type": "execute_result"
    }
   ],
   "source": [
    "make_model(8,1,0,naver)"
   ]
  },
  {
   "cell_type": "code",
   "execution_count": 132,
   "metadata": {},
   "outputs": [
    {
     "name": "stderr",
     "output_type": "stream",
     "text": [
      "/home/aiffel42/anaconda3/envs/aiffel/lib/python3.8/site-packages/statsmodels/tsa/base/tsa_model.py:216: ValueWarning: A date index has been provided, but it has no associated frequency information and so will be ignored when e.g. forecasting.\n",
      "  warnings.warn('A date index has been provided, but it has no'\n",
      "/home/aiffel42/anaconda3/envs/aiffel/lib/python3.8/site-packages/statsmodels/tsa/base/tsa_model.py:216: ValueWarning: A date index has been provided, but it has no associated frequency information and so will be ignored when e.g. forecasting.\n",
      "  warnings.warn('A date index has been provided, but it has no'\n"
     ]
    },
    {
     "data": {
      "text/plain": [
       "'MAPE: 11.58%'"
      ]
     },
     "execution_count": 132,
     "metadata": {},
     "output_type": "execute_result"
    }
   ],
   "source": [
    "make_model(12,1,0,naver)"
   ]
  },
  {
   "cell_type": "code",
   "execution_count": 139,
   "metadata": {},
   "outputs": [
    {
     "name": "stderr",
     "output_type": "stream",
     "text": [
      "/home/aiffel42/anaconda3/envs/aiffel/lib/python3.8/site-packages/statsmodels/tsa/base/tsa_model.py:216: ValueWarning: A date index has been provided, but it has no associated frequency information and so will be ignored when e.g. forecasting.\n",
      "  warnings.warn('A date index has been provided, but it has no'\n",
      "/home/aiffel42/anaconda3/envs/aiffel/lib/python3.8/site-packages/statsmodels/tsa/base/tsa_model.py:216: ValueWarning: A date index has been provided, but it has no associated frequency information and so will be ignored when e.g. forecasting.\n",
      "  warnings.warn('A date index has been provided, but it has no'\n"
     ]
    },
    {
     "data": {
      "text/plain": [
       "'MAPE: 11.62%'"
      ]
     },
     "execution_count": 139,
     "metadata": {},
     "output_type": "execute_result"
    }
   ],
   "source": [
    "make_model(0,1,8,naver)"
   ]
  },
  {
   "cell_type": "code",
   "execution_count": null,
   "metadata": {},
   "outputs": [],
   "source": []
  },
  {
   "cell_type": "markdown",
   "metadata": {},
   "source": [
    "주가_SK_telecom\n",
    "====\n",
    "- (0,1,12) 일 때, min_MAPE = 0.91%"
   ]
  },
  {
   "cell_type": "code",
   "execution_count": 141,
   "metadata": {},
   "outputs": [
    {
     "data": {
      "text/plain": [
       "Date\n",
       "2002-10-29      1797.719971\n",
       "2002-10-30      2012.229980\n",
       "2002-10-31      1912.130005\n",
       "2002-11-01      1793.640015\n",
       "2002-11-04      1703.750000\n",
       "                  ...      \n",
       "2020-08-07    314000.000000\n",
       "2020-08-10    313500.000000\n",
       "2020-08-11    311500.000000\n",
       "2020-08-12    305000.000000\n",
       "2020-08-13    307000.000000\n",
       "Name: Close, Length: 4452, dtype: float64"
      ]
     },
     "execution_count": 141,
     "metadata": {},
     "output_type": "execute_result"
    }
   ],
   "source": [
    "# def pre_set(data):\n",
    "# def show_graph(data):\n",
    "# diff_n(data):\n",
    "# def make_model(p,d,q,data):\n",
    "s_path = os.getenv(\"HOME\") + '/aiffel/stock_prediction/SKM.csv'\n",
    "s_data = pd.read_csv(n_path, index_col='Date', parse_dates=True)\n",
    "sk = s_data['Close']\n",
    "sk"
   ]
  },
  {
   "cell_type": "code",
   "execution_count": 159,
   "metadata": {},
   "outputs": [
    {
     "data": {
      "text/plain": [
       "Date\n",
       "2002-10-29    2.014139\n",
       "2002-10-30    2.029069\n",
       "2002-10-31    2.022338\n",
       "2002-11-01    2.013836\n",
       "2002-11-04    2.006950\n",
       "                ...   \n",
       "2020-08-07    2.538222\n",
       "2020-08-10    2.538096\n",
       "2020-08-11    2.537590\n",
       "2020-08-12    2.535922\n",
       "2020-08-13    2.536439\n",
       "Name: Close, Length: 4452, dtype: float64"
      ]
     },
     "execution_count": 159,
     "metadata": {},
     "output_type": "execute_result"
    }
   ],
   "source": [
    "sk = pre_set(sk)\n",
    "sk"
   ]
  },
  {
   "cell_type": "code",
   "execution_count": 160,
   "metadata": {},
   "outputs": [
    {
     "data": {
      "image/png": "[encoded data removed]",
      "text/plain": [
       "<Figure size 1080x432 with 1 Axes>"
      ]
     },
     "metadata": {
      "needs_background": "light"
     },
     "output_type": "display_data"
    },
    {
     "data": {
      "image/png": "[encoded data removed]",
      "text/plain": [
       "<Figure size 1080x432 with 1 Axes>"
      ]
     },
     "metadata": {
      "needs_background": "light"
     },
     "output_type": "display_data"
    }
   ],
   "source": [
    "show_graph(sk)"
   ]
  },
  {
   "cell_type": "code",
   "execution_count": 144,
   "metadata": {},
   "outputs": [
    {
     "name": "stdout",
     "output_type": "stream",
     "text": [
      "Results of Dickey-Fuller Test:\n",
      "Test Statistic                  -23.278082\n",
      "p-value                           0.000000\n",
      "#Lags Used                        8.000000\n",
      "Number of Observations Used    4442.000000\n",
      "Critical Value (1%)              -3.431823\n",
      "Critical Value (5%)              -2.862191\n",
      "Critical Value (10%)             -2.567116\n",
      "dtype: float64\n",
      "Results of Dickey-Fuller Test:\n",
      "Test Statistic                  -21.412721\n",
      "p-value                           0.000000\n",
      "#Lags Used                       31.000000\n",
      "Number of Observations Used    4418.000000\n",
      "Critical Value (1%)              -3.431831\n",
      "Critical Value (5%)              -2.862194\n",
      "Critical Value (10%)             -2.567118\n",
      "dtype: float64\n"
     ]
    },
    {
     "data": {
      "text/plain": [
       "(None, None)"
      ]
     },
     "execution_count": 144,
     "metadata": {},
     "output_type": "execute_result"
    }
   ],
   "source": [
    "diff_n(sk)"
   ]
  },
  {
   "cell_type": "code",
   "execution_count": 146,
   "metadata": {},
   "outputs": [
    {
     "name": "stderr",
     "output_type": "stream",
     "text": [
      "/home/aiffel42/anaconda3/envs/aiffel/lib/python3.8/site-packages/statsmodels/tsa/base/tsa_model.py:216: ValueWarning: A date index has been provided, but it has no associated frequency information and so will be ignored when e.g. forecasting.\n",
      "  warnings.warn('A date index has been provided, but it has no'\n"
     ]
    },
    {
     "data": {
      "text/plain": [
       "'MAPE: 25.32%'"
      ]
     },
     "execution_count": 146,
     "metadata": {},
     "output_type": "execute_result"
    }
   ],
   "source": [
    "make_model(1,0,0,sk)"
   ]
  },
  {
   "cell_type": "code",
   "execution_count": 147,
   "metadata": {},
   "outputs": [
    {
     "name": "stderr",
     "output_type": "stream",
     "text": [
      "/home/aiffel42/anaconda3/envs/aiffel/lib/python3.8/site-packages/statsmodels/tsa/base/tsa_model.py:216: ValueWarning: A date index has been provided, but it has no associated frequency information and so will be ignored when e.g. forecasting.\n",
      "  warnings.warn('A date index has been provided, but it has no'\n",
      "/home/aiffel42/anaconda3/envs/aiffel/lib/python3.8/site-packages/statsmodels/tsa/base/tsa_model.py:216: ValueWarning: A date index has been provided, but it has no associated frequency information and so will be ignored when e.g. forecasting.\n",
      "  warnings.warn('A date index has been provided, but it has no'\n"
     ]
    },
    {
     "data": {
      "text/plain": [
       "'MAPE: 11.54%'"
      ]
     },
     "execution_count": 147,
     "metadata": {},
     "output_type": "execute_result"
    }
   ],
   "source": [
    "make_model(1,1,0,sk)"
   ]
  },
  {
   "cell_type": "code",
   "execution_count": 148,
   "metadata": {},
   "outputs": [
    {
     "name": "stderr",
     "output_type": "stream",
     "text": [
      "/home/aiffel42/anaconda3/envs/aiffel/lib/python3.8/site-packages/statsmodels/tsa/base/tsa_model.py:216: ValueWarning: A date index has been provided, but it has no associated frequency information and so will be ignored when e.g. forecasting.\n",
      "  warnings.warn('A date index has been provided, but it has no'\n",
      "/home/aiffel42/anaconda3/envs/aiffel/lib/python3.8/site-packages/statsmodels/tsa/base/tsa_model.py:216: ValueWarning: A date index has been provided, but it has no associated frequency information and so will be ignored when e.g. forecasting.\n",
      "  warnings.warn('A date index has been provided, but it has no'\n"
     ]
    },
    {
     "data": {
      "text/plain": [
       "'MAPE: 11.55%'"
      ]
     },
     "execution_count": 148,
     "metadata": {},
     "output_type": "execute_result"
    }
   ],
   "source": [
    "make_model(2,1,0,sk)"
   ]
  },
  {
   "cell_type": "code",
   "execution_count": 149,
   "metadata": {},
   "outputs": [
    {
     "name": "stderr",
     "output_type": "stream",
     "text": [
      "/home/aiffel42/anaconda3/envs/aiffel/lib/python3.8/site-packages/statsmodels/tsa/base/tsa_model.py:216: ValueWarning: A date index has been provided, but it has no associated frequency information and so will be ignored when e.g. forecasting.\n",
      "  warnings.warn('A date index has been provided, but it has no'\n",
      "/home/aiffel42/anaconda3/envs/aiffel/lib/python3.8/site-packages/statsmodels/tsa/base/tsa_model.py:216: ValueWarning: A date index has been provided, but it has no associated frequency information and so will be ignored when e.g. forecasting.\n",
      "  warnings.warn('A date index has been provided, but it has no'\n"
     ]
    },
    {
     "data": {
      "text/plain": [
       "'MAPE: 11.63%'"
      ]
     },
     "execution_count": 149,
     "metadata": {},
     "output_type": "execute_result"
    }
   ],
   "source": [
    "make_model(8,1,0,sk)"
   ]
  },
  {
   "cell_type": "code",
   "execution_count": 151,
   "metadata": {},
   "outputs": [
    {
     "name": "stderr",
     "output_type": "stream",
     "text": [
      "/home/aiffel42/anaconda3/envs/aiffel/lib/python3.8/site-packages/statsmodels/tsa/base/tsa_model.py:216: ValueWarning: A date index has been provided, but it has no associated frequency information and so will be ignored when e.g. forecasting.\n",
      "  warnings.warn('A date index has been provided, but it has no'\n",
      "/home/aiffel42/anaconda3/envs/aiffel/lib/python3.8/site-packages/statsmodels/tsa/base/tsa_model.py:216: ValueWarning: A date index has been provided, but it has no associated frequency information and so will be ignored when e.g. forecasting.\n",
      "  warnings.warn('A date index has been provided, but it has no'\n"
     ]
    },
    {
     "data": {
      "text/plain": [
       "'MAPE: 11.65%'"
      ]
     },
     "execution_count": 151,
     "metadata": {},
     "output_type": "execute_result"
    }
   ],
   "source": [
    "make_model(1,1,6,sk)"
   ]
  },
  {
   "cell_type": "code",
   "execution_count": 157,
   "metadata": {},
   "outputs": [
    {
     "name": "stderr",
     "output_type": "stream",
     "text": [
      "/home/aiffel42/anaconda3/envs/aiffel/lib/python3.8/site-packages/statsmodels/tsa/base/tsa_model.py:216: ValueWarning: A date index has been provided, but it has no associated frequency information and so will be ignored when e.g. forecasting.\n",
      "  warnings.warn('A date index has been provided, but it has no'\n",
      "/home/aiffel42/anaconda3/envs/aiffel/lib/python3.8/site-packages/statsmodels/tsa/base/tsa_model.py:216: ValueWarning: A date index has been provided, but it has no associated frequency information and so will be ignored when e.g. forecasting.\n",
      "  warnings.warn('A date index has been provided, but it has no'\n"
     ]
    },
    {
     "data": {
      "text/plain": [
       "'MAPE: 11.54%'"
      ]
     },
     "execution_count": 157,
     "metadata": {},
     "output_type": "execute_result"
    }
   ],
   "source": [
    "make_model(0,1,0,sk)"
   ]
  },
  {
   "cell_type": "code",
   "execution_count": 162,
   "metadata": {},
   "outputs": [
    {
     "name": "stderr",
     "output_type": "stream",
     "text": [
      "/home/aiffel42/anaconda3/envs/aiffel/lib/python3.8/site-packages/statsmodels/tsa/base/tsa_model.py:216: ValueWarning: A date index has been provided, but it has no associated frequency information and so will be ignored when e.g. forecasting.\n",
      "  warnings.warn('A date index has been provided, but it has no'\n",
      "/home/aiffel42/anaconda3/envs/aiffel/lib/python3.8/site-packages/statsmodels/tsa/base/tsa_model.py:216: ValueWarning: A date index has been provided, but it has no associated frequency information and so will be ignored when e.g. forecasting.\n",
      "  warnings.warn('A date index has been provided, but it has no'\n"
     ]
    },
    {
     "data": {
      "text/plain": [
       "'MAPE: 0.91%'"
      ]
     },
     "execution_count": 162,
     "metadata": {},
     "output_type": "execute_result"
    }
   ],
   "source": [
    "make_model(0,1,12,sk)"
   ]
  },
  {
   "cell_type": "code",
   "execution_count": 163,
   "metadata": {},
   "outputs": [
    {
     "name": "stderr",
     "output_type": "stream",
     "text": [
      "/home/aiffel42/anaconda3/envs/aiffel/lib/python3.8/site-packages/statsmodels/tsa/base/tsa_model.py:216: ValueWarning: A date index has been provided, but it has no associated frequency information and so will be ignored when e.g. forecasting.\n",
      "  warnings.warn('A date index has been provided, but it has no'\n",
      "/home/aiffel42/anaconda3/envs/aiffel/lib/python3.8/site-packages/statsmodels/tsa/base/tsa_model.py:216: ValueWarning: A date index has been provided, but it has no associated frequency information and so will be ignored when e.g. forecasting.\n",
      "  warnings.warn('A date index has been provided, but it has no'\n"
     ]
    },
    {
     "data": {
      "text/plain": [
       "'MAPE: 0.92%'"
      ]
     },
     "execution_count": 163,
     "metadata": {},
     "output_type": "execute_result"
    }
   ],
   "source": [
    "make_model(12,1,0,sk)"
   ]
  },
  {
   "cell_type": "code",
   "execution_count": null,
   "metadata": {},
   "outputs": [],
   "source": []
  },
  {
   "cell_type": "markdown",
   "metadata": {},
   "source": [
    "주가_현대자동차\n",
    "====\n",
    "- (0,2,10) 일 때 min_MAPE = 10.04 %\n",
    "- (0,2,9).MAPE = 10.28%\n",
    "- (0,2,11).MAPE = 10.11%"
   ]
  },
  {
   "cell_type": "code",
   "execution_count": 164,
   "metadata": {},
   "outputs": [
    {
     "data": {
      "text/plain": [
       "Date\n",
       "2009-02-13     6.400000\n",
       "2009-02-17     6.400000\n",
       "2009-02-18     6.400000\n",
       "2009-02-19     6.400000\n",
       "2009-02-20     6.400000\n",
       "                ...    \n",
       "2020-08-06    29.990000\n",
       "2020-08-07    31.389999\n",
       "2020-08-10    35.349998\n",
       "2020-08-11    36.900002\n",
       "2020-08-12    37.000000\n",
       "Name: Close, Length: 2894, dtype: float64"
      ]
     },
     "execution_count": 164,
     "metadata": {},
     "output_type": "execute_result"
    }
   ],
   "source": [
    "# def pre_set(data):\n",
    "# def show_graph(data):\n",
    "# diff_n(data):\n",
    "# def make_model(p,d,q,data):\n",
    "h_path = os.getenv(\"HOME\") + '/aiffel/stock_prediction/HYMTF.csv'\n",
    "h_data = pd.read_csv(h_path, index_col='Date', parse_dates=True)\n",
    "hyun = h_data['Close']\n",
    "hyun"
   ]
  },
  {
   "cell_type": "code",
   "execution_count": 165,
   "metadata": {},
   "outputs": [],
   "source": [
    "hyun = pre_set(hyun)"
   ]
  },
  {
   "cell_type": "code",
   "execution_count": 166,
   "metadata": {},
   "outputs": [
    {
     "data": {
      "text/plain": [
       "Date\n",
       "2009-02-13    1.856298\n",
       "2009-02-17    1.856298\n",
       "2009-02-18    1.856298\n",
       "2009-02-19    1.856298\n",
       "2009-02-20    1.856298\n",
       "                ...   \n",
       "2020-08-06    3.400864\n",
       "2020-08-07    3.446489\n",
       "2020-08-10    3.565298\n",
       "2020-08-11    3.608212\n",
       "2020-08-12    3.610918\n",
       "Name: Close, Length: 2894, dtype: float64"
      ]
     },
     "execution_count": 166,
     "metadata": {},
     "output_type": "execute_result"
    }
   ],
   "source": [
    "hyun"
   ]
  },
  {
   "cell_type": "code",
   "execution_count": 167,
   "metadata": {},
   "outputs": [
    {
     "data": {
      "image/png": "[encoded data removed]",
      "text/plain": [
       "<Figure size 1080x432 with 1 Axes>"
      ]
     },
     "metadata": {
      "needs_background": "light"
     },
     "output_type": "display_data"
    },
    {
     "data": {
      "image/png": "[encoded data removed]",
      "text/plain": [
       "<Figure size 1080x432 with 1 Axes>"
      ]
     },
     "metadata": {
      "needs_background": "light"
     },
     "output_type": "display_data"
    }
   ],
   "source": [
    "show_graph(hyun)"
   ]
  },
  {
   "cell_type": "code",
   "execution_count": 168,
   "metadata": {},
   "outputs": [
    {
     "name": "stdout",
     "output_type": "stream",
     "text": [
      "Results of Dickey-Fuller Test:\n",
      "Test Statistic                -1.303801e+01\n",
      "p-value                        2.271839e-24\n",
      "#Lags Used                     2.400000e+01\n",
      "Number of Observations Used    2.868000e+03\n",
      "Critical Value (1%)           -3.432632e+00\n",
      "Critical Value (5%)           -2.862548e+00\n",
      "Critical Value (10%)          -2.567307e+00\n",
      "dtype: float64\n",
      "Results of Dickey-Fuller Test:\n",
      "Test Statistic                  -18.947214\n",
      "p-value                           0.000000\n",
      "#Lags Used                       28.000000\n",
      "Number of Observations Used    2863.000000\n",
      "Critical Value (1%)              -3.432636\n",
      "Critical Value (5%)              -2.862550\n",
      "Critical Value (10%)             -2.567308\n",
      "dtype: float64\n"
     ]
    },
    {
     "data": {
      "text/plain": [
       "(None, None)"
      ]
     },
     "execution_count": 168,
     "metadata": {},
     "output_type": "execute_result"
    }
   ],
   "source": [
    "diff_n(hyun)"
   ]
  },
  {
   "cell_type": "code",
   "execution_count": 169,
   "metadata": {},
   "outputs": [
    {
     "name": "stderr",
     "output_type": "stream",
     "text": [
      "/home/aiffel42/anaconda3/envs/aiffel/lib/python3.8/site-packages/statsmodels/tsa/base/tsa_model.py:216: ValueWarning: A date index has been provided, but it has no associated frequency information and so will be ignored when e.g. forecasting.\n",
      "  warnings.warn('A date index has been provided, but it has no'\n",
      "/home/aiffel42/anaconda3/envs/aiffel/lib/python3.8/site-packages/statsmodels/tsa/base/tsa_model.py:216: ValueWarning: A date index has been provided, but it has no associated frequency information and so will be ignored when e.g. forecasting.\n",
      "  warnings.warn('A date index has been provided, but it has no'\n"
     ]
    },
    {
     "data": {
      "text/plain": [
       "'MAPE: 20.33%'"
      ]
     },
     "execution_count": 169,
     "metadata": {},
     "output_type": "execute_result"
    }
   ],
   "source": [
    "make_model(0,2,0,hyun)"
   ]
  },
  {
   "cell_type": "code",
   "execution_count": 170,
   "metadata": {},
   "outputs": [
    {
     "name": "stderr",
     "output_type": "stream",
     "text": [
      "/home/aiffel42/anaconda3/envs/aiffel/lib/python3.8/site-packages/statsmodels/tsa/base/tsa_model.py:216: ValueWarning: A date index has been provided, but it has no associated frequency information and so will be ignored when e.g. forecasting.\n",
      "  warnings.warn('A date index has been provided, but it has no'\n",
      "/home/aiffel42/anaconda3/envs/aiffel/lib/python3.8/site-packages/statsmodels/tsa/base/tsa_model.py:216: ValueWarning: A date index has been provided, but it has no associated frequency information and so will be ignored when e.g. forecasting.\n",
      "  warnings.warn('A date index has been provided, but it has no'\n"
     ]
    },
    {
     "data": {
      "text/plain": [
       "'MAPE: 32.19%'"
      ]
     },
     "execution_count": 170,
     "metadata": {},
     "output_type": "execute_result"
    }
   ],
   "source": [
    "make_model(0,1,0,hyun)"
   ]
  },
  {
   "cell_type": "code",
   "execution_count": 171,
   "metadata": {},
   "outputs": [
    {
     "name": "stderr",
     "output_type": "stream",
     "text": [
      "/home/aiffel42/anaconda3/envs/aiffel/lib/python3.8/site-packages/statsmodels/tsa/base/tsa_model.py:216: ValueWarning: A date index has been provided, but it has no associated frequency information and so will be ignored when e.g. forecasting.\n",
      "  warnings.warn('A date index has been provided, but it has no'\n",
      "/home/aiffel42/anaconda3/envs/aiffel/lib/python3.8/site-packages/statsmodels/tsa/base/tsa_model.py:216: ValueWarning: A date index has been provided, but it has no associated frequency information and so will be ignored when e.g. forecasting.\n",
      "  warnings.warn('A date index has been provided, but it has no'\n"
     ]
    },
    {
     "data": {
      "text/plain": [
       "'MAPE: 20.33%'"
      ]
     },
     "execution_count": 171,
     "metadata": {},
     "output_type": "execute_result"
    }
   ],
   "source": [
    "make_model(1,2,0,hyun)"
   ]
  },
  {
   "cell_type": "code",
   "execution_count": 172,
   "metadata": {},
   "outputs": [
    {
     "name": "stderr",
     "output_type": "stream",
     "text": [
      "/home/aiffel42/anaconda3/envs/aiffel/lib/python3.8/site-packages/statsmodels/tsa/base/tsa_model.py:216: ValueWarning: A date index has been provided, but it has no associated frequency information and so will be ignored when e.g. forecasting.\n",
      "  warnings.warn('A date index has been provided, but it has no'\n",
      "/home/aiffel42/anaconda3/envs/aiffel/lib/python3.8/site-packages/statsmodels/tsa/base/tsa_model.py:216: ValueWarning: A date index has been provided, but it has no associated frequency information and so will be ignored when e.g. forecasting.\n",
      "  warnings.warn('A date index has been provided, but it has no'\n"
     ]
    },
    {
     "data": {
      "text/plain": [
       "'MAPE: 20.33%'"
      ]
     },
     "execution_count": 172,
     "metadata": {},
     "output_type": "execute_result"
    }
   ],
   "source": [
    "make_model(8,2,0,hyun)"
   ]
  },
  {
   "cell_type": "code",
   "execution_count": 173,
   "metadata": {},
   "outputs": [
    {
     "name": "stderr",
     "output_type": "stream",
     "text": [
      "/home/aiffel42/anaconda3/envs/aiffel/lib/python3.8/site-packages/statsmodels/tsa/base/tsa_model.py:216: ValueWarning: A date index has been provided, but it has no associated frequency information and so will be ignored when e.g. forecasting.\n",
      "  warnings.warn('A date index has been provided, but it has no'\n",
      "/home/aiffel42/anaconda3/envs/aiffel/lib/python3.8/site-packages/statsmodels/tsa/base/tsa_model.py:216: ValueWarning: A date index has been provided, but it has no associated frequency information and so will be ignored when e.g. forecasting.\n",
      "  warnings.warn('A date index has been provided, but it has no'\n"
     ]
    },
    {
     "data": {
      "text/plain": [
       "'MAPE: 252.85%'"
      ]
     },
     "execution_count": 173,
     "metadata": {},
     "output_type": "execute_result"
    }
   ],
   "source": [
    "make_model(12,2,0,hyun)"
   ]
  },
  {
   "cell_type": "code",
   "execution_count": 174,
   "metadata": {},
   "outputs": [
    {
     "name": "stderr",
     "output_type": "stream",
     "text": [
      "/home/aiffel42/anaconda3/envs/aiffel/lib/python3.8/site-packages/statsmodels/tsa/base/tsa_model.py:216: ValueWarning: A date index has been provided, but it has no associated frequency information and so will be ignored when e.g. forecasting.\n",
      "  warnings.warn('A date index has been provided, but it has no'\n",
      "/home/aiffel42/anaconda3/envs/aiffel/lib/python3.8/site-packages/statsmodels/tsa/base/tsa_model.py:216: ValueWarning: A date index has been provided, but it has no associated frequency information and so will be ignored when e.g. forecasting.\n",
      "  warnings.warn('A date index has been provided, but it has no'\n"
     ]
    },
    {
     "data": {
      "text/plain": [
       "'MAPE: 20.33%'"
      ]
     },
     "execution_count": 174,
     "metadata": {},
     "output_type": "execute_result"
    }
   ],
   "source": [
    "make_model(4,2,0,hyun)"
   ]
  },
  {
   "cell_type": "code",
   "execution_count": 175,
   "metadata": {},
   "outputs": [
    {
     "name": "stderr",
     "output_type": "stream",
     "text": [
      "/home/aiffel42/anaconda3/envs/aiffel/lib/python3.8/site-packages/statsmodels/tsa/base/tsa_model.py:216: ValueWarning: A date index has been provided, but it has no associated frequency information and so will be ignored when e.g. forecasting.\n",
      "  warnings.warn('A date index has been provided, but it has no'\n",
      "/home/aiffel42/anaconda3/envs/aiffel/lib/python3.8/site-packages/statsmodels/tsa/base/tsa_model.py:216: ValueWarning: A date index has been provided, but it has no associated frequency information and so will be ignored when e.g. forecasting.\n",
      "  warnings.warn('A date index has been provided, but it has no'\n"
     ]
    },
    {
     "data": {
      "text/plain": [
       "'MAPE: 10.54%'"
      ]
     },
     "execution_count": 175,
     "metadata": {},
     "output_type": "execute_result"
    }
   ],
   "source": [
    "make_model(0,2,1,hyun)"
   ]
  },
  {
   "cell_type": "code",
   "execution_count": 176,
   "metadata": {},
   "outputs": [
    {
     "name": "stderr",
     "output_type": "stream",
     "text": [
      "/home/aiffel42/anaconda3/envs/aiffel/lib/python3.8/site-packages/statsmodels/tsa/base/tsa_model.py:216: ValueWarning: A date index has been provided, but it has no associated frequency information and so will be ignored when e.g. forecasting.\n",
      "  warnings.warn('A date index has been provided, but it has no'\n",
      "/home/aiffel42/anaconda3/envs/aiffel/lib/python3.8/site-packages/statsmodels/tsa/base/tsa_model.py:216: ValueWarning: A date index has been provided, but it has no associated frequency information and so will be ignored when e.g. forecasting.\n",
      "  warnings.warn('A date index has been provided, but it has no'\n"
     ]
    },
    {
     "data": {
      "text/plain": [
       "'MAPE: 10.55%'"
      ]
     },
     "execution_count": 176,
     "metadata": {},
     "output_type": "execute_result"
    }
   ],
   "source": [
    "make_model(0,2,2,hyun)"
   ]
  },
  {
   "cell_type": "code",
   "execution_count": 177,
   "metadata": {},
   "outputs": [
    {
     "name": "stderr",
     "output_type": "stream",
     "text": [
      "/home/aiffel42/anaconda3/envs/aiffel/lib/python3.8/site-packages/statsmodels/tsa/base/tsa_model.py:216: ValueWarning: A date index has been provided, but it has no associated frequency information and so will be ignored when e.g. forecasting.\n",
      "  warnings.warn('A date index has been provided, but it has no'\n",
      "/home/aiffel42/anaconda3/envs/aiffel/lib/python3.8/site-packages/statsmodels/tsa/base/tsa_model.py:216: ValueWarning: A date index has been provided, but it has no associated frequency information and so will be ignored when e.g. forecasting.\n",
      "  warnings.warn('A date index has been provided, but it has no'\n"
     ]
    },
    {
     "data": {
      "text/plain": [
       "'MAPE: 10.46%'"
      ]
     },
     "execution_count": 177,
     "metadata": {},
     "output_type": "execute_result"
    }
   ],
   "source": [
    "make_model(0,2,4,hyun)"
   ]
  },
  {
   "cell_type": "code",
   "execution_count": 178,
   "metadata": {},
   "outputs": [
    {
     "name": "stderr",
     "output_type": "stream",
     "text": [
      "/home/aiffel42/anaconda3/envs/aiffel/lib/python3.8/site-packages/statsmodels/tsa/base/tsa_model.py:216: ValueWarning: A date index has been provided, but it has no associated frequency information and so will be ignored when e.g. forecasting.\n",
      "  warnings.warn('A date index has been provided, but it has no'\n",
      "/home/aiffel42/anaconda3/envs/aiffel/lib/python3.8/site-packages/statsmodels/tsa/base/tsa_model.py:216: ValueWarning: A date index has been provided, but it has no associated frequency information and so will be ignored when e.g. forecasting.\n",
      "  warnings.warn('A date index has been provided, but it has no'\n"
     ]
    },
    {
     "data": {
      "text/plain": [
       "'MAPE: 10.40%'"
      ]
     },
     "execution_count": 178,
     "metadata": {},
     "output_type": "execute_result"
    }
   ],
   "source": [
    "make_model(0,2,6,hyun)"
   ]
  },
  {
   "cell_type": "code",
   "execution_count": 179,
   "metadata": {},
   "outputs": [
    {
     "name": "stderr",
     "output_type": "stream",
     "text": [
      "/home/aiffel42/anaconda3/envs/aiffel/lib/python3.8/site-packages/statsmodels/tsa/base/tsa_model.py:216: ValueWarning: A date index has been provided, but it has no associated frequency information and so will be ignored when e.g. forecasting.\n",
      "  warnings.warn('A date index has been provided, but it has no'\n",
      "/home/aiffel42/anaconda3/envs/aiffel/lib/python3.8/site-packages/statsmodels/tsa/base/tsa_model.py:216: ValueWarning: A date index has been provided, but it has no associated frequency information and so will be ignored when e.g. forecasting.\n",
      "  warnings.warn('A date index has been provided, but it has no'\n"
     ]
    },
    {
     "data": {
      "text/plain": [
       "'MAPE: 10.29%'"
      ]
     },
     "execution_count": 179,
     "metadata": {},
     "output_type": "execute_result"
    }
   ],
   "source": [
    "make_model(0,2,8,hyun)"
   ]
  },
  {
   "cell_type": "code",
   "execution_count": 180,
   "metadata": {},
   "outputs": [
    {
     "name": "stderr",
     "output_type": "stream",
     "text": [
      "/home/aiffel42/anaconda3/envs/aiffel/lib/python3.8/site-packages/statsmodels/tsa/base/tsa_model.py:216: ValueWarning: A date index has been provided, but it has no associated frequency information and so will be ignored when e.g. forecasting.\n",
      "  warnings.warn('A date index has been provided, but it has no'\n",
      "/home/aiffel42/anaconda3/envs/aiffel/lib/python3.8/site-packages/statsmodels/tsa/base/tsa_model.py:216: ValueWarning: A date index has been provided, but it has no associated frequency information and so will be ignored when e.g. forecasting.\n",
      "  warnings.warn('A date index has been provided, but it has no'\n"
     ]
    },
    {
     "data": {
      "text/plain": [
       "'MAPE: 10.04%'"
      ]
     },
     "execution_count": 180,
     "metadata": {},
     "output_type": "execute_result"
    }
   ],
   "source": [
    "make_model(0,2,10,hyun)"
   ]
  },
  {
   "cell_type": "code",
   "execution_count": 181,
   "metadata": {},
   "outputs": [
    {
     "name": "stderr",
     "output_type": "stream",
     "text": [
      "/home/aiffel42/anaconda3/envs/aiffel/lib/python3.8/site-packages/statsmodels/tsa/base/tsa_model.py:216: ValueWarning: A date index has been provided, but it has no associated frequency information and so will be ignored when e.g. forecasting.\n",
      "  warnings.warn('A date index has been provided, but it has no'\n",
      "/home/aiffel42/anaconda3/envs/aiffel/lib/python3.8/site-packages/statsmodels/tsa/base/tsa_model.py:216: ValueWarning: A date index has been provided, but it has no associated frequency information and so will be ignored when e.g. forecasting.\n",
      "  warnings.warn('A date index has been provided, but it has no'\n"
     ]
    },
    {
     "data": {
      "text/plain": [
       "'MAPE: 10.33%'"
      ]
     },
     "execution_count": 181,
     "metadata": {},
     "output_type": "execute_result"
    }
   ],
   "source": [
    "make_model(0,2,12,hyun)"
   ]
  },
  {
   "cell_type": "code",
   "execution_count": 182,
   "metadata": {},
   "outputs": [
    {
     "name": "stderr",
     "output_type": "stream",
     "text": [
      "/home/aiffel42/anaconda3/envs/aiffel/lib/python3.8/site-packages/statsmodels/tsa/base/tsa_model.py:216: ValueWarning: A date index has been provided, but it has no associated frequency information and so will be ignored when e.g. forecasting.\n",
      "  warnings.warn('A date index has been provided, but it has no'\n",
      "/home/aiffel42/anaconda3/envs/aiffel/lib/python3.8/site-packages/statsmodels/tsa/base/tsa_model.py:216: ValueWarning: A date index has been provided, but it has no associated frequency information and so will be ignored when e.g. forecasting.\n",
      "  warnings.warn('A date index has been provided, but it has no'\n",
      "/home/aiffel42/anaconda3/envs/aiffel/lib/python3.8/site-packages/statsmodels/tsa/tsatools.py:689: RuntimeWarning: overflow encountered in exp\n",
      "  newparams = ((1-np.exp(-params))/(1+np.exp(-params))).copy()\n",
      "/home/aiffel42/anaconda3/envs/aiffel/lib/python3.8/site-packages/statsmodels/tsa/tsatools.py:689: RuntimeWarning: invalid value encountered in true_divide\n",
      "  newparams = ((1-np.exp(-params))/(1+np.exp(-params))).copy()\n",
      "/home/aiffel42/anaconda3/envs/aiffel/lib/python3.8/site-packages/statsmodels/tsa/tsatools.py:690: RuntimeWarning: overflow encountered in exp\n",
      "  tmp = ((1-np.exp(-params))/(1+np.exp(-params))).copy()\n",
      "/home/aiffel42/anaconda3/envs/aiffel/lib/python3.8/site-packages/statsmodels/tsa/tsatools.py:690: RuntimeWarning: invalid value encountered in true_divide\n",
      "  tmp = ((1-np.exp(-params))/(1+np.exp(-params))).copy()\n"
     ]
    },
    {
     "data": {
      "text/plain": [
       "'MAPE: 10.11%'"
      ]
     },
     "execution_count": 182,
     "metadata": {},
     "output_type": "execute_result"
    }
   ],
   "source": [
    "make_model(0,2,11,hyun)"
   ]
  },
  {
   "cell_type": "code",
   "execution_count": 183,
   "metadata": {},
   "outputs": [
    {
     "name": "stderr",
     "output_type": "stream",
     "text": [
      "/home/aiffel42/anaconda3/envs/aiffel/lib/python3.8/site-packages/statsmodels/tsa/base/tsa_model.py:216: ValueWarning: A date index has been provided, but it has no associated frequency information and so will be ignored when e.g. forecasting.\n",
      "  warnings.warn('A date index has been provided, but it has no'\n",
      "/home/aiffel42/anaconda3/envs/aiffel/lib/python3.8/site-packages/statsmodels/tsa/base/tsa_model.py:216: ValueWarning: A date index has been provided, but it has no associated frequency information and so will be ignored when e.g. forecasting.\n",
      "  warnings.warn('A date index has been provided, but it has no'\n"
     ]
    },
    {
     "data": {
      "text/plain": [
       "'MAPE: 10.28%'"
      ]
     },
     "execution_count": 183,
     "metadata": {},
     "output_type": "execute_result"
    }
   ],
   "source": [
    "make_model(0,2,9,hyun)"
   ]
  },
  {
   "cell_type": "code",
   "execution_count": null,
   "metadata": {},
   "outputs": [],
   "source": []
  },
  {
   "cell_type": "markdown",
   "metadata": {},
   "source": [
    "주가_삼성sdi\n",
    "====\n",
    "- (6,1,0)일 때 min_MAPE = 10.94%"
   ]
  },
  {
   "cell_type": "code",
   "execution_count": 184,
   "metadata": {},
   "outputs": [
    {
     "data": {
      "text/plain": [
       "Date\n",
       "2000-01-04     50400.0\n",
       "2000-01-05     47500.0\n",
       "2000-01-06     43000.0\n",
       "2000-01-07     41000.0\n",
       "2000-01-10     41600.0\n",
       "                ...   \n",
       "2020-08-07    488000.0\n",
       "2020-08-10    473500.0\n",
       "2020-08-11    472500.0\n",
       "2020-08-12    475500.0\n",
       "2020-08-13    471000.0\n",
       "Name: Close, Length: 5187, dtype: float64"
      ]
     },
     "execution_count": 184,
     "metadata": {},
     "output_type": "execute_result"
    }
   ],
   "source": [
    "# def pre_set(data):\n",
    "# def \n",
    "# diff_n(data):\n",
    "# def make_model(p,d,q,data):\n",
    "sdi_path = os.getenv(\"HOME\") + '/aiffel/stock_prediction/006400.KS.csv'\n",
    "sdi_data = pd.read_csv(sdi_path, index_col='Date', parse_dates=True)\n",
    "sdi = sdi_data['Close']\n",
    "sdi"
   ]
  },
  {
   "cell_type": "code",
   "execution_count": 185,
   "metadata": {},
   "outputs": [
    {
     "data": {
      "text/plain": [
       "Date\n",
       "2000-01-04    10.827746\n",
       "2000-01-05    10.768485\n",
       "2000-01-06    10.668955\n",
       "2000-01-07    10.621327\n",
       "2000-01-10    10.635855\n",
       "                ...    \n",
       "2020-08-07    13.098071\n",
       "2020-08-10    13.067907\n",
       "2020-08-11    13.065793\n",
       "2020-08-12    13.072122\n",
       "2020-08-13    13.062613\n",
       "Name: Close, Length: 5187, dtype: float64"
      ]
     },
     "execution_count": 185,
     "metadata": {},
     "output_type": "execute_result"
    }
   ],
   "source": [
    "sdi = pre_set(sdi)\n",
    "sdi"
   ]
  },
  {
   "cell_type": "code",
   "execution_count": 186,
   "metadata": {},
   "outputs": [
    {
     "data": {
      "image/png": "[encoded data removed]",
      "text/plain": [
       "<Figure size 1080x432 with 1 Axes>"
      ]
     },
     "metadata": {
      "needs_background": "light"
     },
     "output_type": "display_data"
    },
    {
     "data": {
      "image/png": "[encoded data removed]",
      "text/plain": [
       "<Figure size 1080x432 with 1 Axes>"
      ]
     },
     "metadata": {
      "needs_background": "light"
     },
     "output_type": "display_data"
    }
   ],
   "source": [
    "show_graph(sdi)"
   ]
  },
  {
   "cell_type": "code",
   "execution_count": 187,
   "metadata": {},
   "outputs": [
    {
     "name": "stdout",
     "output_type": "stream",
     "text": [
      "Results of Dickey-Fuller Test:\n",
      "Test Statistic                  -21.335590\n",
      "p-value                           0.000000\n",
      "#Lags Used                       10.000000\n",
      "Number of Observations Used    5175.000000\n",
      "Critical Value (1%)              -3.431614\n",
      "Critical Value (5%)              -2.862099\n",
      "Critical Value (10%)             -2.567067\n",
      "dtype: float64\n",
      "Results of Dickey-Fuller Test:\n",
      "Test Statistic                  -20.606966\n",
      "p-value                           0.000000\n",
      "#Lags Used                       33.000000\n",
      "Number of Observations Used    5151.000000\n",
      "Critical Value (1%)              -3.431620\n",
      "Critical Value (5%)              -2.862101\n",
      "Critical Value (10%)             -2.567069\n",
      "dtype: float64\n"
     ]
    },
    {
     "data": {
      "text/plain": [
       "(None, None)"
      ]
     },
     "execution_count": 187,
     "metadata": {},
     "output_type": "execute_result"
    }
   ],
   "source": [
    "diff_n(sdi)"
   ]
  },
  {
   "cell_type": "code",
   "execution_count": 188,
   "metadata": {},
   "outputs": [
    {
     "name": "stderr",
     "output_type": "stream",
     "text": [
      "/home/aiffel42/anaconda3/envs/aiffel/lib/python3.8/site-packages/statsmodels/tsa/base/tsa_model.py:216: ValueWarning: A date index has been provided, but it has no associated frequency information and so will be ignored when e.g. forecasting.\n",
      "  warnings.warn('A date index has been provided, but it has no'\n"
     ]
    },
    {
     "data": {
      "text/plain": [
       "'MAPE: 58.49%'"
      ]
     },
     "execution_count": 188,
     "metadata": {},
     "output_type": "execute_result"
    }
   ],
   "source": [
    "make_model(0,0,0,sdi)"
   ]
  },
  {
   "cell_type": "code",
   "execution_count": 189,
   "metadata": {},
   "outputs": [
    {
     "name": "stderr",
     "output_type": "stream",
     "text": [
      "/home/aiffel42/anaconda3/envs/aiffel/lib/python3.8/site-packages/statsmodels/tsa/base/tsa_model.py:216: ValueWarning: A date index has been provided, but it has no associated frequency information and so will be ignored when e.g. forecasting.\n",
      "  warnings.warn('A date index has been provided, but it has no'\n",
      "/home/aiffel42/anaconda3/envs/aiffel/lib/python3.8/site-packages/statsmodels/tsa/base/tsa_model.py:216: ValueWarning: A date index has been provided, but it has no associated frequency information and so will be ignored when e.g. forecasting.\n",
      "  warnings.warn('A date index has been provided, but it has no'\n"
     ]
    },
    {
     "data": {
      "text/plain": [
       "'MAPE: 11.15%'"
      ]
     },
     "execution_count": 189,
     "metadata": {},
     "output_type": "execute_result"
    }
   ],
   "source": [
    "make_model(0,1,0,sdi)"
   ]
  },
  {
   "cell_type": "code",
   "execution_count": 191,
   "metadata": {},
   "outputs": [
    {
     "name": "stderr",
     "output_type": "stream",
     "text": [
      "/home/aiffel42/anaconda3/envs/aiffel/lib/python3.8/site-packages/statsmodels/tsa/base/tsa_model.py:216: ValueWarning: A date index has been provided, but it has no associated frequency information and so will be ignored when e.g. forecasting.\n",
      "  warnings.warn('A date index has been provided, but it has no'\n",
      "/home/aiffel42/anaconda3/envs/aiffel/lib/python3.8/site-packages/statsmodels/tsa/base/tsa_model.py:216: ValueWarning: A date index has been provided, but it has no associated frequency information and so will be ignored when e.g. forecasting.\n",
      "  warnings.warn('A date index has been provided, but it has no'\n"
     ]
    },
    {
     "data": {
      "text/plain": [
       "'MAPE: 11.28%'"
      ]
     },
     "execution_count": 191,
     "metadata": {},
     "output_type": "execute_result"
    }
   ],
   "source": [
    "make_model(1,1,0,sdi)"
   ]
  },
  {
   "cell_type": "code",
   "execution_count": 192,
   "metadata": {},
   "outputs": [
    {
     "name": "stderr",
     "output_type": "stream",
     "text": [
      "/home/aiffel42/anaconda3/envs/aiffel/lib/python3.8/site-packages/statsmodels/tsa/base/tsa_model.py:216: ValueWarning: A date index has been provided, but it has no associated frequency information and so will be ignored when e.g. forecasting.\n",
      "  warnings.warn('A date index has been provided, but it has no'\n",
      "/home/aiffel42/anaconda3/envs/aiffel/lib/python3.8/site-packages/statsmodels/tsa/base/tsa_model.py:216: ValueWarning: A date index has been provided, but it has no associated frequency information and so will be ignored when e.g. forecasting.\n",
      "  warnings.warn('A date index has been provided, but it has no'\n"
     ]
    },
    {
     "data": {
      "text/plain": [
       "'MAPE: 10.99%'"
      ]
     },
     "execution_count": 192,
     "metadata": {},
     "output_type": "execute_result"
    }
   ],
   "source": [
    "make_model(4,1,0,sdi)"
   ]
  },
  {
   "cell_type": "code",
   "execution_count": 193,
   "metadata": {},
   "outputs": [
    {
     "name": "stderr",
     "output_type": "stream",
     "text": [
      "/home/aiffel42/anaconda3/envs/aiffel/lib/python3.8/site-packages/statsmodels/tsa/base/tsa_model.py:216: ValueWarning: A date index has been provided, but it has no associated frequency information and so will be ignored when e.g. forecasting.\n",
      "  warnings.warn('A date index has been provided, but it has no'\n",
      "/home/aiffel42/anaconda3/envs/aiffel/lib/python3.8/site-packages/statsmodels/tsa/base/tsa_model.py:216: ValueWarning: A date index has been provided, but it has no associated frequency information and so will be ignored when e.g. forecasting.\n",
      "  warnings.warn('A date index has been provided, but it has no'\n"
     ]
    },
    {
     "data": {
      "text/plain": [
       "'MAPE: 10.97%'"
      ]
     },
     "execution_count": 193,
     "metadata": {},
     "output_type": "execute_result"
    }
   ],
   "source": [
    "make_model(8,1,0,sdi)"
   ]
  },
  {
   "cell_type": "code",
   "execution_count": 194,
   "metadata": {},
   "outputs": [
    {
     "name": "stderr",
     "output_type": "stream",
     "text": [
      "/home/aiffel42/anaconda3/envs/aiffel/lib/python3.8/site-packages/statsmodels/tsa/base/tsa_model.py:216: ValueWarning: A date index has been provided, but it has no associated frequency information and so will be ignored when e.g. forecasting.\n",
      "  warnings.warn('A date index has been provided, but it has no'\n",
      "/home/aiffel42/anaconda3/envs/aiffel/lib/python3.8/site-packages/statsmodels/tsa/base/tsa_model.py:216: ValueWarning: A date index has been provided, but it has no associated frequency information and so will be ignored when e.g. forecasting.\n",
      "  warnings.warn('A date index has been provided, but it has no'\n"
     ]
    },
    {
     "data": {
      "text/plain": [
       "'MAPE: 10.95%'"
      ]
     },
     "execution_count": 194,
     "metadata": {},
     "output_type": "execute_result"
    }
   ],
   "source": [
    "make_model(10,1,0,sdi)"
   ]
  },
  {
   "cell_type": "code",
   "execution_count": 195,
   "metadata": {},
   "outputs": [
    {
     "name": "stderr",
     "output_type": "stream",
     "text": [
      "/home/aiffel42/anaconda3/envs/aiffel/lib/python3.8/site-packages/statsmodels/tsa/base/tsa_model.py:216: ValueWarning: A date index has been provided, but it has no associated frequency information and so will be ignored when e.g. forecasting.\n",
      "  warnings.warn('A date index has been provided, but it has no'\n",
      "/home/aiffel42/anaconda3/envs/aiffel/lib/python3.8/site-packages/statsmodels/tsa/base/tsa_model.py:216: ValueWarning: A date index has been provided, but it has no associated frequency information and so will be ignored when e.g. forecasting.\n",
      "  warnings.warn('A date index has been provided, but it has no'\n"
     ]
    },
    {
     "data": {
      "text/plain": [
       "'MAPE: 10.94%'"
      ]
     },
     "execution_count": 195,
     "metadata": {},
     "output_type": "execute_result"
    }
   ],
   "source": [
    "make_model(6,1,0,sdi)"
   ]
  },
  {
   "cell_type": "code",
   "execution_count": 196,
   "metadata": {},
   "outputs": [
    {
     "name": "stderr",
     "output_type": "stream",
     "text": [
      "/home/aiffel42/anaconda3/envs/aiffel/lib/python3.8/site-packages/statsmodels/tsa/base/tsa_model.py:216: ValueWarning: A date index has been provided, but it has no associated frequency information and so will be ignored when e.g. forecasting.\n",
      "  warnings.warn('A date index has been provided, but it has no'\n",
      "/home/aiffel42/anaconda3/envs/aiffel/lib/python3.8/site-packages/statsmodels/tsa/base/tsa_model.py:216: ValueWarning: A date index has been provided, but it has no associated frequency information and so will be ignored when e.g. forecasting.\n",
      "  warnings.warn('A date index has been provided, but it has no'\n"
     ]
    },
    {
     "data": {
      "text/plain": [
       "'MAPE: 10.94%'"
      ]
     },
     "execution_count": 196,
     "metadata": {},
     "output_type": "execute_result"
    }
   ],
   "source": [
    "make_model(5,1,0,sdi)"
   ]
  },
  {
   "cell_type": "code",
   "execution_count": 197,
   "metadata": {},
   "outputs": [
    {
     "name": "stderr",
     "output_type": "stream",
     "text": [
      "/home/aiffel42/anaconda3/envs/aiffel/lib/python3.8/site-packages/statsmodels/tsa/base/tsa_model.py:216: ValueWarning: A date index has been provided, but it has no associated frequency information and so will be ignored when e.g. forecasting.\n",
      "  warnings.warn('A date index has been provided, but it has no'\n",
      "/home/aiffel42/anaconda3/envs/aiffel/lib/python3.8/site-packages/statsmodels/tsa/base/tsa_model.py:216: ValueWarning: A date index has been provided, but it has no associated frequency information and so will be ignored when e.g. forecasting.\n",
      "  warnings.warn('A date index has been provided, but it has no'\n"
     ]
    },
    {
     "data": {
      "text/plain": [
       "'MAPE: 10.96%'"
      ]
     },
     "execution_count": 197,
     "metadata": {},
     "output_type": "execute_result"
    }
   ],
   "source": [
    "make_model(7,1,0,sdi)"
   ]
  },
  {
   "cell_type": "code",
   "execution_count": 198,
   "metadata": {},
   "outputs": [
    {
     "name": "stderr",
     "output_type": "stream",
     "text": [
      "/home/aiffel42/anaconda3/envs/aiffel/lib/python3.8/site-packages/statsmodels/tsa/base/tsa_model.py:216: ValueWarning: A date index has been provided, but it has no associated frequency information and so will be ignored when e.g. forecasting.\n",
      "  warnings.warn('A date index has been provided, but it has no'\n",
      "/home/aiffel42/anaconda3/envs/aiffel/lib/python3.8/site-packages/statsmodels/tsa/base/tsa_model.py:216: ValueWarning: A date index has been provided, but it has no associated frequency information and so will be ignored when e.g. forecasting.\n",
      "  warnings.warn('A date index has been provided, but it has no'\n"
     ]
    },
    {
     "data": {
      "text/plain": [
       "'MAPE: 10.97%'"
      ]
     },
     "execution_count": 198,
     "metadata": {},
     "output_type": "execute_result"
    }
   ],
   "source": [
    "make_model(12,1,0,sdi)"
   ]
  },
  {
   "cell_type": "code",
   "execution_count": 199,
   "metadata": {},
   "outputs": [
    {
     "name": "stderr",
     "output_type": "stream",
     "text": [
      "/home/aiffel42/anaconda3/envs/aiffel/lib/python3.8/site-packages/statsmodels/tsa/base/tsa_model.py:216: ValueWarning: A date index has been provided, but it has no associated frequency information and so will be ignored when e.g. forecasting.\n",
      "  warnings.warn('A date index has been provided, but it has no'\n",
      "/home/aiffel42/anaconda3/envs/aiffel/lib/python3.8/site-packages/statsmodels/tsa/base/tsa_model.py:216: ValueWarning: A date index has been provided, but it has no associated frequency information and so will be ignored when e.g. forecasting.\n",
      "  warnings.warn('A date index has been provided, but it has no'\n"
     ]
    },
    {
     "data": {
      "text/plain": [
       "'MAPE: 11.28%'"
      ]
     },
     "execution_count": 199,
     "metadata": {},
     "output_type": "execute_result"
    }
   ],
   "source": [
    "make_model(0,1,1,sdi)"
   ]
  },
  {
   "cell_type": "code",
   "execution_count": 200,
   "metadata": {},
   "outputs": [
    {
     "name": "stderr",
     "output_type": "stream",
     "text": [
      "/home/aiffel42/anaconda3/envs/aiffel/lib/python3.8/site-packages/statsmodels/tsa/base/tsa_model.py:216: ValueWarning: A date index has been provided, but it has no associated frequency information and so will be ignored when e.g. forecasting.\n",
      "  warnings.warn('A date index has been provided, but it has no'\n",
      "/home/aiffel42/anaconda3/envs/aiffel/lib/python3.8/site-packages/statsmodels/tsa/base/tsa_model.py:216: ValueWarning: A date index has been provided, but it has no associated frequency information and so will be ignored when e.g. forecasting.\n",
      "  warnings.warn('A date index has been provided, but it has no'\n"
     ]
    },
    {
     "data": {
      "text/plain": [
       "'MAPE: 11.16%'"
      ]
     },
     "execution_count": 200,
     "metadata": {},
     "output_type": "execute_result"
    }
   ],
   "source": [
    "make_model(0,1,2,sdi)"
   ]
  },
  {
   "cell_type": "code",
   "execution_count": 201,
   "metadata": {},
   "outputs": [
    {
     "name": "stderr",
     "output_type": "stream",
     "text": [
      "/home/aiffel42/anaconda3/envs/aiffel/lib/python3.8/site-packages/statsmodels/tsa/base/tsa_model.py:216: ValueWarning: A date index has been provided, but it has no associated frequency information and so will be ignored when e.g. forecasting.\n",
      "  warnings.warn('A date index has been provided, but it has no'\n",
      "/home/aiffel42/anaconda3/envs/aiffel/lib/python3.8/site-packages/statsmodels/tsa/base/tsa_model.py:216: ValueWarning: A date index has been provided, but it has no associated frequency information and so will be ignored when e.g. forecasting.\n",
      "  warnings.warn('A date index has been provided, but it has no'\n"
     ]
    },
    {
     "data": {
      "text/plain": [
       "'MAPE: 10.99%'"
      ]
     },
     "execution_count": 201,
     "metadata": {},
     "output_type": "execute_result"
    }
   ],
   "source": [
    "make_model(0,1,4,sdi)"
   ]
  },
  {
   "cell_type": "code",
   "execution_count": 202,
   "metadata": {},
   "outputs": [
    {
     "name": "stderr",
     "output_type": "stream",
     "text": [
      "/home/aiffel42/anaconda3/envs/aiffel/lib/python3.8/site-packages/statsmodels/tsa/base/tsa_model.py:216: ValueWarning: A date index has been provided, but it has no associated frequency information and so will be ignored when e.g. forecasting.\n",
      "  warnings.warn('A date index has been provided, but it has no'\n",
      "/home/aiffel42/anaconda3/envs/aiffel/lib/python3.8/site-packages/statsmodels/tsa/base/tsa_model.py:216: ValueWarning: A date index has been provided, but it has no associated frequency information and so will be ignored when e.g. forecasting.\n",
      "  warnings.warn('A date index has been provided, but it has no'\n"
     ]
    },
    {
     "data": {
      "text/plain": [
       "'MAPE: 10.95%'"
      ]
     },
     "execution_count": 202,
     "metadata": {},
     "output_type": "execute_result"
    }
   ],
   "source": [
    "make_model(0,1,6,sdi)"
   ]
  },
  {
   "cell_type": "code",
   "execution_count": 203,
   "metadata": {},
   "outputs": [
    {
     "name": "stderr",
     "output_type": "stream",
     "text": [
      "/home/aiffel42/anaconda3/envs/aiffel/lib/python3.8/site-packages/statsmodels/tsa/base/tsa_model.py:216: ValueWarning: A date index has been provided, but it has no associated frequency information and so will be ignored when e.g. forecasting.\n",
      "  warnings.warn('A date index has been provided, but it has no'\n",
      "/home/aiffel42/anaconda3/envs/aiffel/lib/python3.8/site-packages/statsmodels/tsa/base/tsa_model.py:216: ValueWarning: A date index has been provided, but it has no associated frequency information and so will be ignored when e.g. forecasting.\n",
      "  warnings.warn('A date index has been provided, but it has no'\n"
     ]
    },
    {
     "data": {
      "text/plain": [
       "'MAPE: 10.97%'"
      ]
     },
     "execution_count": 203,
     "metadata": {},
     "output_type": "execute_result"
    }
   ],
   "source": [
    "make_model(0,1,8,sdi)"
   ]
  },
  {
   "cell_type": "code",
   "execution_count": 204,
   "metadata": {},
   "outputs": [
    {
     "name": "stderr",
     "output_type": "stream",
     "text": [
      "/home/aiffel42/anaconda3/envs/aiffel/lib/python3.8/site-packages/statsmodels/tsa/base/tsa_model.py:216: ValueWarning: A date index has been provided, but it has no associated frequency information and so will be ignored when e.g. forecasting.\n",
      "  warnings.warn('A date index has been provided, but it has no'\n",
      "/home/aiffel42/anaconda3/envs/aiffel/lib/python3.8/site-packages/statsmodels/tsa/base/tsa_model.py:216: ValueWarning: A date index has been provided, but it has no associated frequency information and so will be ignored when e.g. forecasting.\n",
      "  warnings.warn('A date index has been provided, but it has no'\n"
     ]
    },
    {
     "data": {
      "text/plain": [
       "'MAPE: 10.95%'"
      ]
     },
     "execution_count": 204,
     "metadata": {},
     "output_type": "execute_result"
    }
   ],
   "source": [
    "make_model(0,1,7,sdi)"
   ]
  },
  {
   "cell_type": "code",
   "execution_count": 211,
   "metadata": {},
   "outputs": [
    {
     "name": "stderr",
     "output_type": "stream",
     "text": [
      "/home/aiffel42/anaconda3/envs/aiffel/lib/python3.8/site-packages/statsmodels/tsa/base/tsa_model.py:216: ValueWarning: A date index has been provided, but it has no associated frequency information and so will be ignored when e.g. forecasting.\n",
      "  warnings.warn('A date index has been provided, but it has no'\n",
      "/home/aiffel42/anaconda3/envs/aiffel/lib/python3.8/site-packages/statsmodels/tsa/base/tsa_model.py:216: ValueWarning: A date index has been provided, but it has no associated frequency information and so will be ignored when e.g. forecasting.\n",
      "  warnings.warn('A date index has been provided, but it has no'\n",
      "/home/aiffel42/anaconda3/envs/aiffel/lib/python3.8/site-packages/statsmodels/base/model.py:547: HessianInversionWarning: Inverting hessian failed, no bse or cov_params available\n",
      "  warn('Inverting hessian failed, no bse or cov_params '\n",
      "/home/aiffel42/anaconda3/envs/aiffel/lib/python3.8/site-packages/statsmodels/base/model.py:567: ConvergenceWarning: Maximum Likelihood optimization failed to converge. Check mle_retvals\n",
      "  warn(\"Maximum Likelihood optimization failed to converge. \"\n"
     ]
    },
    {
     "data": {
      "text/plain": [
       "'MAPE: 10.96%'"
      ]
     },
     "execution_count": 211,
     "metadata": {},
     "output_type": "execute_result"
    }
   ],
   "source": [
    "make_model(5,1,5,sdi)"
   ]
  },
  {
   "cell_type": "code",
   "execution_count": 212,
   "metadata": {},
   "outputs": [
    {
     "name": "stderr",
     "output_type": "stream",
     "text": [
      "/home/aiffel42/anaconda3/envs/aiffel/lib/python3.8/site-packages/statsmodels/tsa/base/tsa_model.py:216: ValueWarning: A date index has been provided, but it has no associated frequency information and so will be ignored when e.g. forecasting.\n",
      "  warnings.warn('A date index has been provided, but it has no'\n",
      "/home/aiffel42/anaconda3/envs/aiffel/lib/python3.8/site-packages/statsmodels/tsa/base/tsa_model.py:216: ValueWarning: A date index has been provided, but it has no associated frequency information and so will be ignored when e.g. forecasting.\n",
      "  warnings.warn('A date index has been provided, but it has no'\n"
     ]
    },
    {
     "data": {
      "text/plain": [
       "'MAPE: 10.95%'"
      ]
     },
     "execution_count": 212,
     "metadata": {},
     "output_type": "execute_result"
    }
   ],
   "source": [
    "make_model(0,1,10,sdi)"
   ]
  },
  {
   "cell_type": "code",
   "execution_count": 213,
   "metadata": {},
   "outputs": [
    {
     "name": "stderr",
     "output_type": "stream",
     "text": [
      "/home/aiffel42/anaconda3/envs/aiffel/lib/python3.8/site-packages/statsmodels/tsa/base/tsa_model.py:216: ValueWarning: A date index has been provided, but it has no associated frequency information and so will be ignored when e.g. forecasting.\n",
      "  warnings.warn('A date index has been provided, but it has no'\n",
      "/home/aiffel42/anaconda3/envs/aiffel/lib/python3.8/site-packages/statsmodels/tsa/base/tsa_model.py:216: ValueWarning: A date index has been provided, but it has no associated frequency information and so will be ignored when e.g. forecasting.\n",
      "  warnings.warn('A date index has been provided, but it has no'\n"
     ]
    },
    {
     "data": {
      "text/plain": [
       "'MAPE: 10.96%'"
      ]
     },
     "execution_count": 213,
     "metadata": {},
     "output_type": "execute_result"
    }
   ],
   "source": [
    "make_model(0,1,12,sdi)"
   ]
  },
  {
   "cell_type": "code",
   "execution_count": 214,
   "metadata": {},
   "outputs": [
    {
     "name": "stderr",
     "output_type": "stream",
     "text": [
      "/home/aiffel42/anaconda3/envs/aiffel/lib/python3.8/site-packages/statsmodels/tsa/base/tsa_model.py:216: ValueWarning: A date index has been provided, but it has no associated frequency information and so will be ignored when e.g. forecasting.\n",
      "  warnings.warn('A date index has been provided, but it has no'\n",
      "/home/aiffel42/anaconda3/envs/aiffel/lib/python3.8/site-packages/statsmodels/tsa/base/tsa_model.py:216: ValueWarning: A date index has been provided, but it has no associated frequency information and so will be ignored when e.g. forecasting.\n",
      "  warnings.warn('A date index has been provided, but it has no'\n"
     ]
    },
    {
     "data": {
      "text/plain": [
       "'MAPE: 18.79%'"
      ]
     },
     "execution_count": 214,
     "metadata": {},
     "output_type": "execute_result"
    }
   ],
   "source": [
    "make_model(0,2,12,sdi)"
   ]
  },
  {
   "cell_type": "code",
   "execution_count": 215,
   "metadata": {},
   "outputs": [
    {
     "name": "stderr",
     "output_type": "stream",
     "text": [
      "/home/aiffel42/anaconda3/envs/aiffel/lib/python3.8/site-packages/statsmodels/tsa/base/tsa_model.py:216: ValueWarning: A date index has been provided, but it has no associated frequency information and so will be ignored when e.g. forecasting.\n",
      "  warnings.warn('A date index has been provided, but it has no'\n",
      "/home/aiffel42/anaconda3/envs/aiffel/lib/python3.8/site-packages/statsmodels/tsa/base/tsa_model.py:216: ValueWarning: A date index has been provided, but it has no associated frequency information and so will be ignored when e.g. forecasting.\n",
      "  warnings.warn('A date index has been provided, but it has no'\n"
     ]
    },
    {
     "data": {
      "text/plain": [
       "'MAPE: 828.80%'"
      ]
     },
     "execution_count": 215,
     "metadata": {},
     "output_type": "execute_result"
    }
   ],
   "source": [
    "make_model(12,2,0,sdi)"
   ]
  },
  {
   "cell_type": "code",
   "execution_count": null,
   "metadata": {},
   "outputs": [],
   "source": []
  },
  {
   "cell_type": "markdown",
   "metadata": {},
   "source": [
    "주가_Facebook\n",
    "====\n",
    "- aad"
   ]
  },
  {
   "cell_type": "code",
   "execution_count": null,
   "metadata": {},
   "outputs": [],
   "source": [
    "FB"
   ]
  },
  {
   "cell_type": "code",
   "execution_count": 29,
   "metadata": {},
   "outputs": [
    {
     "data": {
      "text/plain": [
       "Date\n",
       "2012-05-18     38.230000\n",
       "2012-05-21     34.029999\n",
       "2012-05-22     31.000000\n",
       "2012-05-23     32.000000\n",
       "2012-05-24     33.029999\n",
       "                 ...    \n",
       "2020-08-06    265.279999\n",
       "2020-08-07    268.440002\n",
       "2020-08-10    263.000000\n",
       "2020-08-11    256.130005\n",
       "2020-08-12    259.890015\n",
       "Name: Close, Length: 2072, dtype: float64"
      ]
     },
     "execution_count": 29,
     "metadata": {},
     "output_type": "execute_result"
    }
   ],
   "source": [
    "# def pre_set(data):\n",
    "# def show_graph(data):\n",
    "# diff_n(data):\n",
    "# def make_model(p,d,q,data):\n",
    "FB_path = os.getenv(\"HOME\") + '/aiffel/stock_prediction/FB.csv'\n",
    "FB_data = pd.read_csv(FB_path, index_col='Date', parse_dates=True)\n",
    "FB = FB_data['Close']\n",
    "FB"
   ]
  },
  {
   "cell_type": "code",
   "execution_count": 30,
   "metadata": {},
   "outputs": [
    {
     "data": {
      "text/plain": [
       "Date\n",
       "2012-05-18    3.643621\n",
       "2012-05-21    3.527242\n",
       "2012-05-22    3.433987\n",
       "2012-05-23    3.465736\n",
       "2012-05-24    3.497416\n",
       "                ...   \n",
       "2020-08-06    5.580786\n",
       "2020-08-07    5.592627\n",
       "2020-08-10    5.572154\n",
       "2020-08-11    5.545685\n",
       "2020-08-12    5.560259\n",
       "Name: Close, Length: 2072, dtype: float64"
      ]
     },
     "execution_count": 30,
     "metadata": {},
     "output_type": "execute_result"
    }
   ],
   "source": [
    "FB = pre_set(FB)\n",
    "FB"
   ]
  },
  {
   "cell_type": "code",
   "execution_count": 31,
   "metadata": {},
   "outputs": [
    {
     "data": {
      "image/png": "[encoded data removed]",
      "text/plain": [
       "<Figure size 432x288 with 1 Axes>"
      ]
     },
     "metadata": {
      "needs_background": "light"
     },
     "output_type": "display_data"
    },
    {
     "data": {
      "image/png": "[encoded data removed]",
      "text/plain": [
       "<Figure size 432x288 with 1 Axes>"
      ]
     },
     "metadata": {
      "needs_background": "light"
     },
     "output_type": "display_data"
    }
   ],
   "source": [
    "show_graph(FB)"
   ]
  },
  {
   "cell_type": "code",
   "execution_count": 32,
   "metadata": {},
   "outputs": [
    {
     "name": "stdout",
     "output_type": "stream",
     "text": [
      "Results of Dickey-Fuller Test:\n",
      "Test Statistic                -1.440184e+01\n",
      "p-value                        8.483075e-27\n",
      "#Lags Used                     1.000000e+01\n",
      "Number of Observations Used    2.060000e+03\n",
      "Critical Value (1%)           -3.433528e+00\n",
      "Critical Value (5%)           -2.862944e+00\n",
      "Critical Value (10%)          -2.567517e+00\n",
      "dtype: float64\n",
      "Results of Dickey-Fuller Test:\n",
      "Test Statistic                -1.733469e+01\n",
      "p-value                        5.384107e-30\n",
      "#Lags Used                     2.100000e+01\n",
      "Number of Observations Used    2.048000e+03\n",
      "Critical Value (1%)           -3.433547e+00\n",
      "Critical Value (5%)           -2.862952e+00\n",
      "Critical Value (10%)          -2.567522e+00\n",
      "dtype: float64\n"
     ]
    },
    {
     "data": {
      "text/plain": [
       "(None, None)"
      ]
     },
     "execution_count": 32,
     "metadata": {},
     "output_type": "execute_result"
    }
   ],
   "source": [
    "diff_n(FB)"
   ]
  },
  {
   "cell_type": "code",
   "execution_count": 37,
   "metadata": {},
   "outputs": [
    {
     "name": "stderr",
     "output_type": "stream",
     "text": [
      "/home/aiffel42/anaconda3/envs/aiffel/lib/python3.8/site-packages/statsmodels/tsa/base/tsa_model.py:216: ValueWarning: A date index has been provided, but it has no associated frequency information and so will be ignored when e.g. forecasting.\n",
      "  warnings.warn('A date index has been provided, but it has no'\n",
      "/home/aiffel42/anaconda3/envs/aiffel/lib/python3.8/site-packages/statsmodels/tsa/base/tsa_model.py:216: ValueWarning: A date index has been provided, but it has no associated frequency information and so will be ignored when e.g. forecasting.\n",
      "  warnings.warn('A date index has been provided, but it has no'\n"
     ]
    },
    {
     "data": {
      "text/plain": [
       "'MAPE: 8.64%'"
      ]
     },
     "execution_count": 37,
     "metadata": {},
     "output_type": "execute_result"
    }
   ],
   "source": [
    "make_model(0,1,0,FB)"
   ]
  },
  {
   "cell_type": "code",
   "execution_count": 38,
   "metadata": {},
   "outputs": [
    {
     "name": "stderr",
     "output_type": "stream",
     "text": [
      "/home/aiffel42/anaconda3/envs/aiffel/lib/python3.8/site-packages/statsmodels/tsa/base/tsa_model.py:216: ValueWarning: A date index has been provided, but it has no associated frequency information and so will be ignored when e.g. forecasting.\n",
      "  warnings.warn('A date index has been provided, but it has no'\n",
      "/home/aiffel42/anaconda3/envs/aiffel/lib/python3.8/site-packages/statsmodels/tsa/base/tsa_model.py:216: ValueWarning: A date index has been provided, but it has no associated frequency information and so will be ignored when e.g. forecasting.\n",
      "  warnings.warn('A date index has been provided, but it has no'\n"
     ]
    },
    {
     "data": {
      "text/plain": [
       "'MAPE: 8.63%'"
      ]
     },
     "execution_count": 38,
     "metadata": {},
     "output_type": "execute_result"
    }
   ],
   "source": [
    "make_model(1,1,0,FB)"
   ]
  },
  {
   "cell_type": "code",
   "execution_count": 39,
   "metadata": {},
   "outputs": [
    {
     "name": "stderr",
     "output_type": "stream",
     "text": [
      "/home/aiffel42/anaconda3/envs/aiffel/lib/python3.8/site-packages/statsmodels/tsa/base/tsa_model.py:216: ValueWarning: A date index has been provided, but it has no associated frequency information and so will be ignored when e.g. forecasting.\n",
      "  warnings.warn('A date index has been provided, but it has no'\n",
      "/home/aiffel42/anaconda3/envs/aiffel/lib/python3.8/site-packages/statsmodels/tsa/base/tsa_model.py:216: ValueWarning: A date index has been provided, but it has no associated frequency information and so will be ignored when e.g. forecasting.\n",
      "  warnings.warn('A date index has been provided, but it has no'\n"
     ]
    },
    {
     "data": {
      "text/plain": [
       "'MAPE: 8.63%'"
      ]
     },
     "execution_count": 39,
     "metadata": {},
     "output_type": "execute_result"
    }
   ],
   "source": [
    "make_model(2,1,0,FB)"
   ]
  },
  {
   "cell_type": "code",
   "execution_count": 40,
   "metadata": {},
   "outputs": [
    {
     "name": "stderr",
     "output_type": "stream",
     "text": [
      "/home/aiffel42/anaconda3/envs/aiffel/lib/python3.8/site-packages/statsmodels/tsa/base/tsa_model.py:216: ValueWarning: A date index has been provided, but it has no associated frequency information and so will be ignored when e.g. forecasting.\n",
      "  warnings.warn('A date index has been provided, but it has no'\n",
      "/home/aiffel42/anaconda3/envs/aiffel/lib/python3.8/site-packages/statsmodels/tsa/base/tsa_model.py:216: ValueWarning: A date index has been provided, but it has no associated frequency information and so will be ignored when e.g. forecasting.\n",
      "  warnings.warn('A date index has been provided, but it has no'\n"
     ]
    },
    {
     "data": {
      "text/plain": [
       "'MAPE: 8.68%'"
      ]
     },
     "execution_count": 40,
     "metadata": {},
     "output_type": "execute_result"
    }
   ],
   "source": [
    "make_model(12,1,0,FB)"
   ]
  },
  {
   "cell_type": "code",
   "execution_count": 43,
   "metadata": {},
   "outputs": [
    {
     "name": "stderr",
     "output_type": "stream",
     "text": [
      "/home/aiffel42/anaconda3/envs/aiffel/lib/python3.8/site-packages/statsmodels/tsa/base/tsa_model.py:216: ValueWarning: A date index has been provided, but it has no associated frequency information and so will be ignored when e.g. forecasting.\n",
      "  warnings.warn('A date index has been provided, but it has no'\n",
      "/home/aiffel42/anaconda3/envs/aiffel/lib/python3.8/site-packages/statsmodels/tsa/base/tsa_model.py:216: ValueWarning: A date index has been provided, but it has no associated frequency information and so will be ignored when e.g. forecasting.\n",
      "  warnings.warn('A date index has been provided, but it has no'\n"
     ]
    },
    {
     "data": {
      "text/plain": [
       "'MAPE: 8.63%'"
      ]
     },
     "execution_count": 43,
     "metadata": {},
     "output_type": "execute_result"
    }
   ],
   "source": [
    "make_model(0,1,1,FB)"
   ]
  },
  {
   "cell_type": "code",
   "execution_count": 41,
   "metadata": {},
   "outputs": [
    {
     "name": "stderr",
     "output_type": "stream",
     "text": [
      "/home/aiffel42/anaconda3/envs/aiffel/lib/python3.8/site-packages/statsmodels/tsa/base/tsa_model.py:216: ValueWarning: A date index has been provided, but it has no associated frequency information and so will be ignored when e.g. forecasting.\n",
      "  warnings.warn('A date index has been provided, but it has no'\n",
      "/home/aiffel42/anaconda3/envs/aiffel/lib/python3.8/site-packages/statsmodels/tsa/base/tsa_model.py:216: ValueWarning: A date index has been provided, but it has no associated frequency information and so will be ignored when e.g. forecasting.\n",
      "  warnings.warn('A date index has been provided, but it has no'\n"
     ]
    },
    {
     "data": {
      "text/plain": [
       "'MAPE: 8.63%'"
      ]
     },
     "execution_count": 41,
     "metadata": {},
     "output_type": "execute_result"
    }
   ],
   "source": [
    "make_model(0,1,2,FB)"
   ]
  },
  {
   "cell_type": "code",
   "execution_count": 42,
   "metadata": {},
   "outputs": [
    {
     "name": "stderr",
     "output_type": "stream",
     "text": [
      "/home/aiffel42/anaconda3/envs/aiffel/lib/python3.8/site-packages/statsmodels/tsa/base/tsa_model.py:216: ValueWarning: A date index has been provided, but it has no associated frequency information and so will be ignored when e.g. forecasting.\n",
      "  warnings.warn('A date index has been provided, but it has no'\n",
      "/home/aiffel42/anaconda3/envs/aiffel/lib/python3.8/site-packages/statsmodels/tsa/base/tsa_model.py:216: ValueWarning: A date index has been provided, but it has no associated frequency information and so will be ignored when e.g. forecasting.\n",
      "  warnings.warn('A date index has been provided, but it has no'\n"
     ]
    },
    {
     "data": {
      "text/plain": [
       "'MAPE: 8.67%'"
      ]
     },
     "execution_count": 42,
     "metadata": {},
     "output_type": "execute_result"
    }
   ],
   "source": [
    "make_model(0,1,12,FB)"
   ]
  },
  {
   "cell_type": "code",
   "execution_count": null,
   "metadata": {},
   "outputs": [],
   "source": []
  },
  {
   "cell_type": "code",
   "execution_count": null,
   "metadata": {},
   "outputs": [],
   "source": []
  },
  {
   "cell_type": "markdown",
   "metadata": {},
   "source": [
    "Conclusion\n",
    "====="
   ]
  },
  {
   "cell_type": "markdown",
   "metadata": {},
   "source": [
    "- MAPE < 10% 를 확인한 주가\n",
    "    - 삼성전자 (p,d,q) = (0,1,12)일 때, min_MAPE = 8.08%\n",
    "    - SK텔레콤 (p,d,q) = (0,1,12) 일 때, min_MAPE = 0.91%\n",
    "    - FaceBook (p,d,q) = (0,1,1) 일 때, min_MAPE = 8.63%\n",
    "- 거의 근접한 결과\n",
    "    - 현대자동차 (p,d,q) = (0,2,10)일 때, min_MAPE = 10.04 %\n",
    "        - (0,2,9).MAPE = 10.28%\n",
    "        - (0,2,11).MAPE = 10.11%\n",
    "\n",
    "- 소회\n",
    "    - p,d,q 의 설정을 그래프 하나 그린 상태로 랜덤리하게 선택하는 과정에서 많은 문제 발생\n",
    "    - 좀 더 좋은 방법을 찾기 위해 해당 부분에 대한 심화학습이 필요할 것 같음."
   ]
  },
  {
   "cell_type": "code",
   "execution_count": null,
   "metadata": {},
   "outputs": [],
   "source": []
  }
 ],
 "metadata": {
  "kernelspec": {
   "display_name": "Python 3",
   "language": "python",
   "name": "python3"
  },
  "language_info": {
   "codemirror_mode": {
    "name": "ipython",
    "version": 3
   },
   "file_extension": ".py",
   "mimetype": "text/x-python",
   "name": "python",
   "nbconvert_exporter": "python",
   "pygments_lexer": "ipython3",
   "version": "3.8.3"
  }
 },
 "nbformat": 4,
 "nbformat_minor": 4
}
