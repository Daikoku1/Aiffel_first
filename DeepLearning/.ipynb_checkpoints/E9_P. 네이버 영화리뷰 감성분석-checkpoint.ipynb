{
 "cells": [
  {
   "cell_type": "code",
   "execution_count": 1,
   "metadata": {},
   "outputs": [
    {
     "data": {
      "text/html": [
       "<div>\n",
       "<style scoped>\n",
       "    .dataframe tbody tr th:only-of-type {\n",
       "        vertical-align: middle;\n",
       "    }\n",
       "\n",
       "    .dataframe tbody tr th {\n",
       "        vertical-align: top;\n",
       "    }\n",
       "\n",
       "    .dataframe thead th {\n",
       "        text-align: right;\n",
       "    }\n",
       "</style>\n",
       "<table border=\"1\" class=\"dataframe\">\n",
       "  <thead>\n",
       "    <tr style=\"text-align: right;\">\n",
       "      <th></th>\n",
       "      <th>id</th>\n",
       "      <th>document</th>\n",
       "      <th>label</th>\n",
       "    </tr>\n",
       "  </thead>\n",
       "  <tbody>\n",
       "    <tr>\n",
       "      <th>0</th>\n",
       "      <td>9976970</td>\n",
       "      <td>아 더빙.. 진짜 짜증나네요 목소리</td>\n",
       "      <td>0</td>\n",
       "    </tr>\n",
       "    <tr>\n",
       "      <th>1</th>\n",
       "      <td>3819312</td>\n",
       "      <td>흠...포스터보고 초딩영화줄....오버연기조차 가볍지 않구나</td>\n",
       "      <td>1</td>\n",
       "    </tr>\n",
       "    <tr>\n",
       "      <th>2</th>\n",
       "      <td>10265843</td>\n",
       "      <td>너무재밓었다그래서보는것을추천한다</td>\n",
       "      <td>0</td>\n",
       "    </tr>\n",
       "    <tr>\n",
       "      <th>3</th>\n",
       "      <td>9045019</td>\n",
       "      <td>교도소 이야기구먼 ..솔직히 재미는 없다..평점 조정</td>\n",
       "      <td>0</td>\n",
       "    </tr>\n",
       "    <tr>\n",
       "      <th>4</th>\n",
       "      <td>6483659</td>\n",
       "      <td>사이몬페그의 익살스런 연기가 돋보였던 영화!스파이더맨에서 늙어보이기만 했던 커스틴 ...</td>\n",
       "      <td>1</td>\n",
       "    </tr>\n",
       "  </tbody>\n",
       "</table>\n",
       "</div>"
      ],
      "text/plain": [
       "         id                                           document  label\n",
       "0   9976970                                아 더빙.. 진짜 짜증나네요 목소리      0\n",
       "1   3819312                  흠...포스터보고 초딩영화줄....오버연기조차 가볍지 않구나      1\n",
       "2  10265843                                  너무재밓었다그래서보는것을추천한다      0\n",
       "3   9045019                      교도소 이야기구먼 ..솔직히 재미는 없다..평점 조정      0\n",
       "4   6483659  사이몬페그의 익살스런 연기가 돋보였던 영화!스파이더맨에서 늙어보이기만 했던 커스틴 ...      1"
      ]
     },
     "execution_count": 1,
     "metadata": {},
     "output_type": "execute_result"
    }
   ],
   "source": [
    "import pandas as pd\n",
    "import urllib.request\n",
    "%matplotlib inline\n",
    "import matplotlib.pyplot as plt\n",
    "import re\n",
    "from konlpy.tag import Okt\n",
    "from tensorflow import keras\n",
    "from tensorflow.keras.preprocessing.text import Tokenizer\n",
    "import numpy as np\n",
    "from tensorflow.keras.preprocessing.sequence import pad_sequences\n",
    "from collections import Counter\n",
    "\n",
    "# 데이터를 읽어봅시다. \n",
    "train_data = pd.read_table('~/aiffel/sentiment_classification/ratings_train.txt')\n",
    "test_data = pd.read_table('~/aiffel/sentiment_classification/ratings_test.txt')\n",
    "\n",
    "train_data.head()"
   ]
  },
  {
   "cell_type": "code",
   "execution_count": 176,
   "metadata": {},
   "outputs": [],
   "source": [
    "from konlpy.tag import Mecab\n",
    "tokenizer = Mecab()\n",
    "stopwords = ['의','가','이','은','들','는','좀','잘','걍','과','도','를','으로','자','에','와','한','하다']\n",
    "\n",
    "def load_data(train_data, test_data, num_words=10000):\n",
    "    train_data.drop_duplicates(subset=['document'], inplace=True)\n",
    "    train_data = train_data.dropna(how = 'any') \n",
    "    test_data.drop_duplicates(subset=['document'], inplace=True)\n",
    "    test_data = test_data.dropna(how = 'any') \n",
    "\n",
    "    X_train = []\n",
    "    for sentence in train_data['document']:\n",
    "        temp_X = tokenizer.morphs(sentence) # 토큰화\n",
    "        temp_X = [word for word in temp_X if not word in stopwords] # 불용어 제거\n",
    "        X_train.append(temp_X)\n",
    "\n",
    "    X_test = []\n",
    "    for sentence in test_data['document']:\n",
    "        temp_X = tokenizer.morphs(sentence) # 토큰화\n",
    "        temp_X = [word for word in temp_X if not word in stopwords] # 불용어 제거\n",
    "        X_test.append(temp_X)\n",
    "\n",
    "    words = np.concatenate(X_train).tolist()\n",
    "    counter = Counter(words)\n",
    "    counter = counter.most_common(10000-4)\n",
    "    vocab = ['<PAD>', '<BOS>', '<UNK>', '<UNUSED>'] + [key for key, _ in counter]\n",
    "    word_to_index = {word:index for index, word in enumerate(vocab)}\n",
    "\n",
    "    def wordlist_to_indexlist(wordlist):\n",
    "        return [word_to_index[word] if word in word_to_index else word_to_index['<UNK>'] for word in wordlist]\n",
    "\n",
    "    X_train = list(map(wordlist_to_indexlist, X_train))\n",
    "    X_test = list(map(wordlist_to_indexlist, X_test))\n",
    "\n",
    "    return X_train, np.array(list(train_data['label'])), X_test, np.array(list(test_data['label'])), word_to_index\n",
    "\n",
    "X_train, y_train, X_test, y_test, word_to_index = load_data(train_data, test_data)"
   ]
  },
  {
   "cell_type": "code",
   "execution_count": 177,
   "metadata": {},
   "outputs": [],
   "source": [
    "index_to_word = {index:word for word, index in word_to_index.items()}"
   ]
  },
  {
   "cell_type": "code",
   "execution_count": 178,
   "metadata": {},
   "outputs": [],
   "source": [
    "# 문장 1개를 활용할 딕셔너리와 함께 주면, 단어 인덱스 리스트 벡터로 변환해 주는 함수입니다. \n",
    "# 단, 모든 문장은 <BOS>로 시작하는 것으로 합니다. \n",
    "def get_encoded_sentence(sentence, word_to_index):\n",
    "    return [word_to_index['<BOS>']]+[word_to_index[word] if word in word_to_index else word_to_index['<UNK>'] for word in sentence.split()]\n",
    "\n",
    "# 여러 개의 문장 리스트를 한꺼번에 단어 인덱스 리스트 벡터로 encode해 주는 함수입니다. \n",
    "def get_encoded_sentences(sentences, word_to_index):\n",
    "    return [get_encoded_sentence(sentence, word_to_index) for sentence in sentences]\n",
    "\n",
    "# 숫자 벡터로 encode된 문장을 원래대로 decode하는 함수입니다. \n",
    "def get_decoded_sentence(encoded_sentence, index_to_word):\n",
    "    return ' '.join(index_to_word[index] if index in index_to_word else '<UNK>' for index in encoded_sentence[1:])  #[1:]를 통해 <BOS>를 제외\n",
    "\n",
    "# 여러개의 숫자 벡터로 encode된 문장을 한꺼번에 원래대로 decode하는 함수입니다. \n",
    "def get_decoded_sentences(encoded_sentences, index_to_word):\n",
    "    return [get_decoded_sentence(encoded_sentence, index_to_word) for encoded_sentence in encoded_sentences]"
   ]
  },
  {
   "cell_type": "code",
   "execution_count": 179,
   "metadata": {},
   "outputs": [
    {
     "name": "stdout",
     "output_type": "stream",
     "text": [
      "146182\n",
      "146182\n"
     ]
    }
   ],
   "source": [
    "X_train_re = get_encoded_sentences(get_decoded_sentences(X_train, index_to_word), word_to_index)\n",
    "X_test_re = get_encoded_sentences(get_decoded_sentences(X_test, index_to_word), word_to_index)\n",
    "print(len(X_train_re))\n",
    "print(len(X_train))"
   ]
  },
  {
   "cell_type": "code",
   "execution_count": 180,
   "metadata": {},
   "outputs": [
    {
     "name": "stdout",
     "output_type": "stream",
     "text": [
      "49157\n",
      "49157\n"
     ]
    }
   ],
   "source": [
    "print(len(X_test_re))\n",
    "print(len(X_test))"
   ]
  },
  {
   "cell_type": "code",
   "execution_count": 181,
   "metadata": {},
   "outputs": [
    {
     "data": {
      "text/plain": [
       "[1, 74, 919, 4, 4, 39, 228, 20, 33, 748]"
      ]
     },
     "execution_count": 181,
     "metadata": {},
     "output_type": "execute_result"
    }
   ],
   "source": [
    "X_train_re[0]"
   ]
  },
  {
   "cell_type": "code",
   "execution_count": 182,
   "metadata": {},
   "outputs": [
    {
     "name": "stdout",
     "output_type": "stream",
     "text": [
      "문장길이 평균 :  15.96940191154864\n",
      "문장길이 최대 :  116\n",
      "문장길이 표준편차 :  12.843504626566713\n",
      "pad_sequences maxlen :  41\n",
      "전체 문장의 0.9342988343341575%가 maxlen 설정값 이내에 포함됩니다. \n"
     ]
    }
   ],
   "source": [
    "total_data_text = list(X_train_re) + list(X_test_re)\n",
    "# 텍스트데이터 문장길이의 리스트를 생성한 후\n",
    "num_tokens = [len(tokens) for tokens in total_data_text]\n",
    "num_tokens = np.array(num_tokens)\n",
    "# 문장길이의 평균값, 최대값, 표준편차를 계산해 본다. \n",
    "print('문장길이 평균 : ', np.mean(num_tokens))\n",
    "print('문장길이 최대 : ', np.max(num_tokens))\n",
    "print('문장길이 표준편차 : ', np.std(num_tokens))\n",
    "\n",
    "# 예를들어, 최대 길이를 (평균 + 2*표준편차)로 한다면,  \n",
    "max_tokens = np.mean(num_tokens) + 2 * np.std(num_tokens)\n",
    "maxlen = int(max_tokens)\n",
    "print('pad_sequences maxlen : ', maxlen)\n",
    "print('전체 문장의 {}%가 maxlen 설정값 이내에 포함됩니다. '.format(np.sum(num_tokens < max_tokens) / len(num_tokens)))"
   ]
  },
  {
   "cell_type": "code",
   "execution_count": 183,
   "metadata": {},
   "outputs": [
    {
     "name": "stdout",
     "output_type": "stream",
     "text": [
      "(146182, 41)\n"
     ]
    }
   ],
   "source": [
    "X_train = keras.preprocessing.sequence.pad_sequences(X_train_re,\n",
    "                                                        value=word_to_index[\"<PAD>\"],\n",
    "                                                        padding='pre',\n",
    "                                                        maxlen=maxlen)\n",
    "\n",
    "X_test = keras.preprocessing.sequence.pad_sequences(X_test_re,\n",
    "                                                       value=word_to_index[\"<PAD>\"],\n",
    "                                                       padding='pre',\n",
    "                                                       maxlen=maxlen)\n",
    "\n",
    "print(X_train.shape)"
   ]
  },
  {
   "cell_type": "code",
   "execution_count": 193,
   "metadata": {},
   "outputs": [
    {
     "name": "stdout",
     "output_type": "stream",
     "text": [
      "(131563, 41)\n",
      "(131563,)\n"
     ]
    }
   ],
   "source": [
    "from sklearn.model_selection import train_test_split\n",
    "partial_X_train, X_val, partial_y_train, y_val = train_test_split(X_train, \n",
    "                                                                  y_train, \n",
    "                                                                  test_size=0.1, \n",
    "                                                                  random_state=42)\n",
    "print(partial_X_train.shape)\n",
    "print(partial_y_train.shape)"
   ]
  },
  {
   "cell_type": "code",
   "execution_count": 41,
   "metadata": {},
   "outputs": [
    {
     "name": "stdout",
     "output_type": "stream",
     "text": [
      "Model: \"sequential_5\"\n",
      "_________________________________________________________________\n",
      "Layer (type)                 Output Shape              Param #   \n",
      "=================================================================\n",
      "embedding_5 (Embedding)      (None, None, 41)          410000    \n",
      "_________________________________________________________________\n",
      "lstm_5 (LSTM)                (None, 8)                 1600      \n",
      "_________________________________________________________________\n",
      "dense_10 (Dense)             (None, 8)                 72        \n",
      "_________________________________________________________________\n",
      "dense_11 (Dense)             (None, 1)                 9         \n",
      "=================================================================\n",
      "Total params: 411,681\n",
      "Trainable params: 411,681\n",
      "Non-trainable params: 0\n",
      "_________________________________________________________________\n"
     ]
    }
   ],
   "source": [
    "vocab_size = 10000    # 어휘 사전의 크기입니다(10,000개의 단어)\n",
    "word_vector_dim = 41  # 워드 벡터의 차원수 (변경가능한 하이퍼파라미터)\n",
    "\n",
    "model = keras.Sequential()\n",
    "model.add(keras.layers.Embedding(vocab_size, word_vector_dim, input_shape=(None,)))\n",
    "model.add(keras.layers.LSTM(8))   # 가장 널리 쓰이는 RNN인 LSTM 레이어를 사용하였습니다. 이때 LSTM state 벡터의 차원수는 8로 하였습니다. (변경가능)\n",
    "model.add(keras.layers.Dense(8, activation='relu'))\n",
    "model.add(keras.layers.Dense(1, activation='sigmoid'))  # 최종 출력은 긍정/부정을 나타내는 1dim 입니다.\n",
    "\n",
    "model.summary()"
   ]
  },
  {
   "cell_type": "code",
   "execution_count": 42,
   "metadata": {},
   "outputs": [
    {
     "data": {
      "text/plain": [
       "146182"
      ]
     },
     "execution_count": 42,
     "metadata": {},
     "output_type": "execute_result"
    }
   ],
   "source": [
    "len(X_train)"
   ]
  },
  {
   "cell_type": "code",
   "execution_count": 43,
   "metadata": {},
   "outputs": [],
   "source": []
  },
  {
   "cell_type": "code",
   "execution_count": 44,
   "metadata": {},
   "outputs": [
    {
     "name": "stdout",
     "output_type": "stream",
     "text": [
      "(116945, 41)\n",
      "(116945,)\n"
     ]
    }
   ],
   "source": []
  },
  {
   "cell_type": "code",
   "execution_count": 45,
   "metadata": {},
   "outputs": [],
   "source": [
    "# # validation set 10000건 분리\n",
    "# X_val = X_train[:10000]   \n",
    "# y_val = y_train[:10000]\n",
    "\n",
    "# # validation set을 제외한 나머지 15000건\n",
    "#  = X_train[10000:]  \n",
    "# partial_y_train = y_train[10000:]\n",
    "\n",
    "# print(partial_X_train.shape)\n",
    "# print(partial_y_train.shape)"
   ]
  },
  {
   "cell_type": "code",
   "execution_count": 46,
   "metadata": {},
   "outputs": [
    {
     "name": "stdout",
     "output_type": "stream",
     "text": [
      "Epoch 1/8\n",
      "457/457 [==============================] - 5s 11ms/step - loss: 0.4662 - accuracy: 0.7892 - val_loss: 0.3843 - val_accuracy: 0.8287\n",
      "Epoch 2/8\n",
      "457/457 [==============================] - 5s 10ms/step - loss: 0.3558 - accuracy: 0.8454 - val_loss: 0.3747 - val_accuracy: 0.8336\n",
      "Epoch 3/8\n",
      "457/457 [==============================] - 5s 10ms/step - loss: 0.3294 - accuracy: 0.8579 - val_loss: 0.3748 - val_accuracy: 0.8335\n",
      "Epoch 4/8\n",
      "457/457 [==============================] - 5s 10ms/step - loss: 0.3097 - accuracy: 0.8670 - val_loss: 0.3837 - val_accuracy: 0.8319\n",
      "Epoch 5/8\n",
      "457/457 [==============================] - 5s 10ms/step - loss: 0.2925 - accuracy: 0.8758 - val_loss: 0.3909 - val_accuracy: 0.8311\n",
      "Epoch 6/8\n",
      "457/457 [==============================] - 5s 10ms/step - loss: 0.2755 - accuracy: 0.8832 - val_loss: 0.3891 - val_accuracy: 0.8327\n",
      "Epoch 7/8\n",
      "457/457 [==============================] - 5s 10ms/step - loss: 0.2586 - accuracy: 0.8906 - val_loss: 0.3966 - val_accuracy: 0.8322\n",
      "Epoch 8/8\n",
      "457/457 [==============================] - 5s 10ms/step - loss: 0.2427 - accuracy: 0.8984 - val_loss: 0.4250 - val_accuracy: 0.8310\n"
     ]
    }
   ],
   "source": [
    "model.compile(optimizer='adam',\n",
    "              loss='binary_crossentropy',\n",
    "              metrics=['accuracy'])\n",
    "              \n",
    "epochs=8  # 몇 epoch를 훈련하면 좋을지 결과를 보면서 바꾸어 봅시다. \n",
    "\n",
    "history = model.fit(partial_X_train,\n",
    "                    partial_y_train,\n",
    "                    epochs=epochs,\n",
    "                    batch_size=256,\n",
    "                    validation_data=(X_val, y_val),\n",
    "                    verbose=1)"
   ]
  },
  {
   "cell_type": "code",
   "execution_count": 47,
   "metadata": {},
   "outputs": [],
   "source": [
    "history_dict = history.history"
   ]
  },
  {
   "cell_type": "code",
   "execution_count": 48,
   "metadata": {},
   "outputs": [
    {
     "data": {
      "image/png": "[encoded data removed]",
      "text/plain": [
       "<Figure size 432x288 with 1 Axes>"
      ]
     },
     "metadata": {
      "needs_background": "light"
     },
     "output_type": "display_data"
    }
   ],
   "source": [
    "import matplotlib.pyplot as plt\n",
    "\n",
    "acc = history_dict['accuracy']\n",
    "val_acc = history_dict['val_accuracy']\n",
    "loss = history_dict['loss']\n",
    "val_loss = history_dict['val_loss']\n",
    "\n",
    "epochs = range(1, len(acc) + 1)\n",
    "\n",
    "# \"bo\"는 \"파란색 점\"입니다\n",
    "plt.plot(epochs, loss, 'bo', label='Training loss')\n",
    "# b는 \"파란 실선\"입니다\n",
    "plt.plot(epochs, val_loss, 'b', label='Validation loss')\n",
    "plt.title('Training and validation loss')\n",
    "plt.xlabel('Epochs')\n",
    "plt.ylabel('Loss')\n",
    "plt.legend()\n",
    "\n",
    "plt.show()"
   ]
  },
  {
   "cell_type": "code",
   "execution_count": 49,
   "metadata": {},
   "outputs": [
    {
     "data": {
      "image/png": "[encoded data removed]",
      "text/plain": [
       "<Figure size 432x288 with 1 Axes>"
      ]
     },
     "metadata": {
      "needs_background": "light"
     },
     "output_type": "display_data"
    }
   ],
   "source": [
    "plt.clf()   # 그림을 초기화합니다\n",
    "\n",
    "plt.plot(epochs, acc, 'bo', label='Training acc')\n",
    "plt.plot(epochs, val_acc, 'b', label='Validation acc')\n",
    "plt.title('Training and validation accuracy')\n",
    "plt.xlabel('Epochs')\n",
    "plt.ylabel('Accuracy')\n",
    "plt.legend()\n",
    "\n",
    "plt.show()"
   ]
  },
  {
   "cell_type": "code",
   "execution_count": null,
   "metadata": {},
   "outputs": [],
   "source": []
  },
  {
   "cell_type": "markdown",
   "metadata": {},
   "source": [
    "**명사, 동사만으로 임베딩**\n",
    "====="
   ]
  },
  {
   "cell_type": "code",
   "execution_count": 124,
   "metadata": {},
   "outputs": [],
   "source": [
    "from konlpy.tag import Okt  \n",
    "tokenizer = Okt()\n",
    "\n",
    "def load_data(train_data, test_data, num_words=10000):\n",
    "    train_data.drop_duplicates(subset=['document'], inplace=True)\n",
    "    train_data = train_data.dropna(how = 'any') \n",
    "    test_data.drop_duplicates(subset=['document'], inplace=True)\n",
    "    test_data = test_data.dropna(how = 'any') \n",
    "\n",
    "    X_train = []\n",
    "    for sentence in train_data['document']:\n",
    "        tokenlist = tokenizer.pos(sentence, stem=True, norm=True) # 단어 토큰화\n",
    "        temp_X = [word[0] for word in tokenlist if word[1] in ['Noun', 'Verb']] # 명사, 동사일 때만\n",
    "        if len(temp_X) > 2:\n",
    "            X_train.append(temp_X)\n",
    "\n",
    "    X_test = []\n",
    "    for sentence in test_data['document']:\n",
    "        tokenlist = tokenizer.pos(sentence, stem=True, norm=True) # 단어 토큰화\n",
    "        temp_X = [word[0] for word in tokenlist if word[1] in ['Noun', 'Verb']] # 명사, 동사일 때만\n",
    "        X_test.append(temp_X)\n",
    "\n",
    "    words = np.concatenate(X_train).tolist()\n",
    "    counter = Counter(words)\n",
    "    counter = counter.most_common(10000-4)\n",
    "    vocab = ['<PAD>', '<BOS>', '<UNK>', '<UNUSED>'] + [key for key, _ in counter]\n",
    "    word_to_index = {word:index for index, word in enumerate(vocab)}\n",
    "\n",
    "    def wordlist_to_indexlist(wordlist):\n",
    "        return [word_to_index[word] if word in word_to_index else word_to_index['<UNK>'] for word in wordlist]\n",
    "\n",
    "    X_train = list(map(wordlist_to_indexlist, X_train))\n",
    "    X_test = list(map(wordlist_to_indexlist, X_test))\n",
    "\n",
    "    return X_train, np.array(list(train_data['label'])), X_test, np.array(list(test_data['label'])), word_to_index\n",
    "\n",
    "X_train, y_train, X_test, y_test, word_to_index = load_data(train_data, test_data)"
   ]
  },
  {
   "cell_type": "code",
   "execution_count": 125,
   "metadata": {},
   "outputs": [],
   "source": [
    "index_to_word = {index:word for word, index in word_to_index.items()}"
   ]
  },
  {
   "cell_type": "code",
   "execution_count": 126,
   "metadata": {},
   "outputs": [
    {
     "name": "stdout",
     "output_type": "stream",
     "text": [
      "146182\n",
      "146182\n"
     ]
    }
   ],
   "source": [
    "X_train_re = get_encoded_sentences(get_decoded_sentences(X_train, index_to_word), word_to_index)\n",
    "X_test_re = get_encoded_sentences(get_decoded_sentences(X_test, index_to_word), word_to_index)\n",
    "print(len(X_train_re))\n",
    "print(len(X_train))"
   ]
  },
  {
   "cell_type": "code",
   "execution_count": 127,
   "metadata": {},
   "outputs": [
    {
     "name": "stdout",
     "output_type": "stream",
     "text": [
      "49157\n",
      "49157\n"
     ]
    }
   ],
   "source": [
    "print(len(X_test_re))\n",
    "print(len(X_test))"
   ]
  },
  {
   "cell_type": "code",
   "execution_count": 128,
   "metadata": {},
   "outputs": [
    {
     "data": {
      "text/plain": [
       "[1, 10, 455]"
      ]
     },
     "execution_count": 128,
     "metadata": {},
     "output_type": "execute_result"
    }
   ],
   "source": [
    "X_train_re[0]"
   ]
  },
  {
   "cell_type": "code",
   "execution_count": null,
   "metadata": {},
   "outputs": [],
   "source": [
    "X"
   ]
  },
  {
   "cell_type": "code",
   "execution_count": 129,
   "metadata": {},
   "outputs": [
    {
     "name": "stdout",
     "output_type": "stream",
     "text": [
      "문장길이 평균 :  7.932655537296699\n",
      "문장길이 최대 :  51\n",
      "문장길이 표준편차 :  6.858799126431309\n",
      "pad_sequences maxlen :  21\n",
      "전체 문장의 0.9356861661009834%가 maxlen 설정값 이내에 포함됩니다. \n"
     ]
    }
   ],
   "source": [
    "total_data_text = list(X_train_re) + list(X_test_re)\n",
    "# 텍스트데이터 문장길이의 리스트를 생성한 후\n",
    "num_tokens = [len(tokens) for tokens in total_data_text]\n",
    "num_tokens = np.array(num_tokens)\n",
    "# 문장길이의 평균값, 최대값, 표준편차를 계산해 본다. \n",
    "print('문장길이 평균 : ', np.mean(num_tokens))\n",
    "print('문장길이 최대 : ', np.max(num_tokens))\n",
    "print('문장길이 표준편차 : ', np.std(num_tokens))\n",
    "\n",
    "# 예를들어, 최대 길이를 (평균 + 2*표준편차)로 한다면,  \n",
    "max_tokens = np.mean(num_tokens) + 2 * np.std(num_tokens)\n",
    "maxlen = int(max_tokens)\n",
    "print('pad_sequences maxlen : ', maxlen)\n",
    "print('전체 문장의 {}%가 maxlen 설정값 이내에 포함됩니다. '.format(np.sum(num_tokens < max_tokens) / len(num_tokens)))"
   ]
  },
  {
   "cell_type": "code",
   "execution_count": 130,
   "metadata": {},
   "outputs": [
    {
     "name": "stdout",
     "output_type": "stream",
     "text": [
      "(146182, 21)\n"
     ]
    }
   ],
   "source": [
    "X_train = keras.preprocessing.sequence.pad_sequences(X_train_re,\n",
    "                                                        value=word_to_index[\"<PAD>\"],\n",
    "                                                        padding='pre',\n",
    "                                                        maxlen=maxlen)\n",
    "\n",
    "X_test = keras.preprocessing.sequence.pad_sequences(X_test_re,\n",
    "                                                       value=word_to_index[\"<PAD>\"],\n",
    "                                                       padding='pre',\n",
    "                                                       maxlen=maxlen)\n",
    "\n",
    "print(X_train.shape)"
   ]
  },
  {
   "cell_type": "code",
   "execution_count": 136,
   "metadata": {},
   "outputs": [
    {
     "data": {
      "text/plain": [
       "10000"
      ]
     },
     "execution_count": 136,
     "metadata": {},
     "output_type": "execute_result"
    }
   ],
   "source": [
    "len(index_to_word)"
   ]
  },
  {
   "cell_type": "code",
   "execution_count": 149,
   "metadata": {},
   "outputs": [
    {
     "name": "stdout",
     "output_type": "stream",
     "text": [
      "Model: \"sequential_15\"\n",
      "_________________________________________________________________\n",
      "Layer (type)                 Output Shape              Param #   \n",
      "=================================================================\n",
      "embedding_15 (Embedding)     (None, None, 21)          210000    \n",
      "_________________________________________________________________\n",
      "lstm_13 (LSTM)               (None, 7)                 812       \n",
      "_________________________________________________________________\n",
      "dense_26 (Dense)             (None, 7)                 56        \n",
      "_________________________________________________________________\n",
      "dense_27 (Dense)             (None, 1)                 8         \n",
      "=================================================================\n",
      "Total params: 210,876\n",
      "Trainable params: 210,876\n",
      "Non-trainable params: 0\n",
      "_________________________________________________________________\n"
     ]
    }
   ],
   "source": [
    "vocab_size = 10000    # 어휘 사전의 크기입니다(10,000개의 단어)\n",
    "word_vector_dim = 21  # 워드 벡터의 차원수 (변경가능한 하이퍼파라미터)\n",
    "\n",
    "model = keras.Sequential()\n",
    "model.add(keras.layers.Embedding(vocab_size, word_vector_dim, input_shape=(None,)))\n",
    "model.add(keras.layers.LSTM(7))   # 가장 널리 쓰이는 RNN인 LSTM 레이어를 사용하였습니다. 이때 LSTM state 벡터의 차원수는 8로 하였습니다. (변경가능)\n",
    "model.add(keras.layers.Dense(7, activation='relu'))\n",
    "model.add(keras.layers.Dense(1, activation='sigmoid'))  # 최종 출력은 긍정/부정을 나타내는 1dim 입니다.\n",
    "\n",
    "model.summary()"
   ]
  },
  {
   "cell_type": "code",
   "execution_count": 150,
   "metadata": {},
   "outputs": [
    {
     "name": "stdout",
     "output_type": "stream",
     "text": [
      "(116945, 21)\n",
      "(116945,)\n"
     ]
    }
   ],
   "source": [
    "from sklearn.model_selection import train_test_split\n",
    "partial_X_train, X_val, partial_y_train, y_val = train_test_split(X_train, \n",
    "                                                                  y_train, \n",
    "                                                                  test_size=0.2, \n",
    "                                                                  random_state=42)\n",
    "print(partial_X_train.shape)\n",
    "print(partial_y_train.shape)"
   ]
  },
  {
   "cell_type": "code",
   "execution_count": 151,
   "metadata": {},
   "outputs": [
    {
     "name": "stdout",
     "output_type": "stream",
     "text": [
      "Epoch 1/5\n",
      "1828/1828 [==============================] - 8s 4ms/step - loss: 0.5206 - accuracy: 0.7254 - val_loss: 0.4859 - val_accuracy: 0.7456\n",
      "Epoch 2/5\n",
      "1828/1828 [==============================] - 8s 4ms/step - loss: 0.4580 - accuracy: 0.7696 - val_loss: 0.4842 - val_accuracy: 0.7526\n",
      "Epoch 3/5\n",
      "1828/1828 [==============================] - 8s 4ms/step - loss: 0.4340 - accuracy: 0.7809 - val_loss: 0.4939 - val_accuracy: 0.7518\n",
      "Epoch 4/5\n",
      "1828/1828 [==============================] - 8s 4ms/step - loss: 0.4114 - accuracy: 0.7927 - val_loss: 0.5063 - val_accuracy: 0.7491\n",
      "Epoch 5/5\n",
      "1828/1828 [==============================] - 8s 4ms/step - loss: 0.3922 - accuracy: 0.8013 - val_loss: 0.5366 - val_accuracy: 0.7479\n"
     ]
    }
   ],
   "source": [
    "model.compile(optimizer='adam',\n",
    "              loss='binary_crossentropy',\n",
    "              metrics=['accuracy'])\n",
    "\n",
    "epochs = 5  # 몇 epoch를 훈련하면 좋을지 결과를 보면서 바꾸어 봅시다. \n",
    "\n",
    "history = model.fit(partial_X_train,\n",
    "                    partial_y_train,\n",
    "                    epochs=epochs,\n",
    "                    batch_size=64,\n",
    "                    validation_data=(X_val, y_val),\n",
    "                    verbose=1)"
   ]
  },
  {
   "cell_type": "code",
   "execution_count": null,
   "metadata": {},
   "outputs": [],
   "source": []
  },
  {
   "cell_type": "markdown",
   "metadata": {},
   "source": [
    "## pre_Trained wordtovec"
   ]
  },
  {
   "cell_type": "code",
   "execution_count": 152,
   "metadata": {},
   "outputs": [],
   "source": [
    "import os\n",
    "word2vec_path = os.getenv('HOME')+'/aiffel/sentiment_classification/ko.bin'"
   ]
  },
  {
   "cell_type": "code",
   "execution_count": 157,
   "metadata": {},
   "outputs": [],
   "source": [
    "import gensim\n",
    "word2vec = gensim.models.Word2Vec.load(word2vec_path)"
   ]
  },
  {
   "cell_type": "code",
   "execution_count": 158,
   "metadata": {},
   "outputs": [
    {
     "name": "stdout",
     "output_type": "stream",
     "text": [
      "[('고양이', 0.7290452122688293), ('거위', 0.7185634970664978), ('토끼', 0.7056223154067993), ('멧돼지', 0.6950401067733765), ('엄마', 0.6934334635734558), ('난쟁이', 0.6806551814079285), ('한마리', 0.6770296096801758), ('아가씨', 0.675035297870636), ('아빠', 0.6729633808135986), ('목걸이', 0.6512460708618164)]\n"
     ]
    }
   ],
   "source": [
    "result = word2vec.wv.most_similar(\"강아지\")\n",
    "print(result)"
   ]
  },
  {
   "cell_type": "code",
   "execution_count": 160,
   "metadata": {},
   "outputs": [
    {
     "name": "stderr",
     "output_type": "stream",
     "text": [
      "<ipython-input-160-f35f0d9c7b07>:1: DeprecationWarning: Call to deprecated `__getitem__` (Method will be removed in 4.0.0, use self.wv.__getitem__() instead).\n",
      "  word2vec['강아지']\n"
     ]
    },
    {
     "data": {
      "text/plain": [
       "array([ 0.28099054, -0.19049376,  0.31788886, -0.29404902, -0.6012117 ,\n",
       "       -0.25619242,  0.0061479 ,  0.51780385,  0.3608627 , -0.27890292,\n",
       "        0.3753059 ,  0.45682365,  0.25841945,  0.29509434,  0.31509322,\n",
       "        0.53255475, -0.3150408 ,  0.28672394,  0.32292762, -0.11534653,\n",
       "        0.24962434, -0.31804952,  0.02379435,  0.34782323, -0.5428502 ,\n",
       "       -0.31428298,  0.81061304,  0.7245631 ,  0.04309795, -1.0204421 ,\n",
       "        0.10398801,  0.2138965 ,  0.10057439, -0.03146021,  0.0894748 ,\n",
       "       -0.40986905,  0.11873247,  0.2684793 , -0.6372648 ,  0.36586553,\n",
       "       -0.15963972,  0.3209763 , -0.6995127 , -1.1059827 ,  0.37646636,\n",
       "       -0.82615834,  0.12098166, -0.04935855, -0.5623957 ,  0.1068015 ,\n",
       "        0.2640723 ,  0.6015352 ,  0.31571352, -0.37577182, -0.5941042 ,\n",
       "        0.1046523 , -0.16794747,  0.36965755,  0.18888052, -0.18799411,\n",
       "        0.13297085,  0.13900231, -0.25006363, -0.7406368 ,  0.1037019 ,\n",
       "       -0.18334036, -0.17581826,  0.08528292, -0.07013045,  0.4557973 ,\n",
       "        0.37055275, -0.22271334,  0.09749056,  0.10634632,  0.18990633,\n",
       "       -0.09005074, -0.22670963,  0.75300676,  0.13844779, -0.41718212,\n",
       "        0.6000683 , -0.30188912,  0.26127213, -0.3209932 , -0.5287037 ,\n",
       "       -0.1133441 ,  0.08414213, -0.39975765, -0.7438005 ,  0.10611001,\n",
       "       -0.03223223, -0.65717345, -0.39624402, -0.4745818 ,  0.0611662 ,\n",
       "        0.57635117,  0.5629448 ,  0.05996709,  0.57418245,  0.2593086 ,\n",
       "       -0.1843771 ,  0.14862894,  0.03104451, -0.5595105 , -0.3311095 ,\n",
       "       -0.25353086,  0.1952255 , -0.7322556 , -0.1989108 ,  0.01353099,\n",
       "        0.3498427 ,  0.07084652, -0.24956252, -0.42642623, -0.30416694,\n",
       "       -0.05685856, -0.4886381 , -0.17410545,  0.02824506,  0.14894816,\n",
       "        0.05410662,  0.17372012, -0.24593355, -0.6957402 , -0.21098216,\n",
       "        0.17299318, -0.5482991 ,  0.07412893,  0.6804218 ,  0.05489316,\n",
       "        0.05333278,  0.03257329, -0.16544367,  0.98487836,  0.7784035 ,\n",
       "       -0.07689387, -0.31263638, -0.12760893,  0.3472611 , -0.23108876,\n",
       "        0.3307572 ,  0.37202093,  0.5539822 , -0.28727153,  0.77605385,\n",
       "       -0.73754156, -0.32367602, -0.22861145, -0.93935126, -0.4357149 ,\n",
       "        0.09146321,  0.00202421, -0.18067713,  0.0855972 ,  0.6506427 ,\n",
       "       -0.305275  ,  0.2780998 ,  0.6330918 , -0.29751784, -0.17027308,\n",
       "       -0.31517255, -0.3317247 ,  0.02422439, -0.57917964, -0.33995405,\n",
       "       -0.42761254,  0.25798827, -0.34237063, -0.52633345,  0.09533058,\n",
       "       -0.677217  ,  0.05363021,  0.32125086,  0.4909405 , -0.43493816,\n",
       "       -0.09290602,  0.10552456, -0.10498507, -0.35929582,  0.19515191,\n",
       "       -0.40012205,  0.16228692,  0.46461752,  0.2952616 ,  0.25597256,\n",
       "        0.6133663 , -0.41785526,  0.18643484,  0.06804469,  0.87485284,\n",
       "        0.1482679 ,  0.42763233,  0.18914135,  0.20274666, -0.59800595,\n",
       "       -0.07481332, -0.13797177, -0.4698542 , -0.02073322, -0.31658322],\n",
       "      dtype=float32)"
      ]
     },
     "execution_count": 160,
     "metadata": {},
     "output_type": "execute_result"
    }
   ],
   "source": [
    "word2vec['강아지']"
   ]
  },
  {
   "cell_type": "code",
   "execution_count": 161,
   "metadata": {},
   "outputs": [
    {
     "data": {
      "text/plain": [
       "'보다'"
      ]
     },
     "execution_count": 161,
     "metadata": {},
     "output_type": "execute_result"
    }
   ],
   "source": [
    "index_to_word[6]"
   ]
  },
  {
   "cell_type": "code",
   "execution_count": 164,
   "metadata": {},
   "outputs": [
    {
     "name": "stderr",
     "output_type": "stream",
     "text": [
      "<ipython-input-164-9ffe2e9fc237>:1: DeprecationWarning: Call to deprecated `__getitem__` (Method will be removed in 4.0.0, use self.wv.__getitem__() instead).\n",
      "  len(word2vec['강아지'])\n"
     ]
    },
    {
     "data": {
      "text/plain": [
       "200"
      ]
     },
     "execution_count": 164,
     "metadata": {},
     "output_type": "execute_result"
    }
   ],
   "source": [
    "len(word2vec['강아지'])"
   ]
  },
  {
   "cell_type": "code",
   "execution_count": 184,
   "metadata": {},
   "outputs": [
    {
     "name": "stdout",
     "output_type": "stream",
     "text": [
      "Word2Vec(vocab=30185, size=200, alpha=0.025)\n"
     ]
    }
   ],
   "source": [
    "print(word2vec)"
   ]
  },
  {
   "cell_type": "code",
   "execution_count": 185,
   "metadata": {},
   "outputs": [
    {
     "name": "stderr",
     "output_type": "stream",
     "text": [
      "<ipython-input-185-6d61b84044fb>:8: DeprecationWarning: Call to deprecated `__contains__` (Method will be removed in 4.0.0, use self.wv.__contains__() instead).\n",
      "  if index_to_word[i] in word2vec:\n",
      "<ipython-input-185-6d61b84044fb>:9: DeprecationWarning: Call to deprecated `__getitem__` (Method will be removed in 4.0.0, use self.wv.__getitem__() instead).\n",
      "  embedding_matrix[i] = word2vec[index_to_word[i]]\n"
     ]
    }
   ],
   "source": [
    "vocab_size = 10000    # 어휘 사전의 크기입니다(10,000개의 단어)\n",
    "word_vector_dim = 200  # 워드 벡터의 차원수 (변경가능한 하이퍼파라미터)\n",
    "\n",
    "embedding_matrix = np.random.rand(vocab_size, word_vector_dim)\n",
    "\n",
    "# embedding_matrix에 Word2Vec 워드벡터를 단어 하나씩마다 차례차례 카피한다.\n",
    "for i in range(4,vocab_size):\n",
    "    if index_to_word[i] in word2vec:\n",
    "        embedding_matrix[i] = word2vec[index_to_word[i]]"
   ]
  },
  {
   "cell_type": "code",
   "execution_count": 186,
   "metadata": {},
   "outputs": [
    {
     "data": {
      "text/plain": [
       "(10000, 200)"
      ]
     },
     "execution_count": 186,
     "metadata": {},
     "output_type": "execute_result"
    }
   ],
   "source": [
    "embedding_matrix.shape"
   ]
  },
  {
   "cell_type": "code",
   "execution_count": 187,
   "metadata": {},
   "outputs": [
    {
     "data": {
      "text/plain": [
       "array([0.6919345 , 0.57134775, 0.31237288, 0.7426576 , 0.05287418,\n",
       "       0.96679832, 0.42635998, 0.20475729, 0.17214227, 0.04762395,\n",
       "       0.40356643, 0.44039626, 0.62455871, 0.77021774, 0.59451686,\n",
       "       0.21511836, 0.32319252, 0.02603431, 0.74782898, 0.27444316,\n",
       "       0.27752865, 0.43297592, 0.43840735, 0.28666453, 0.91038768,\n",
       "       0.53904968, 0.97734067, 0.17751571, 0.0609138 , 0.08120988,\n",
       "       0.92771306, 0.30797403, 0.58246213, 0.79926534, 0.90106311,\n",
       "       0.35856604, 0.69694072, 0.47595919, 0.59504099, 0.64929435,\n",
       "       0.40104132, 0.58238914, 0.92752122, 0.74266944, 0.26060391,\n",
       "       0.09466226, 0.36620375, 0.58259371, 0.13158209, 0.94037401,\n",
       "       0.40056138, 0.15831942, 0.40641598, 0.82621786, 0.51428548,\n",
       "       0.69432502, 0.10155569, 0.42704243, 0.48420026, 0.33541018,\n",
       "       0.50645694, 0.2202423 , 0.02994023, 0.67236779, 0.68476107,\n",
       "       0.95469541, 0.87105588, 0.25915533, 0.10479293, 0.97150323,\n",
       "       0.15809929, 0.56154067, 0.22557936, 0.60253916, 0.24069903,\n",
       "       0.3622388 , 0.64344187, 0.55848954, 0.74061246, 0.58598549,\n",
       "       0.21147926, 0.89975413, 0.10412696, 0.52402881, 0.36119052,\n",
       "       0.42038175, 0.27825974, 0.75813097, 0.30524568, 0.24810174,\n",
       "       0.74945213, 0.31375292, 0.5151298 , 0.66699702, 0.32233362,\n",
       "       0.29895185, 0.10334484, 0.53348485, 0.89088649, 0.1804299 ,\n",
       "       0.54929642, 0.40794311, 0.1342299 , 0.24437912, 0.0730623 ,\n",
       "       0.21908389, 0.14039024, 0.72030486, 0.78656226, 0.97891049,\n",
       "       0.23248809, 0.13920645, 0.51931096, 0.25480721, 0.20503368,\n",
       "       0.1494152 , 0.30574522, 0.33735972, 0.57782605, 0.03127378,\n",
       "       0.93827981, 0.8626901 , 0.57862619, 0.85727588, 0.47103724,\n",
       "       0.82793208, 0.42244318, 0.51069379, 0.71818393, 0.98800381,\n",
       "       0.05857706, 0.40775302, 0.9432347 , 0.94062776, 0.1888347 ,\n",
       "       0.72928615, 0.82774202, 0.71697178, 0.61837453, 0.06154133,\n",
       "       0.76267172, 0.99298139, 0.67589815, 0.27914249, 0.82140507,\n",
       "       0.31089395, 0.97714621, 0.62889905, 0.34229354, 0.75427401,\n",
       "       0.92643623, 0.67598971, 0.85347983, 0.8106485 , 0.8669786 ,\n",
       "       0.04221945, 0.3492236 , 0.12281861, 0.40616081, 0.94107483,\n",
       "       0.8227437 , 0.58793708, 0.37205878, 0.48136267, 0.73056855,\n",
       "       0.28518829, 0.434187  , 0.3165533 , 0.04261466, 0.20215207,\n",
       "       0.48551176, 0.79042846, 0.48729467, 0.30871786, 0.59498854,\n",
       "       0.86341287, 0.77762498, 0.42086793, 0.85561489, 0.2396283 ,\n",
       "       0.80061103, 0.73292741, 0.05061318, 0.21197623, 0.52513961,\n",
       "       0.87325482, 0.75504971, 0.01767355, 0.82795734, 0.47650361,\n",
       "       0.58288761, 0.27822688, 0.19651341, 0.26312399, 0.21733509,\n",
       "       0.52602273, 0.77888825, 0.51045848, 0.46496929, 0.61448613])"
      ]
     },
     "execution_count": 187,
     "metadata": {},
     "output_type": "execute_result"
    }
   ],
   "source": [
    "embedding_matrix[0]"
   ]
  },
  {
   "cell_type": "code",
   "execution_count": 194,
   "metadata": {},
   "outputs": [
    {
     "name": "stdout",
     "output_type": "stream",
     "text": [
      "Model: \"sequential_23\"\n",
      "_________________________________________________________________\n",
      "Layer (type)                 Output Shape              Param #   \n",
      "=================================================================\n",
      "embedding_23 (Embedding)     (None, 41, 200)           2000000   \n",
      "_________________________________________________________________\n",
      "conv1d_16 (Conv1D)           (None, 34, 16)            25616     \n",
      "_________________________________________________________________\n",
      "max_pooling1d_8 (MaxPooling1 (None, 17, 16)            0         \n",
      "_________________________________________________________________\n",
      "conv1d_17 (Conv1D)           (None, 10, 16)            2064      \n",
      "_________________________________________________________________\n",
      "global_max_pooling1d_3 (Glob (None, 16)                0         \n",
      "_________________________________________________________________\n",
      "dense_34 (Dense)             (None, 8)                 136       \n",
      "_________________________________________________________________\n",
      "dense_35 (Dense)             (None, 1)                 9         \n",
      "=================================================================\n",
      "Total params: 2,027,825\n",
      "Trainable params: 2,027,825\n",
      "Non-trainable params: 0\n",
      "_________________________________________________________________\n"
     ]
    }
   ],
   "source": [
    "from tensorflow.keras.initializers import Constant\n",
    "\n",
    "vocab_size = 10000    # 어휘 사전의 크기입니다(10,000개의 단어)\n",
    "word_vector_dim = 200  # 워드 벡터의 차원수 (변경가능한 하이퍼파라미터)\n",
    "\n",
    "# 모델 구성\n",
    "model = keras.Sequential()\n",
    "model.add(keras.layers.Embedding(vocab_size, \n",
    "                                 word_vector_dim, \n",
    "                                 embeddings_initializer=Constant(embedding_matrix),  # 카피한 임베딩을 여기서 활용\n",
    "                                 input_length=maxlen, \n",
    "                                 trainable=True))   # trainable을 True로 주면 Fine-tuning\n",
    "model.add(keras.layers.Conv1D(16, 8, activation='relu'))\n",
    "model.add(keras.layers.MaxPooling1D())\n",
    "model.add(keras.layers.Conv1D(16, 8, activation='relu'))\n",
    "model.add(keras.layers.GlobalMaxPooling1D())\n",
    "model.add(keras.layers.Dense(8, activation='relu'))\n",
    "model.add(keras.layers.Dense(1, activation='sigmoid')) \n",
    "\n",
    "model.summary()"
   ]
  },
  {
   "cell_type": "code",
   "execution_count": 195,
   "metadata": {},
   "outputs": [
    {
     "name": "stdout",
     "output_type": "stream",
     "text": [
      "Epoch 1/8\n",
      "257/257 [==============================] - 14s 55ms/step - loss: 0.5683 - accuracy: 0.6908 - val_loss: 0.4707 - val_accuracy: 0.7771\n",
      "Epoch 2/8\n",
      "257/257 [==============================] - 14s 55ms/step - loss: 0.4217 - accuracy: 0.8062 - val_loss: 0.4078 - val_accuracy: 0.8155\n",
      "Epoch 3/8\n",
      "257/257 [==============================] - 14s 54ms/step - loss: 0.3632 - accuracy: 0.8388 - val_loss: 0.3895 - val_accuracy: 0.8238\n",
      "Epoch 4/8\n",
      "257/257 [==============================] - 14s 54ms/step - loss: 0.3303 - accuracy: 0.8561 - val_loss: 0.3821 - val_accuracy: 0.8305\n",
      "Epoch 5/8\n",
      "257/257 [==============================] - 14s 54ms/step - loss: 0.3060 - accuracy: 0.8681 - val_loss: 0.3844 - val_accuracy: 0.8283\n",
      "Epoch 6/8\n",
      "257/257 [==============================] - 14s 55ms/step - loss: 0.2836 - accuracy: 0.8791 - val_loss: 0.3898 - val_accuracy: 0.8299\n",
      "Epoch 7/8\n",
      "257/257 [==============================] - 13s 52ms/step - loss: 0.2634 - accuracy: 0.8902 - val_loss: 0.4056 - val_accuracy: 0.8290\n",
      "Epoch 8/8\n",
      "257/257 [==============================] - 14s 55ms/step - loss: 0.2441 - accuracy: 0.8986 - val_loss: 0.4275 - val_accuracy: 0.8287\n"
     ]
    }
   ],
   "source": [
    "model.compile(optimizer='adam',\n",
    "              loss='binary_crossentropy',\n",
    "              metrics=['accuracy'])\n",
    "\n",
    "epochs = 8  # 몇 epoch를 훈련하면 좋을지 결과를 보면서 바꾸어 봅시다. \n",
    "\n",
    "history = model.fit(partial_X_train,\n",
    "                    partial_y_train,\n",
    "                    epochs=epochs,\n",
    "                    batch_size=512,\n",
    "                    validation_data=(X_val, y_val),\n",
    "                    verbose=1)"
   ]
  }
 ],
 "metadata": {
  "kernelspec": {
   "display_name": "Python 3",
   "language": "python",
   "name": "python3"
  },
  "language_info": {
   "codemirror_mode": {
    "name": "ipython",
    "version": 3
   },
   "file_extension": ".py",
   "mimetype": "text/x-python",
   "name": "python",
   "nbconvert_exporter": "python",
   "pygments_lexer": "ipython3",
   "version": "3.8.3"
  }
 },
 "nbformat": 4,
 "nbformat_minor": 4
}
