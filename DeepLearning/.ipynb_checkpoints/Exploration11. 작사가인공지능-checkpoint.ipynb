{
 "cells": [
  {
   "cell_type": "code",
   "execution_count": null,
   "metadata": {},
   "outputs": [],
   "source": [
    "sentence = \" 나는 밥을 먹었다 \"\n",
    "\n",
    "source_sentence = \"<start>\" + sentence\n",
    "target_sentence = sentence + \"<end>\"\n",
    "\n",
    "print(\"Source 문장:\", source_sentence)\n",
    "print(\"Target 문장:\", target_sentence)"
   ]
  },
  {
   "cell_type": "code",
   "execution_count": 1,
   "metadata": {},
   "outputs": [
    {
     "name": "stdout",
     "output_type": "stream",
     "text": [
      "['First Citizen:', 'Before we proceed any further, hear me speak.', '', 'All:', 'Speak, speak.', '', 'First Citizen:', 'You are all resolved rather to die than to famish?', '']\n"
     ]
    }
   ],
   "source": [
    "import re                  # 정규표현식을 위한 Regex 지원 모듈 (문장 데이터를 정돈하기 위해) \n",
    "import numpy as np         # 변환된 문장 데이터(행렬)을 편하게 처리하기 위해\n",
    "import tensorflow as tf    # 대망의 텐서플로우!\n",
    "import os\n",
    "\n",
    "# 파일을 읽기모드로 열어 봅니다.\n",
    "file_path = os.getenv('HOME') + '/aiffel/lyricist/data/shakespeare.txt'\n",
    "with open(file_path, \"r\") as f:\n",
    "    raw_corpus = f.read().splitlines()   # 텍스트를 라인 단위로 끊어서 list 형태로 읽어옵니다.\n",
    "\n",
    "print(raw_corpus[:9])    # 앞에서부터 10라인만 화면에 출력해 볼까요?"
   ]
  },
  {
   "cell_type": "code",
   "execution_count": 2,
   "metadata": {},
   "outputs": [
    {
     "name": "stdout",
     "output_type": "stream",
     "text": [
      "Before we proceed any further, hear me speak.\n",
      "Speak, speak.\n",
      "You are all resolved rather to die than to famish?\n"
     ]
    }
   ],
   "source": [
    "for idx, sentence in enumerate(raw_corpus):\n",
    "    if len(sentence) == 0: continue   # 길이가 0인 문장은 건너뜁니다.\n",
    "    if sentence[-1] == \":\": continue  # 문장의 끝이 : 인 문장은 건너뜁니다.\n",
    "\n",
    "    if idx > 9: break   # 일단 문장 10개만 확인해 볼 겁니다.\n",
    "        \n",
    "    print(sentence)"
   ]
  },
  {
   "cell_type": "code",
   "execution_count": 5,
   "metadata": {},
   "outputs": [
    {
     "name": "stdout",
     "output_type": "stream",
     "text": [
      "<start> this is sample sentence . <end>\n"
     ]
    }
   ],
   "source": [
    "def preprocess_sentence(sentence):\n",
    "    sentence = sentence.lower().strip()       # 소문자로 바꾸고 양쪽 공백을 삭제\n",
    "    # 아래 3단계를 거쳐 sentence는 스페이스 1개를 delimeter로 하는 소문자 단어 시퀀스로 바뀝니다.\n",
    "    sentence = re.sub(r\"([?.!,¿])\", r\" \\1 \", sentence)        # 패턴의 특수문자를 만나면 특수문자 양쪽에 공백을 추가\n",
    "    sentence = re.sub(r'[\" \"]+', \" \", sentence)                  # 공백 패턴을 만나면 스페이스 1개로 치환\n",
    "    sentence = re.sub(r\"[^a-zA-Z?.!,¿]+\", \" \", sentence)  # a-zA-Z?.!,¿ 패턴을 제외한 모든 문자(공백문자까지도)를 스페이스 1개로 치환\n",
    "\n",
    "    sentence = sentence.strip()\n",
    "\n",
    "    sentence = '<start> ' + sentence + ' <end>'      # 이전 스텝에서 본 것처럼 문장 앞뒤로 <start>와 <end>를 단어처럼 붙여 줍니다\n",
    "    \n",
    "    return sentence\n",
    "\n",
    "print(preprocess_sentence(\"This @_is ;;;sample        sentence.\"))   # 이 문장이 어떻게 필터링되는지 확인해 보세요."
   ]
  },
  {
   "cell_type": "code",
   "execution_count": 6,
   "metadata": {},
   "outputs": [
    {
     "data": {
      "text/plain": [
       "['<start> before we proceed any further , hear me speak . <end>',\n",
       " '<start> speak , speak . <end>',\n",
       " '<start> you are all resolved rather to die than to famish ? <end>',\n",
       " '<start> resolved . resolved . <end>',\n",
       " '<start> first , you know caius marcius is chief enemy to the people . <end>',\n",
       " '<start> we know t , we know t . <end>',\n",
       " '<start> let us kill him , and we ll have corn at our own price . <end>',\n",
       " '<start> is t a verdict ? <end>',\n",
       " '<start> no more talking on t let it be done away , away ! <end>',\n",
       " '<start> one word , good citizens . <end>']"
      ]
     },
     "execution_count": 6,
     "metadata": {},
     "output_type": "execute_result"
    }
   ],
   "source": [
    "corpus = []\n",
    "\n",
    "for sentence in raw_corpus:\n",
    "    if len(sentence) == 0: continue\n",
    "    if sentence[-1] == \":\": continue\n",
    "        \n",
    "    corpus.append(preprocess_sentence(sentence))\n",
    "        \n",
    "corpus[:10]"
   ]
  },
  {
   "cell_type": "markdown",
   "metadata": {},
   "source": [
    "## tf.keras.preprocessing.text.Tokenizer\n",
    "- 정제된 데이터를 토큰화\n",
    "- 단어 사전(vocabulary 또는 dictionary라고 칭함)을 생성\n",
    "- 데이터를 숫자로 변환"
   ]
  },
  {
   "cell_type": "code",
   "execution_count": 7,
   "metadata": {},
   "outputs": [
    {
     "name": "stdout",
     "output_type": "stream",
     "text": [
      "[[   2  143   40 ...    0    0    0]\n",
      " [   2  110    4 ...    0    0    0]\n",
      " [   2   11   50 ...    0    0    0]\n",
      " ...\n",
      " [   2  149 4553 ...    0    0    0]\n",
      " [   2   34   71 ...    0    0    0]\n",
      " [   2  945   34 ...    0    0    0]] <keras_preprocessing.text.Tokenizer object at 0x7fe87c4273a0>\n"
     ]
    }
   ],
   "source": [
    "def tokenize(corpus):\n",
    "    # 텐서플로우에서 제공하는 Tokenizer 패키지를 생성\n",
    "    tokenizer = tf.keras.preprocessing.text.Tokenizer(\n",
    "        num_words=7000,  # 전체 단어의 개수 \n",
    "        filters=' ',    # 별도로 전처리 로직을 추가할 수 있습니다. 이번에는 사용하지 않겠습니다.\n",
    "        oov_token=\"<unk>\"  # out-of-vocabulary, 사전에 없었던 단어는 어떤 토큰으로 대체할지\n",
    "    )\n",
    "    tokenizer.fit_on_texts(corpus)   # 우리가 구축한 corpus로부터 Tokenizer가 사전을 자동구축하게 됩니다.\n",
    "\n",
    "    # 이후 tokenizer를 활용하여 모델에 입력할 데이터셋을 구축하게 됩니다.\n",
    "    tensor = tokenizer.texts_to_sequences(corpus)   # tokenizer는 구축한 사전으로부터 corpus를 해석해 Tensor로 변환합니다.\n",
    "\n",
    "    # 입력 데이터의 시퀀스 길이를 일정하게 맞추기 위한 padding  메소드를 제공합니다.\n",
    "    # maxlen의 디폴트값은 None입니다. 이 경우 corpus의 가장 긴 문장을 기준으로 시퀀스 길이가 맞춰집니다.\n",
    "    tensor = tf.keras.preprocessing.sequence.pad_sequences(tensor, padding='post')  \n",
    "\n",
    "    print(tensor,tokenizer)\n",
    "    return tensor, tokenizer\n",
    "\n",
    "tensor, tokenizer = tokenize(corpus)"
   ]
  },
  {
   "cell_type": "code",
   "execution_count": 8,
   "metadata": {},
   "outputs": [
    {
     "name": "stdout",
     "output_type": "stream",
     "text": [
      "[[   2  143   40  933  140  591    4  124   24  110]\n",
      " [   2  110    4  110    5    3    0    0    0    0]\n",
      " [   2   11   50   43 1201  316    9  201   74    9]]\n"
     ]
    }
   ],
   "source": [
    "print(tensor[:3, :10])"
   ]
  },
  {
   "cell_type": "code",
   "execution_count": 9,
   "metadata": {},
   "outputs": [
    {
     "name": "stdout",
     "output_type": "stream",
     "text": [
      "1 : <unk>\n",
      "2 : <start>\n",
      "3 : <end>\n",
      "4 : ,\n",
      "5 : .\n",
      "6 : the\n",
      "7 : and\n",
      "8 : i\n",
      "9 : to\n",
      "10 : of\n"
     ]
    }
   ],
   "source": [
    "for idx in tokenizer.index_word:\n",
    "    print(idx, \":\", tokenizer.index_word[idx])\n",
    "\n",
    "    if idx >= 10: break"
   ]
  },
  {
   "cell_type": "code",
   "execution_count": 12,
   "metadata": {},
   "outputs": [
    {
     "data": {
      "text/plain": [
       "(24015, 21)"
      ]
     },
     "execution_count": 12,
     "metadata": {},
     "output_type": "execute_result"
    }
   ],
   "source": [
    "tensor.shape"
   ]
  },
  {
   "cell_type": "code",
   "execution_count": 10,
   "metadata": {},
   "outputs": [
    {
     "name": "stdout",
     "output_type": "stream",
     "text": [
      "[  2 143  40 933 140 591   4 124  24 110   5   3   0   0   0   0   0   0\n",
      "   0   0]\n",
      "[143  40 933 140 591   4 124  24 110   5   3   0   0   0   0   0   0   0\n",
      "   0   0]\n"
     ]
    }
   ],
   "source": [
    "src_input = tensor[:, :-1]  # tensor에서 마지막 토큰을 잘라내서 소스 문장을 생성합니다. 마지막 토큰은 <END>가 아니라 <pad>일 가능성이 높습니다.\n",
    "tgt_input = tensor[:, 1:]    # tensor에서 <START>를 잘라내서 타겟 문장을 생성합니다.\n",
    "\n",
    "print(src_input[0])\n",
    "print(tgt_input[0])"
   ]
  },
  {
   "cell_type": "code",
   "execution_count": 13,
   "metadata": {},
   "outputs": [
    {
     "data": {
      "text/plain": [
       "<BatchDataset shapes: ((256, 20), (256, 20)), types: (tf.int32, tf.int32)>"
      ]
     },
     "execution_count": 13,
     "metadata": {},
     "output_type": "execute_result"
    }
   ],
   "source": [
    "BUFFER_SIZE = len(src_input)\n",
    "BATCH_SIZE = 256\n",
    "steps_per_epoch = len(src_input) // BATCH_SIZE\n",
    "\n",
    "VOCAB_SIZE = tokenizer.num_words + 1    # tokenizer가 구축한 단어사전 내 7000개와, 여기 포함되지 않은 0:<pad>를 포함하여 7001개\n",
    "\n",
    "dataset = tf.data.Dataset.from_tensor_slices((src_input, tgt_input)).shuffle(BUFFER_SIZE)\n",
    "dataset = dataset.batch(BATCH_SIZE, drop_remainder=True)\n",
    "dataset"
   ]
  },
  {
   "cell_type": "code",
   "execution_count": 14,
   "metadata": {},
   "outputs": [],
   "source": [
    "class TextGenerator(tf.keras.Model):\n",
    "    def __init__(self, vocab_size, embedding_size, hidden_size):\n",
    "        super(TextGenerator, self).__init__()\n",
    "        \n",
    "        self.embedding = tf.keras.layers.Embedding(vocab_size, embedding_size)\n",
    "        self.rnn_1 = tf.keras.layers.LSTM(hidden_size, return_sequences=True)\n",
    "        self.rnn_2 = tf.keras.layers.LSTM(hidden_size, return_sequences=True)\n",
    "        self.linear = tf.keras.layers.Dense(vocab_size)\n",
    "        \n",
    "    def call(self, x):\n",
    "        out = self.embedding(x)\n",
    "        out = self.rnn_1(out)\n",
    "        out = self.rnn_2(out)\n",
    "        out = self.linear(out)\n",
    "        \n",
    "        return out\n",
    "    \n",
    "embedding_size = 256\n",
    "hidden_size = 1024\n",
    "model = TextGenerator(tokenizer.num_words + 1, embedding_size , hidden_size)"
   ]
  },
  {
   "cell_type": "code",
   "execution_count": 15,
   "metadata": {},
   "outputs": [
    {
     "data": {
      "text/plain": [
       "<tf.Tensor: shape=(256, 20, 7001), dtype=float32, numpy=\n",
       "array([[[ 5.21680049e-05,  7.30549655e-05, -7.58509705e-05, ...,\n",
       "          5.35460895e-05,  1.05274179e-04,  1.83234915e-05],\n",
       "        [-5.17483713e-05,  1.14701426e-04, -3.27630813e-04, ...,\n",
       "          5.05814132e-05, -3.08388786e-04,  1.86934922e-04],\n",
       "        [-8.65603142e-05,  7.43623968e-06, -5.06796117e-04, ...,\n",
       "          3.56001314e-04, -9.43611260e-04,  1.75240508e-04],\n",
       "        ...,\n",
       "        [ 7.45661149e-04,  1.85013586e-03, -9.06363013e-04, ...,\n",
       "         -6.08650094e-04, -1.34471606e-03, -5.41972753e-04],\n",
       "        [ 9.64096573e-04,  1.98008423e-03, -1.42044551e-03, ...,\n",
       "         -2.69606709e-04, -1.62893126e-03, -7.41043012e-04],\n",
       "        [ 1.17424934e-03,  2.02615862e-03, -1.95120624e-03, ...,\n",
       "          1.19616743e-05, -1.91966840e-03, -9.69778863e-04]],\n",
       "\n",
       "       [[ 5.21680049e-05,  7.30549655e-05, -7.58509705e-05, ...,\n",
       "          5.35460895e-05,  1.05274179e-04,  1.83234915e-05],\n",
       "        [ 1.35781011e-04,  2.11724764e-05, -6.04393077e-04, ...,\n",
       "         -1.67790262e-04,  3.53864853e-05, -5.71726196e-05],\n",
       "        [ 5.97459948e-05, -1.10406792e-04, -8.19553097e-04, ...,\n",
       "         -4.47483035e-04,  1.08703360e-04, -4.80432558e-04],\n",
       "        ...,\n",
       "        [ 1.36720913e-03,  1.89054164e-03, -1.71607733e-03, ...,\n",
       "          2.73904589e-04, -7.26867642e-04, -5.16841537e-04],\n",
       "        [ 1.56825793e-03,  1.84896251e-03, -2.21191999e-03, ...,\n",
       "          4.63697710e-04, -1.14669313e-03, -7.22407131e-04],\n",
       "        [ 1.75282452e-03,  1.76930206e-03, -2.70083896e-03, ...,\n",
       "          6.03276829e-04, -1.56046601e-03, -9.56437085e-04]],\n",
       "\n",
       "       [[ 5.21680049e-05,  7.30549655e-05, -7.58509705e-05, ...,\n",
       "          5.35460895e-05,  1.05274179e-04,  1.83234915e-05],\n",
       "        [ 1.55877773e-04,  1.55254820e-04, -2.64404982e-04, ...,\n",
       "          1.37109630e-04,  3.66644410e-04,  1.52625216e-04],\n",
       "        [ 1.49096057e-04,  2.24115109e-04, -5.09155623e-04, ...,\n",
       "          1.92632724e-05,  2.51111487e-04,  4.92345716e-05],\n",
       "        ...,\n",
       "        [ 3.56176926e-04,  1.54249510e-03, -2.84745637e-03, ...,\n",
       "          1.79360143e-03, -5.63381007e-04, -6.06684131e-04],\n",
       "        [ 5.21508511e-04,  1.65747455e-03, -3.25888931e-03, ...,\n",
       "          1.75363035e-03, -1.00284454e-03, -9.11030394e-04],\n",
       "        [ 7.11118279e-04,  1.69960887e-03, -3.64583638e-03, ...,\n",
       "          1.67962268e-03, -1.44240260e-03, -1.21131819e-03]],\n",
       "\n",
       "       ...,\n",
       "\n",
       "       [[ 5.21680049e-05,  7.30549655e-05, -7.58509705e-05, ...,\n",
       "          5.35460895e-05,  1.05274179e-04,  1.83234915e-05],\n",
       "        [ 2.68405827e-04,  7.19506788e-05, -8.88619616e-05, ...,\n",
       "         -3.20187501e-05, -4.68987164e-05,  3.93630296e-04],\n",
       "        [ 4.76818008e-04, -5.53777427e-05, -4.55028436e-04, ...,\n",
       "         -3.62008053e-04,  1.26106999e-04,  2.40359921e-04],\n",
       "        ...,\n",
       "        [ 6.80596626e-04,  1.95712061e-03, -2.65731732e-03, ...,\n",
       "          7.96310953e-04, -1.00730546e-03, -1.26454420e-03],\n",
       "        [ 9.52843460e-04,  1.89026434e-03, -3.06997262e-03, ...,\n",
       "          8.32622405e-04, -1.44752453e-03, -1.40654901e-03],\n",
       "        [ 1.20819465e-03,  1.79437222e-03, -3.46137537e-03, ...,\n",
       "          8.40145280e-04, -1.86657032e-03, -1.57224387e-03]],\n",
       "\n",
       "       [[ 5.21680049e-05,  7.30549655e-05, -7.58509705e-05, ...,\n",
       "          5.35460895e-05,  1.05274179e-04,  1.83234915e-05],\n",
       "        [-2.67561609e-05,  8.99475272e-05, -1.74405330e-04, ...,\n",
       "         -2.06949990e-05,  2.65137467e-04,  1.84679928e-04],\n",
       "        [-9.19633749e-05,  5.63214853e-05, -5.09645208e-04, ...,\n",
       "          9.32903204e-05,  5.65947092e-04, -3.44915170e-05],\n",
       "        ...,\n",
       "        [ 2.95495207e-04,  1.82426837e-03, -1.88055588e-03, ...,\n",
       "          1.29418971e-04, -5.36084757e-04, -5.68764051e-04],\n",
       "        [ 5.22881455e-04,  1.83251756e-03, -2.40006484e-03, ...,\n",
       "          2.59821973e-04, -8.81166430e-04, -8.03629460e-04],\n",
       "        [ 7.58492446e-04,  1.78968417e-03, -2.90336274e-03, ...,\n",
       "          3.64517851e-04, -1.24537200e-03, -1.06279470e-03]],\n",
       "\n",
       "       [[ 5.21680049e-05,  7.30549655e-05, -7.58509705e-05, ...,\n",
       "          5.35460895e-05,  1.05274179e-04,  1.83234915e-05],\n",
       "        [-6.63000901e-05,  6.62028251e-05, -3.44115921e-04, ...,\n",
       "          3.13852011e-04,  4.67360805e-04,  2.75021477e-04],\n",
       "        [-1.00729798e-04,  1.67980848e-04, -7.71693536e-04, ...,\n",
       "          2.57673557e-04,  6.44229236e-04, -8.93520919e-05],\n",
       "        ...,\n",
       "        [ 8.00699345e-04,  1.56930345e-03, -3.42353131e-03, ...,\n",
       "          5.70899923e-04, -2.09209602e-03, -1.91116671e-03],\n",
       "        [ 1.07098743e-03,  1.47453463e-03, -3.78748728e-03, ...,\n",
       "          6.02774031e-04, -2.48515536e-03, -2.13194010e-03],\n",
       "        [ 1.31786289e-03,  1.36850344e-03, -4.11759317e-03, ...,\n",
       "          6.17219077e-04, -2.83928192e-03, -2.33002775e-03]]],\n",
       "      dtype=float32)>"
      ]
     },
     "execution_count": 15,
     "metadata": {},
     "output_type": "execute_result"
    }
   ],
   "source": [
    "for src_sample, tgt_sample in dataset.take(1): break\n",
    "model(src_sample)"
   ]
  },
  {
   "cell_type": "code",
   "execution_count": 16,
   "metadata": {},
   "outputs": [
    {
     "name": "stdout",
     "output_type": "stream",
     "text": [
      "Model: \"text_generator\"\n",
      "_________________________________________________________________\n",
      "Layer (type)                 Output Shape              Param #   \n",
      "=================================================================\n",
      "embedding (Embedding)        multiple                  1792256   \n",
      "_________________________________________________________________\n",
      "lstm (LSTM)                  multiple                  5246976   \n",
      "_________________________________________________________________\n",
      "lstm_1 (LSTM)                multiple                  8392704   \n",
      "_________________________________________________________________\n",
      "dense (Dense)                multiple                  7176025   \n",
      "=================================================================\n",
      "Total params: 22,607,961\n",
      "Trainable params: 22,607,961\n",
      "Non-trainable params: 0\n",
      "_________________________________________________________________\n"
     ]
    }
   ],
   "source": [
    "model.summary()"
   ]
  },
  {
   "cell_type": "code",
   "execution_count": null,
   "metadata": {},
   "outputs": [
    {
     "name": "stdout",
     "output_type": "stream",
     "text": [
      "Epoch 1/30\n",
      "93/93 [==============================] - 215s 2s/step - loss: 3.4623\n",
      "Epoch 2/30\n",
      "93/93 [==============================] - 213s 2s/step - loss: 2.8010\n",
      "Epoch 3/30\n",
      "93/93 [==============================] - 206s 2s/step - loss: 2.7142\n",
      "Epoch 4/30\n",
      "93/93 [==============================] - 215s 2s/step - loss: 2.6282\n",
      "Epoch 5/30\n",
      "93/93 [==============================] - 215s 2s/step - loss: 2.5609\n",
      "Epoch 6/30\n",
      "93/93 [==============================] - 209s 2s/step - loss: 2.5089\n",
      "Epoch 7/30\n",
      "93/93 [==============================] - 208s 2s/step - loss: 2.4597\n",
      "Epoch 8/30\n",
      "93/93 [==============================] - 221s 2s/step - loss: 2.4055\n",
      "Epoch 9/30\n",
      "93/93 [==============================] - 226s 2s/step - loss: 2.3620\n",
      "Epoch 10/30\n",
      "93/93 [==============================] - 225s 2s/step - loss: 2.3182\n",
      "Epoch 11/30\n",
      "93/93 [==============================] - 223s 2s/step - loss: 2.2778\n",
      "Epoch 12/30\n",
      "93/93 [==============================] - 225s 2s/step - loss: 2.2368\n",
      "Epoch 13/30\n",
      "93/93 [==============================] - 224s 2s/step - loss: 2.1972\n",
      "Epoch 14/30\n",
      "93/93 [==============================] - 225s 2s/step - loss: 2.1590\n",
      "Epoch 15/30\n",
      "93/93 [==============================] - 224s 2s/step - loss: 2.1212\n",
      "Epoch 16/30\n",
      "93/93 [==============================] - 218s 2s/step - loss: 2.0834\n",
      "Epoch 17/30\n",
      "93/93 [==============================] - 222s 2s/step - loss: 2.0455\n",
      "Epoch 18/30\n",
      "93/93 [==============================] - 212s 2s/step - loss: 2.0072\n",
      "Epoch 19/30\n",
      "93/93 [==============================] - 209s 2s/step - loss: 1.9683\n",
      "Epoch 20/30\n",
      "93/93 [==============================] - 218s 2s/step - loss: 1.9311\n",
      "Epoch 21/30\n",
      "18/93 [====>.........................] - ETA: 2:46 - loss: 1.8797"
     ]
    }
   ],
   "source": [
    "optimizer = tf.keras.optimizers.Adam()\n",
    "loss = tf.keras.losses.SparseCategoricalCrossentropy(\n",
    "    from_logits=True,\n",
    "    reduction='none'\n",
    ")\n",
    "\n",
    "model.compile(loss=loss, optimizer=optimizer)\n",
    "model.fit(dataset, epochs=30)"
   ]
  },
  {
   "cell_type": "code",
   "execution_count": null,
   "metadata": {},
   "outputs": [],
   "source": []
  }
 ],
 "metadata": {
  "kernelspec": {
   "display_name": "Python 3",
   "language": "python",
   "name": "python3"
  },
  "language_info": {
   "codemirror_mode": {
    "name": "ipython",
    "version": 3
   },
   "file_extension": ".py",
   "mimetype": "text/x-python",
   "name": "python",
   "nbconvert_exporter": "python",
   "pygments_lexer": "ipython3",
   "version": "3.8.5"
  }
 },
 "nbformat": 4,
 "nbformat_minor": 4
}
