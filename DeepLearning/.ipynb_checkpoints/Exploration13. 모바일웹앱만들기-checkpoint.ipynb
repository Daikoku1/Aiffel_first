{
 "cells": [
  {
   "cell_type": "markdown",
   "metadata": {},
   "source": [
    "- $ cd ~/aiffel/tfjs_mobile && gedit index.html\n",
    "    - tfjs_mobile 에 gedit 편집기를 사용하여 index.html 파일 생성"
   ]
  },
  {
   "cell_type": "markdown",
   "metadata": {},
   "source": [
    "# HTML\n",
    "- \\<html\\> : HTML 문서의 범위를 설정합니다.\n",
    "- \\<head\\> : 문서에 대한 부가적인 정보가 들어가는 영역입니다.\n",
    "- \\<title\\> : \\<head\\> 내에 쓰이며, 문서의 제목을 표시합니다.\n",
    "- \\<body\\> : 문서의 본문으로서, 담겨진 내용이 웹 브라우저의 창에 표시됩니다.\n",
    "- \\<span style=\"color: red\"\\>Hello,\\</span\\> \\<br\\> \\<a href=\"https://google.com\"\\>world!\\</a\\>\\</span\\>\n",
    "    - \\<br\\> : 줄바꿈\n",
    "    - style, href : 속성 -> 해당 태그에 추가적인 정보를 웹 브라우저에 지시\n",
    "- \\<img src=\"이미지 경로\"\\> : 화면에 이미지 표시"
   ]
  },
  {
   "cell_type": "code",
   "execution_count": null,
   "metadata": {},
   "outputs": [],
   "source": [
    "# # 문서 내에서 HTML 버전 5의 기능을 사용할 수 있도록 함\n",
    "# <!doctype html>\n",
    "# <html>\n",
    "#   <head>\n",
    "#     # UTF-8 인코딩을 사용하고 있음을 표현\n",
    "#     <meta charset=\"utf-8\">\n",
    "#     # 모바일 환경에서 자동으로 화면 비율을 조정\n",
    "#     <meta name=\"viewport\" content=\"width=device-width, user-scalable=yes, initial-scale=1, maximum-scale=1\">\n",
    "#     <title>Demo</title>\n",
    "#   </head>\n",
    "#   <body>\n",
    "#        <span style=\"color: red\">Hello,</span> <br> <a href=\"https://google.com\">world!</a></span>\n",
    "#   </body>\n",
    "# </html>"
   ]
  },
  {
   "cell_type": "markdown",
   "metadata": {},
   "source": [
    "# 로컬 웹서버 띄우기\n",
    "- cd ~/aiffel/tfjs_mobile && python3 -m http.server 8080\n",
    "- 파이썬에 기본으로 내장된 HTTP 서버를 실행\n",
    "- http://localhost:8080/index.html"
   ]
  },
  {
   "cell_type": "markdown",
   "metadata": {},
   "source": [
    "# Java 스크립트\n",
    "- alert('This is a message.') : 경고창에 괄호안 메세지\n",
    "- console.log() : 콘솔창에 메세지\n",
    "    - console.log(document) : 해당 객체의 내부 구조"
   ]
  },
  {
   "cell_type": "code",
   "execution_count": null,
   "metadata": {},
   "outputs": [],
   "source": [
    "# body = document.querySelector('body');\n",
    "# body.style.color = \"red\";\n",
    "# body.innerHTML = 'Bye-bye, world!';"
   ]
  },
  {
   "cell_type": "code",
   "execution_count": null,
   "metadata": {},
   "outputs": [],
   "source": [
    "# <button>Click me</button>\n",
    "\n",
    "# # 스크립트 작성 방법\n",
    "# # <script src=\"script.js\"></script>\n",
    "# <script>\n",
    "\n",
    "#   alert('Start!');\n",
    "#   button = document.querySelector('button');\n",
    "#   function alertClick() {\n",
    "#     alert('Click!');\n",
    "#   };\n",
    "#   button.onclick = alertClick;\n",
    "# </script>"
   ]
  },
  {
   "cell_type": "code",
   "execution_count": null,
   "metadata": {},
   "outputs": [],
   "source": []
  },
  {
   "cell_type": "markdown",
   "metadata": {},
   "source": [
    "# 데이터학습"
   ]
  },
  {
   "cell_type": "code",
   "execution_count": null,
   "metadata": {},
   "outputs": [],
   "source": [
    "import numpy as np\n",
    "import tqdm\n",
    "import os\n",
    "\n",
    "train_x = []\n",
    "train_y = []\n",
    "eval_x = []\n",
    "eval_y = []\n",
    "\n",
    "csv_path = os.getenv('HOME')+'/aiffel/tfjs_mobile/data/fer2013.csv'\n",
    "\n",
    "with open(csv_path) as f:\n",
    "    for line in tqdm.tqdm(f.read().splitlines()[1:]):\n",
    "        emotion, pixels, usage = line.split(',')\n",
    "\n",
    "        x = np.array(pixels.split(' ')).astype(float).reshape(48, 48, 1) / 255\n",
    "        y = int(emotion)\n",
    "\n",
    "    if usage == 'PrivateTest':\n",
    "        eval_x.append(x)\n",
    "        eval_y.append(y)\n",
    "    else:\n",
    "        train_x.append(x)\n",
    "        train_y.append(y)\n",
    "\n",
    "print('train : {}, eval :{}'.format(len(train_x), len(eval_x)))"
   ]
  },
  {
   "cell_type": "code",
   "execution_count": null,
   "metadata": {},
   "outputs": [],
   "source": [
    "from matplotlib import pyplot as plt\n",
    "\n",
    "LABELS = ['Angry', 'Disgust', 'Fear', 'Happy', 'Sad', 'Surprise', 'Neutral']\n",
    "\n",
    "print(LABELS[train_y[0]])\n",
    "plt.imshow(train_x[0].reshape([48, 48]), cmap='gray')"
   ]
  },
  {
   "cell_type": "code",
   "execution_count": null,
   "metadata": {},
   "outputs": [],
   "source": [
    "import tensorflow as tf\n",
    "\n",
    "# model 선언 \n",
    "model = tf.keras.applications.MobileNetV2(input_shape=(48, 48, 1), weights=None, classes=7)\n",
    "\n",
    "# model.compile\n",
    "model.compile(optimizer=tf.keras.optimizers.Adam(),\n",
    "              loss=tf.keras.losses.CategoricalCrossentropy(),\n",
    "              metrics=[tf.keras.metrics.CategoricalAccuracy()])\n",
    "\n",
    "#model.fit\n",
    "model.fit(np.stack(train_x),\n",
    "          tf.keras.utils.to_categorical(train_y),\n",
    "          epochs=100,\n",
    "          batch_size=512,\n",
    "          validation_data=(np.stack(eval_x),\n",
    "                           tf.keras.utils.to_categorical(eval_y)))"
   ]
  },
  {
   "cell_type": "code",
   "execution_count": null,
   "metadata": {},
   "outputs": [],
   "source": [
    "import os\n",
    "model_path = os.getenv('HOME')+'/aiffel/tfjs_mobile/model.h5'\n",
    "model.save(model_path)"
   ]
  },
  {
   "cell_type": "code",
   "execution_count": null,
   "metadata": {},
   "outputs": [],
   "source": []
  }
 ],
 "metadata": {
  "kernelspec": {
   "display_name": "aiffel-cp",
   "language": "python",
   "name": "aiffelcp"
  },
  "language_info": {
   "codemirror_mode": {
    "name": "ipython",
    "version": 3
   },
   "file_extension": ".py",
   "mimetype": "text/x-python",
   "name": "python",
   "nbconvert_exporter": "python",
   "pygments_lexer": "ipython3",
   "version": "3.8.5"
  }
 },
 "nbformat": 4,
 "nbformat_minor": 4
}
