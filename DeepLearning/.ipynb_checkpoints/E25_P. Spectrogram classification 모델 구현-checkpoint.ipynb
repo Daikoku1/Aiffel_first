{
 "cells": [
  {
   "cell_type": "markdown",
   "metadata": {},
   "source": [
    "# 데이터셋"
   ]
  },
  {
   "cell_type": "code",
   "execution_count": 1,
   "metadata": {},
   "outputs": [],
   "source": [
    "import numpy as np\n",
    "import os\n",
    "\n",
    "data_path = os.getenv(\"HOME\")+'/aiffel/speech_recognition/data/speech_wav_8000.npz'\n",
    "speech_data = np.load(data_path)"
   ]
  },
  {
   "cell_type": "code",
   "execution_count": 2,
   "metadata": {},
   "outputs": [],
   "source": [
    "import librosa\n",
    "def wav2spec(wav, fft_size=258): # spectrogram shape을 맞추기위해서 size 변형\n",
    "    D = np.abs(librosa.stft(wav, n_fft=fft_size))\n",
    "    return D"
   ]
  },
  {
   "cell_type": "code",
   "execution_count": 3,
   "metadata": {},
   "outputs": [
    {
     "name": "stdout",
     "output_type": "stream",
     "text": [
      "Waveform shape :  (50620, 8000)\n"
     ]
    }
   ],
   "source": [
    "raw_data = speech_data[\"wav_vals\"]\n",
    "print(\"Waveform shape : \",raw_data.shape)"
   ]
  },
  {
   "cell_type": "code",
   "execution_count": 4,
   "metadata": {},
   "outputs": [
    {
     "name": "stdout",
     "output_type": "stream",
     "text": [
      "Spectrogram shape :  (30000, 130, 126)\n"
     ]
    }
   ],
   "source": [
    "data = []\n",
    "for r in raw_data[:30000]:\n",
    "    data.append(wav2spec(r))\n",
    "data = np.array(data)\n",
    "print(\"Spectrogram shape : \",data.shape)"
   ]
  },
  {
   "cell_type": "markdown",
   "metadata": {},
   "source": [
    "# 데이터 처리와 분류"
   ]
  },
  {
   "cell_type": "markdown",
   "metadata": {},
   "source": [
    "## 라벨 데이터 처리"
   ]
  },
  {
   "cell_type": "code",
   "execution_count": 5,
   "metadata": {},
   "outputs": [],
   "source": [
    "target_list = ['yes', 'no', 'up', 'down', 'left', 'right', 'on', 'off', 'stop', 'go']\n",
    "label_value = target_list\n",
    "label_value.append('unknown')\n",
    "label_value.append('silence')\n",
    "\n",
    "new_label_value = dict()\n",
    "for i, l in enumerate(label_value):\n",
    "    new_label_value[l] = i\n",
    "label_value = new_label_value"
   ]
  },
  {
   "cell_type": "code",
   "execution_count": 6,
   "metadata": {},
   "outputs": [],
   "source": [
    "temp = []\n",
    "for v in speech_data[\"label_vals\"][:30000]:\n",
    "    temp.append(label_value[v[0]])\n",
    "label_data = np.array(temp)"
   ]
  },
  {
   "cell_type": "code",
   "execution_count": 7,
   "metadata": {},
   "outputs": [
    {
     "name": "stdout",
     "output_type": "stream",
     "text": [
      "train data :  (27000, 130, 126)\n",
      "train labels :  (27000,)\n",
      "test data :  (3000, 130, 126)\n",
      "test labels :  (3000,)\n"
     ]
    }
   ],
   "source": [
    "from sklearn.model_selection import train_test_split\n",
    "train_wav, test_wav, train_label, test_label = train_test_split(data, \n",
    "                                                                label_data, \n",
    "                                                                test_size=0.1,\n",
    "                                                                shuffle=True)\n",
    "print(\"train data : \", train_wav.shape)\n",
    "print(\"train labels : \", train_label.shape)\n",
    "print(\"test data : \", test_wav.shape)\n",
    "print(\"test labels : \", test_label.shape)"
   ]
  },
  {
   "cell_type": "markdown",
   "metadata": {},
   "source": [
    "## Hyper-parameters setting"
   ]
  },
  {
   "cell_type": "code",
   "execution_count": 8,
   "metadata": {},
   "outputs": [
    {
     "data": {
      "text/plain": [
       "'/home/aiffel42/aiffel/speech_recognition/models/wav'"
      ]
     },
     "execution_count": 8,
     "metadata": {},
     "output_type": "execute_result"
    }
   ],
   "source": [
    "batch_size = 128\n",
    "max_epochs = 10\n",
    "\n",
    "# the save point\n",
    "checkpoint_dir = os.getenv('HOME')+'/aiffel/speech_recognition/models/wav'\n",
    "\n",
    "checkpoint_dir"
   ]
  },
  {
   "cell_type": "markdown",
   "metadata": {},
   "source": [
    "## Data setting"
   ]
  },
  {
   "cell_type": "code",
   "execution_count": 9,
   "metadata": {},
   "outputs": [],
   "source": [
    "def one_hot_label(wav, label):\n",
    "    label = tf.one_hot(label, depth=12)\n",
    "    return wav, label"
   ]
  },
  {
   "cell_type": "code",
   "execution_count": 10,
   "metadata": {},
   "outputs": [
    {
     "name": "stdout",
     "output_type": "stream",
     "text": [
      "<BatchDataset shapes: ((None, 130, 126), (None, 12)), types: (tf.float32, tf.float32)>\n",
      "<BatchDataset shapes: ((None, 130, 126), (None, 12)), types: (tf.float32, tf.float32)>\n"
     ]
    }
   ],
   "source": [
    "import tensorflow as tf\n",
    "\n",
    "# for train\n",
    "train_dataset = tf.data.Dataset.from_tensor_slices((train_wav, train_label))\n",
    "train_dataset = train_dataset.map(one_hot_label)\n",
    "train_dataset = train_dataset.repeat().batch(batch_size=batch_size)\n",
    "print(train_dataset)\n",
    "\n",
    "# for test\n",
    "test_dataset = tf.data.Dataset.from_tensor_slices((test_wav, test_label))\n",
    "test_dataset = test_dataset.map(one_hot_label)\n",
    "test_dataset = test_dataset.batch(batch_size=batch_size)\n",
    "print(test_dataset)"
   ]
  },
  {
   "cell_type": "markdown",
   "metadata": {},
   "source": [
    "# Wave classification 모델 구현\n",
    "## Model"
   ]
  },
  {
   "cell_type": "code",
   "execution_count": 11,
   "metadata": {},
   "outputs": [
    {
     "name": "stdout",
     "output_type": "stream",
     "text": [
      "Model: \"functional_1\"\n",
      "_________________________________________________________________\n",
      "Layer (type)                 Output Shape              Param #   \n",
      "=================================================================\n",
      "input_1 (InputLayer)         [(None, 130, 126)]        0         \n",
      "_________________________________________________________________\n",
      "conv1d (Conv1D)              (None, 130, 32)           36320     \n",
      "_________________________________________________________________\n",
      "conv1d_1 (Conv1D)            (None, 130, 32)           9248      \n",
      "_________________________________________________________________\n",
      "max_pooling1d (MaxPooling1D) (None, 65, 32)            0         \n",
      "_________________________________________________________________\n",
      "conv1d_2 (Conv1D)            (None, 65, 64)            18496     \n",
      "_________________________________________________________________\n",
      "conv1d_3 (Conv1D)            (None, 65, 64)            36928     \n",
      "_________________________________________________________________\n",
      "max_pooling1d_1 (MaxPooling1 (None, 32, 64)            0         \n",
      "_________________________________________________________________\n",
      "conv1d_4 (Conv1D)            (None, 32, 128)           73856     \n",
      "_________________________________________________________________\n",
      "conv1d_5 (Conv1D)            (None, 32, 128)           147584    \n",
      "_________________________________________________________________\n",
      "conv1d_6 (Conv1D)            (None, 32, 128)           147584    \n",
      "_________________________________________________________________\n",
      "max_pooling1d_2 (MaxPooling1 (None, 16, 128)           0         \n",
      "_________________________________________________________________\n",
      "conv1d_7 (Conv1D)            (None, 16, 256)           295168    \n",
      "_________________________________________________________________\n",
      "conv1d_8 (Conv1D)            (None, 16, 256)           590080    \n",
      "_________________________________________________________________\n",
      "conv1d_9 (Conv1D)            (None, 16, 256)           590080    \n",
      "_________________________________________________________________\n",
      "max_pooling1d_3 (MaxPooling1 (None, 8, 256)            0         \n",
      "_________________________________________________________________\n",
      "dropout (Dropout)            (None, 8, 256)            0         \n",
      "_________________________________________________________________\n",
      "flatten (Flatten)            (None, 2048)              0         \n",
      "_________________________________________________________________\n",
      "dense (Dense)                (None, 256)               524544    \n",
      "_________________________________________________________________\n",
      "batch_normalization (BatchNo (None, 256)               1024      \n",
      "_________________________________________________________________\n",
      "activation (Activation)      (None, 256)               0         \n",
      "_________________________________________________________________\n",
      "dense_1 (Dense)              (None, 12)                3084      \n",
      "=================================================================\n",
      "Total params: 2,473,996\n",
      "Trainable params: 2,473,484\n",
      "Non-trainable params: 512\n",
      "_________________________________________________________________\n"
     ]
    }
   ],
   "source": [
    "from tensorflow.keras import layers\n",
    "\n",
    "input_tensor = layers.Input(shape=(130, 126))\n",
    "\n",
    "x = layers.Conv1D(32, 9, padding='same', activation='relu')(input_tensor)\n",
    "x = layers.Conv1D(32, 9, padding='same', activation='relu')(x)\n",
    "x = layers.MaxPool1D()(x)\n",
    "\n",
    "x = layers.Conv1D(64, 9, padding='same', activation='relu')(x)\n",
    "x = layers.Conv1D(64, 9, padding='same', activation='relu')(x)\n",
    "x = layers.MaxPool1D()(x)\n",
    "\n",
    "x = layers.Conv1D(128, 9, padding='same', activation='relu')(x)\n",
    "x = layers.Conv1D(128, 9, padding='same', activation='relu')(x)\n",
    "x = layers.Conv1D(128, 9, padding='same', activation='relu')(x)\n",
    "x = layers.MaxPool1D()(x)\n",
    "\n",
    "x = layers.Conv1D(256, 9, padding='same', activation='relu')(x)\n",
    "x = layers.Conv1D(256, 9, padding='same', activation='relu')(x)\n",
    "x = layers.Conv1D(256, 9, padding='same', activation='relu')(x)\n",
    "x = layers.MaxPool1D()(x)\n",
    "x = layers.Dropout(0.3)(x)\n",
    "\n",
    "x = layers.Flatten()(x)\n",
    "x = layers.Dense(256)(x)\n",
    "x = layers.BatchNormalization()(x)\n",
    "x = layers.Activation('relu')(x)\n",
    "\n",
    "output_tensor = layers.Dense(12)(x)\n",
    "\n",
    "model_wav = tf.keras.Model(input_tensor, output_tensor)\n",
    "\n",
    "model_wav.summary()"
   ]
  },
  {
   "cell_type": "markdown",
   "metadata": {},
   "source": [
    "## Loss"
   ]
  },
  {
   "cell_type": "code",
   "execution_count": 12,
   "metadata": {},
   "outputs": [],
   "source": [
    "optimizer=tf.keras.optimizers.Adam(1e-4)\n",
    "model_wav.compile(loss=tf.keras.losses.CategoricalCrossentropy(from_logits=True),\n",
    "             optimizer=optimizer,\n",
    "             metrics=['accuracy'])"
   ]
  },
  {
   "cell_type": "markdown",
   "metadata": {},
   "source": [
    "## Training"
   ]
  },
  {
   "cell_type": "code",
   "execution_count": 13,
   "metadata": {},
   "outputs": [],
   "source": [
    "cp_callback = tf.keras.callbacks.ModelCheckpoint(checkpoint_dir,\n",
    "                                                 save_weights_only=True,\n",
    "                                                 monitor='val_loss',\n",
    "                                                 mode='auto',\n",
    "                                                 save_best_only=True,\n",
    "                                                 verbose=1)"
   ]
  },
  {
   "cell_type": "code",
   "execution_count": 14,
   "metadata": {},
   "outputs": [
    {
     "name": "stdout",
     "output_type": "stream",
     "text": [
      "Epoch 1/10\n",
      "209/210 [============================>.] - ETA: 0s - loss: 1.7802 - accuracy: 0.3848\n",
      "Epoch 00001: val_loss improved from inf to 2.17095, saving model to /home/aiffel42/aiffel/speech_recognition/models/wav\n",
      "210/210 [==============================] - 3s 16ms/step - loss: 1.7781 - accuracy: 0.3854 - val_loss: 2.1710 - val_accuracy: 0.5251\n",
      "Epoch 2/10\n",
      "209/210 [============================>.] - ETA: 0s - loss: 1.0059 - accuracy: 0.6542\n",
      "Epoch 00002: val_loss improved from 2.17095 to 1.18145, saving model to /home/aiffel42/aiffel/speech_recognition/models/wav\n",
      "210/210 [==============================] - 3s 15ms/step - loss: 1.0046 - accuracy: 0.6546 - val_loss: 1.1815 - val_accuracy: 0.7378\n",
      "Epoch 3/10\n",
      "209/210 [============================>.] - ETA: 0s - loss: 0.6380 - accuracy: 0.7851\n",
      "Epoch 00003: val_loss improved from 1.18145 to 0.62129, saving model to /home/aiffel42/aiffel/speech_recognition/models/wav\n",
      "210/210 [==============================] - 3s 15ms/step - loss: 0.6378 - accuracy: 0.7853 - val_loss: 0.6213 - val_accuracy: 0.7840\n",
      "Epoch 4/10\n",
      "209/210 [============================>.] - ETA: 0s - loss: 0.4594 - accuracy: 0.8455\n",
      "Epoch 00004: val_loss improved from 0.62129 to 0.47462, saving model to /home/aiffel42/aiffel/speech_recognition/models/wav\n",
      "210/210 [==============================] - 3s 15ms/step - loss: 0.4595 - accuracy: 0.8455 - val_loss: 0.4746 - val_accuracy: 0.8322\n",
      "Epoch 5/10\n",
      "209/210 [============================>.] - ETA: 0s - loss: 0.3531 - accuracy: 0.8818\n",
      "Epoch 00005: val_loss improved from 0.47462 to 0.44627, saving model to /home/aiffel42/aiffel/speech_recognition/models/wav\n",
      "210/210 [==============================] - 3s 15ms/step - loss: 0.3531 - accuracy: 0.8817 - val_loss: 0.4463 - val_accuracy: 0.8482\n",
      "Epoch 6/10\n",
      "208/210 [============================>.] - ETA: 0s - loss: 0.2811 - accuracy: 0.9078\n",
      "Epoch 00006: val_loss improved from 0.44627 to 0.38649, saving model to /home/aiffel42/aiffel/speech_recognition/models/wav\n",
      "210/210 [==============================] - 3s 15ms/step - loss: 0.2809 - accuracy: 0.9080 - val_loss: 0.3865 - val_accuracy: 0.8679\n",
      "Epoch 7/10\n",
      "209/210 [============================>.] - ETA: 0s - loss: 0.2271 - accuracy: 0.9272\n",
      "Epoch 00007: val_loss improved from 0.38649 to 0.38445, saving model to /home/aiffel42/aiffel/speech_recognition/models/wav\n",
      "210/210 [==============================] - 3s 15ms/step - loss: 0.2270 - accuracy: 0.9273 - val_loss: 0.3844 - val_accuracy: 0.8699\n",
      "Epoch 8/10\n",
      "209/210 [============================>.] - ETA: 0s - loss: 0.1858 - accuracy: 0.9411\n",
      "Epoch 00008: val_loss improved from 0.38445 to 0.33082, saving model to /home/aiffel42/aiffel/speech_recognition/models/wav\n",
      "210/210 [==============================] - 3s 16ms/step - loss: 0.1861 - accuracy: 0.9410 - val_loss: 0.3308 - val_accuracy: 0.8865\n",
      "Epoch 9/10\n",
      "208/210 [============================>.] - ETA: 0s - loss: 0.1587 - accuracy: 0.9503\n",
      "Epoch 00009: val_loss did not improve from 0.33082\n",
      "210/210 [==============================] - 3s 15ms/step - loss: 0.1582 - accuracy: 0.9506 - val_loss: 0.3466 - val_accuracy: 0.8798\n",
      "Epoch 10/10\n",
      "209/210 [============================>.] - ETA: 0s - loss: 0.1348 - accuracy: 0.9585\n",
      "Epoch 00010: val_loss did not improve from 0.33082\n",
      "210/210 [==============================] - 3s 16ms/step - loss: 0.1347 - accuracy: 0.9585 - val_loss: 0.3582 - val_accuracy: 0.8821\n"
     ]
    }
   ],
   "source": [
    "#30분 내외 소요\n",
    "history_wav = model_wav.fit(train_dataset, epochs=max_epochs,\n",
    "                    steps_per_epoch=len(train_wav) // batch_size,\n",
    "                    validation_data=test_dataset,\n",
    "                    validation_steps=len(test_wav) // batch_size,\n",
    "                    callbacks=[cp_callback]\n",
    "                    )"
   ]
  },
  {
   "cell_type": "code",
   "execution_count": 15,
   "metadata": {},
   "outputs": [
    {
     "data": {
      "image/png": "[encoded data removed]",
      "text/plain": [
       "<Figure size 576x576 with 2 Axes>"
      ]
     },
     "metadata": {
      "needs_background": "light"
     },
     "output_type": "display_data"
    }
   ],
   "source": [
    "import matplotlib.pyplot as plt\n",
    "\n",
    "acc = history_wav.history['accuracy']\n",
    "val_acc = history_wav.history['val_accuracy']\n",
    "\n",
    "loss=history_wav.history['loss']\n",
    "val_loss=history_wav.history['val_loss']\n",
    "\n",
    "epochs_range = range(len(acc))\n",
    "\n",
    "plt.figure(figsize=(8, 8))\n",
    "plt.subplot(1, 2, 1)\n",
    "plt.plot(epochs_range, acc, label='Training Accuracy')\n",
    "plt.plot(epochs_range, val_acc, label='Validation Accuracy')\n",
    "plt.legend(loc='lower right')\n",
    "plt.title('Training and Validation Accuracy')\n",
    "\n",
    "plt.subplot(1, 2, 2)\n",
    "plt.plot(epochs_range, loss, label='Training Loss')\n",
    "plt.plot(epochs_range, val_loss, label='Validation Loss')\n",
    "plt.legend(loc='upper right')\n",
    "plt.title('Training and Validation Loss')\n",
    "plt.show()"
   ]
  },
  {
   "cell_type": "markdown",
   "metadata": {},
   "source": [
    "## Evaluation"
   ]
  },
  {
   "cell_type": "code",
   "execution_count": 18,
   "metadata": {},
   "outputs": [
    {
     "name": "stdout",
     "output_type": "stream",
     "text": [
      "24/24 [==============================] - 0s 5ms/step - loss: 0.3340 - accuracy: 0.8853\n"
     ]
    }
   ],
   "source": [
    "model_wav.load_weights(checkpoint_dir)\n",
    "results = model_wav.evaluate(test_dataset)"
   ]
  },
  {
   "cell_type": "code",
   "execution_count": 19,
   "metadata": {},
   "outputs": [
    {
     "name": "stdout",
     "output_type": "stream",
     "text": [
      "loss value: 0.334\n",
      "accuracy value: 88.5333%\n"
     ]
    }
   ],
   "source": [
    "# loss\n",
    "print(\"loss value: {:.3f}\".format(results[0]))\n",
    "# accuracy\n",
    "print(\"accuracy value: {:.4f}%\".format(results[1]*100))"
   ]
  },
  {
   "cell_type": "markdown",
   "metadata": {},
   "source": [
    "## Model Test"
   ]
  },
  {
   "cell_type": "code",
   "execution_count": 22,
   "metadata": {},
   "outputs": [
    {
     "name": "stdout",
     "output_type": "stream",
     "text": [
      "label :  no\n"
     ]
    }
   ],
   "source": [
    "inv_label_value = {v: k for k, v in label_value.items()}\n",
    "batch_index = np.random.choice(len(test_wav), size=1, replace=False)\n",
    "\n",
    "batch_xs = test_wav[batch_index]\n",
    "batch_ys = test_label[batch_index]\n",
    "y_pred_ = model_wav(batch_xs, training=False)\n",
    "\n",
    "print(\"label : \", str(inv_label_value[batch_ys[0]]))"
   ]
  },
  {
   "cell_type": "code",
   "execution_count": 24,
   "metadata": {},
   "outputs": [
    {
     "name": "stdout",
     "output_type": "stream",
     "text": [
      "y_pred: no\n"
     ]
    }
   ],
   "source": [
    "if np.argmax(y_pred_) == test_label[i]:\n",
    "    print(\"y_pred: \" + str(inv_label_value[np.argmax(y_pred_)]))\n",
    "else:\n",
    "    print(\"y_pred: \" + str(inv_label_value[np.argmax(y_pred_)]))"
   ]
  },
  {
   "cell_type": "code",
   "execution_count": null,
   "metadata": {},
   "outputs": [],
   "source": []
  },
  {
   "cell_type": "markdown",
   "metadata": {},
   "source": [
    "# Skip-Connection model"
   ]
  },
  {
   "cell_type": "markdown",
   "metadata": {},
   "source": [
    "## Model"
   ]
  },
  {
   "cell_type": "code",
   "execution_count": 26,
   "metadata": {},
   "outputs": [
    {
     "name": "stdout",
     "output_type": "stream",
     "text": [
      "Model: \"functional_3\"\n",
      "__________________________________________________________________________________________________\n",
      "Layer (type)                    Output Shape         Param #     Connected to                     \n",
      "==================================================================================================\n",
      "input_2 (InputLayer)            [(None, 130, 126)]   0                                            \n",
      "__________________________________________________________________________________________________\n",
      "conv1d_10 (Conv1D)              (None, 130, 32)      36320       input_2[0][0]                    \n",
      "__________________________________________________________________________________________________\n",
      "conv1d_11 (Conv1D)              (None, 130, 32)      9248        conv1d_10[0][0]                  \n",
      "__________________________________________________________________________________________________\n",
      "max_pooling1d_4 (MaxPooling1D)  (None, 65, 32)       0           conv1d_11[0][0]                  \n",
      "__________________________________________________________________________________________________\n",
      "conv1d_12 (Conv1D)              (None, 65, 64)       18496       max_pooling1d_4[0][0]            \n",
      "__________________________________________________________________________________________________\n",
      "conv1d_13 (Conv1D)              (None, 65, 64)       36928       conv1d_12[0][0]                  \n",
      "__________________________________________________________________________________________________\n",
      "tf_op_layer_concat (TensorFlowO [(None, 65, 96)]     0           conv1d_13[0][0]                  \n",
      "                                                                 max_pooling1d_4[0][0]            \n",
      "__________________________________________________________________________________________________\n",
      "max_pooling1d_5 (MaxPooling1D)  (None, 32, 96)       0           tf_op_layer_concat[0][0]         \n",
      "__________________________________________________________________________________________________\n",
      "conv1d_14 (Conv1D)              (None, 32, 128)      110720      max_pooling1d_5[0][0]            \n",
      "__________________________________________________________________________________________________\n",
      "conv1d_15 (Conv1D)              (None, 32, 128)      147584      conv1d_14[0][0]                  \n",
      "__________________________________________________________________________________________________\n",
      "conv1d_16 (Conv1D)              (None, 32, 128)      147584      conv1d_15[0][0]                  \n",
      "__________________________________________________________________________________________________\n",
      "tf_op_layer_concat_1 (TensorFlo [(None, 32, 224)]    0           conv1d_16[0][0]                  \n",
      "                                                                 max_pooling1d_5[0][0]            \n",
      "__________________________________________________________________________________________________\n",
      "max_pooling1d_6 (MaxPooling1D)  (None, 16, 224)      0           tf_op_layer_concat_1[0][0]       \n",
      "__________________________________________________________________________________________________\n",
      "conv1d_17 (Conv1D)              (None, 16, 256)      516352      max_pooling1d_6[0][0]            \n",
      "__________________________________________________________________________________________________\n",
      "conv1d_18 (Conv1D)              (None, 16, 256)      590080      conv1d_17[0][0]                  \n",
      "__________________________________________________________________________________________________\n",
      "conv1d_19 (Conv1D)              (None, 16, 256)      590080      conv1d_18[0][0]                  \n",
      "__________________________________________________________________________________________________\n",
      "tf_op_layer_concat_2 (TensorFlo [(None, 16, 480)]    0           conv1d_19[0][0]                  \n",
      "                                                                 max_pooling1d_6[0][0]            \n",
      "__________________________________________________________________________________________________\n",
      "max_pooling1d_7 (MaxPooling1D)  (None, 8, 480)       0           tf_op_layer_concat_2[0][0]       \n",
      "__________________________________________________________________________________________________\n",
      "dropout_1 (Dropout)             (None, 8, 480)       0           max_pooling1d_7[0][0]            \n",
      "__________________________________________________________________________________________________\n",
      "flatten_1 (Flatten)             (None, 3840)         0           dropout_1[0][0]                  \n",
      "__________________________________________________________________________________________________\n",
      "dense_2 (Dense)                 (None, 256)          983296      flatten_1[0][0]                  \n",
      "__________________________________________________________________________________________________\n",
      "batch_normalization_1 (BatchNor (None, 256)          1024        dense_2[0][0]                    \n",
      "__________________________________________________________________________________________________\n",
      "activation_1 (Activation)       (None, 256)          0           batch_normalization_1[0][0]      \n",
      "__________________________________________________________________________________________________\n",
      "dense_3 (Dense)                 (None, 12)           3084        activation_1[0][0]               \n",
      "==================================================================================================\n",
      "Total params: 3,190,796\n",
      "Trainable params: 3,190,284\n",
      "Non-trainable params: 512\n",
      "__________________________________________________________________________________________________\n"
     ]
    }
   ],
   "source": [
    "input_tensor = layers.Input(shape=(130, 126))\n",
    "\n",
    "x = layers.Conv1D(32, 9, padding='same', activation='relu')(input_tensor)\n",
    "x = layers.Conv1D(32, 9, padding='same', activation='relu')(x)\n",
    "skip_1 = layers.MaxPool1D()(x)\n",
    "\n",
    "x = layers.Conv1D(64, 9, padding='same', activation='relu')(skip_1)\n",
    "x = layers.Conv1D(64, 9, padding='same', activation='relu')(x)\n",
    "x = tf.concat([x, skip_1], -1)\n",
    "skip_2 = layers.MaxPool1D()(x)\n",
    "\n",
    "x = layers.Conv1D(128, 9, padding='same', activation='relu')(skip_2)\n",
    "x = layers.Conv1D(128, 9, padding='same', activation='relu')(x)\n",
    "x = layers.Conv1D(128, 9, padding='same', activation='relu')(x)\n",
    "x = tf.concat([x, skip_2], -1)\n",
    "skip_3 = layers.MaxPool1D()(x)\n",
    "\n",
    "x = layers.Conv1D(256, 9, padding='same', activation='relu')(skip_3)\n",
    "x = layers.Conv1D(256, 9, padding='same', activation='relu')(x)\n",
    "x = layers.Conv1D(256, 9, padding='same', activation='relu')(x)\n",
    "x = tf.concat([x, skip_3], -1)\n",
    "x = layers.MaxPool1D()(x)\n",
    "x = layers.Dropout(0.3)(x)\n",
    "\n",
    "x = layers.Flatten()(x)\n",
    "x = layers.Dense(256)(x)\n",
    "x = layers.BatchNormalization()(x)\n",
    "x = layers.Activation('relu')(x)\n",
    "\n",
    "output_tensor = layers.Dense(12)(x)\n",
    "\n",
    "model_wav_skip = tf.keras.Model(input_tensor, output_tensor)\n",
    "\n",
    "model_wav_skip.summary()"
   ]
  },
  {
   "cell_type": "markdown",
   "metadata": {},
   "source": [
    "## Loss"
   ]
  },
  {
   "cell_type": "code",
   "execution_count": 27,
   "metadata": {},
   "outputs": [],
   "source": [
    "optimizer=tf.keras.optimizers.Adam(1e-4)\n",
    "model_wav_skip.compile(loss=tf.keras.losses.CategoricalCrossentropy(from_logits=True),\n",
    "             optimizer=optimizer,\n",
    "             metrics=['accuracy'])"
   ]
  },
  {
   "cell_type": "markdown",
   "metadata": {},
   "source": [
    "## Training"
   ]
  },
  {
   "cell_type": "code",
   "execution_count": 28,
   "metadata": {},
   "outputs": [],
   "source": [
    "# the save point\n",
    "checkpoint_dir = os.getenv('HOME')+'/aiffel/speech_recognition/models/wav_skip'\n",
    "\n",
    "cp_callback = tf.keras.callbacks.ModelCheckpoint(checkpoint_dir,\n",
    "                                                 save_weights_only=True,\n",
    "                                                 monitor='val_loss',\n",
    "                                                 mode='auto',\n",
    "                                                 save_best_only=True,\n",
    "                                                 verbose=1)"
   ]
  },
  {
   "cell_type": "code",
   "execution_count": 29,
   "metadata": {},
   "outputs": [
    {
     "name": "stdout",
     "output_type": "stream",
     "text": [
      "Epoch 1/10\n",
      "210/210 [==============================] - ETA: 0s - loss: 1.9326 - accuracy: 0.3588\n",
      "Epoch 00001: val_loss improved from inf to 1.51812, saving model to /home/aiffel42/aiffel/speech_recognition/models/wav_skip\n",
      "210/210 [==============================] - 4s 18ms/step - loss: 1.9326 - accuracy: 0.3588 - val_loss: 1.5181 - val_accuracy: 0.5190\n",
      "Epoch 2/10\n",
      "209/210 [============================>.] - ETA: 0s - loss: 1.1505 - accuracy: 0.6013\n",
      "Epoch 00002: val_loss improved from 1.51812 to 0.96910, saving model to /home/aiffel42/aiffel/speech_recognition/models/wav_skip\n",
      "210/210 [==============================] - 4s 18ms/step - loss: 1.1490 - accuracy: 0.6016 - val_loss: 0.9691 - val_accuracy: 0.6610\n",
      "Epoch 3/10\n",
      "210/210 [==============================] - ETA: 0s - loss: 0.7780 - accuracy: 0.7319\n",
      "Epoch 00003: val_loss improved from 0.96910 to 0.69945, saving model to /home/aiffel42/aiffel/speech_recognition/models/wav_skip\n",
      "210/210 [==============================] - 4s 18ms/step - loss: 0.7780 - accuracy: 0.7319 - val_loss: 0.6994 - val_accuracy: 0.7507\n",
      "Epoch 4/10\n",
      "208/210 [============================>.] - ETA: 0s - loss: 0.5523 - accuracy: 0.8135\n",
      "Epoch 00004: val_loss improved from 0.69945 to 0.52433, saving model to /home/aiffel42/aiffel/speech_recognition/models/wav_skip\n",
      "210/210 [==============================] - 4s 18ms/step - loss: 0.5521 - accuracy: 0.8133 - val_loss: 0.5243 - val_accuracy: 0.8220\n",
      "Epoch 5/10\n",
      "209/210 [============================>.] - ETA: 0s - loss: 0.4250 - accuracy: 0.8559\n",
      "Epoch 00005: val_loss improved from 0.52433 to 0.44005, saving model to /home/aiffel42/aiffel/speech_recognition/models/wav_skip\n",
      "210/210 [==============================] - 4s 18ms/step - loss: 0.4249 - accuracy: 0.8559 - val_loss: 0.4400 - val_accuracy: 0.8539\n",
      "Epoch 6/10\n",
      "208/210 [============================>.] - ETA: 0s - loss: 0.3426 - accuracy: 0.8845\n",
      "Epoch 00006: val_loss improved from 0.44005 to 0.39047, saving model to /home/aiffel42/aiffel/speech_recognition/models/wav_skip\n",
      "210/210 [==============================] - 4s 18ms/step - loss: 0.3419 - accuracy: 0.8848 - val_loss: 0.3905 - val_accuracy: 0.8709\n",
      "Epoch 7/10\n",
      "210/210 [==============================] - ETA: 0s - loss: 0.2827 - accuracy: 0.9060\n",
      "Epoch 00007: val_loss improved from 0.39047 to 0.35372, saving model to /home/aiffel42/aiffel/speech_recognition/models/wav_skip\n",
      "210/210 [==============================] - 4s 18ms/step - loss: 0.2827 - accuracy: 0.9060 - val_loss: 0.3537 - val_accuracy: 0.8825\n",
      "Epoch 8/10\n",
      "207/210 [============================>.] - ETA: 0s - loss: 0.2331 - accuracy: 0.9247\n",
      "Epoch 00008: val_loss improved from 0.35372 to 0.33613, saving model to /home/aiffel42/aiffel/speech_recognition/models/wav_skip\n",
      "210/210 [==============================] - 4s 18ms/step - loss: 0.2333 - accuracy: 0.9247 - val_loss: 0.3361 - val_accuracy: 0.8940\n",
      "Epoch 9/10\n",
      "208/210 [============================>.] - ETA: 0s - loss: 0.1972 - accuracy: 0.9380\n",
      "Epoch 00009: val_loss improved from 0.33613 to 0.32804, saving model to /home/aiffel42/aiffel/speech_recognition/models/wav_skip\n",
      "210/210 [==============================] - 4s 19ms/step - loss: 0.1969 - accuracy: 0.9381 - val_loss: 0.3280 - val_accuracy: 0.8933\n",
      "Epoch 10/10\n",
      "209/210 [============================>.] - ETA: 0s - loss: 0.1622 - accuracy: 0.9498\n",
      "Epoch 00010: val_loss improved from 0.32804 to 0.31452, saving model to /home/aiffel42/aiffel/speech_recognition/models/wav_skip\n",
      "210/210 [==============================] - 4s 18ms/step - loss: 0.1624 - accuracy: 0.9499 - val_loss: 0.3145 - val_accuracy: 0.8998\n"
     ]
    }
   ],
   "source": [
    "history_wav_skip = model_wav_skip.fit(train_dataset, epochs=max_epochs,\n",
    "                    steps_per_epoch=len(train_wav) // batch_size,\n",
    "                    validation_data=test_dataset,\n",
    "                    validation_steps=len(test_wav) // batch_size,\n",
    "                    callbacks=[cp_callback]\n",
    "                    )"
   ]
  },
  {
   "cell_type": "code",
   "execution_count": 30,
   "metadata": {},
   "outputs": [
    {
     "data": {
      "image/png": "[encoded data removed]",
      "text/plain": [
       "<Figure size 576x576 with 2 Axes>"
      ]
     },
     "metadata": {
      "needs_background": "light"
     },
     "output_type": "display_data"
    }
   ],
   "source": [
    "import matplotlib.pyplot as plt\n",
    "\n",
    "acc = history_wav_skip.history['accuracy']\n",
    "val_acc = history_wav_skip.history['val_accuracy']\n",
    "\n",
    "loss=history_wav_skip.history['loss']\n",
    "val_loss=history_wav_skip.history['val_loss']\n",
    "\n",
    "epochs_range = range(len(acc))\n",
    "\n",
    "plt.figure(figsize=(8, 8))\n",
    "plt.subplot(1, 2, 1)\n",
    "plt.plot(epochs_range, acc, label='Training Accuracy')\n",
    "plt.plot(epochs_range, val_acc, label='Validation Accuracy')\n",
    "plt.legend(loc='lower right')\n",
    "plt.title('Training and Validation Accuracy')\n",
    "\n",
    "plt.subplot(1, 2, 2)\n",
    "plt.plot(epochs_range, loss, label='Training Loss')\n",
    "plt.plot(epochs_range, val_loss, label='Validation Loss')\n",
    "plt.legend(loc='upper right')\n",
    "plt.title('Training and Validation Loss')\n",
    "plt.show()"
   ]
  },
  {
   "cell_type": "markdown",
   "metadata": {},
   "source": [
    "## Evaluation"
   ]
  },
  {
   "cell_type": "code",
   "execution_count": 31,
   "metadata": {},
   "outputs": [
    {
     "name": "stdout",
     "output_type": "stream",
     "text": [
      "24/24 [==============================] - 0s 7ms/step - loss: 0.3196 - accuracy: 0.8973\n",
      "loss value: 0.320\n",
      "accuracy value: 89.7333%\n"
     ]
    }
   ],
   "source": [
    "model_wav_skip.load_weights(checkpoint_dir)\n",
    "results = model_wav_skip.evaluate(test_dataset)\n",
    "# loss\n",
    "print(\"loss value: {:.3f}\".format(results[0]))\n",
    "# accuracy\n",
    "print(\"accuracy value: {:.4f}%\".format(results[1]*100))"
   ]
  },
  {
   "cell_type": "markdown",
   "metadata": {},
   "source": [
    "## Model Test"
   ]
  },
  {
   "cell_type": "code",
   "execution_count": 32,
   "metadata": {},
   "outputs": [
    {
     "name": "stdout",
     "output_type": "stream",
     "text": [
      "label :  stop\n"
     ]
    }
   ],
   "source": [
    "inv_label_value = {v: k for k, v in label_value.items()}\n",
    "batch_index = np.random.choice(len(test_wav), size=1, replace=False)\n",
    "\n",
    "batch_xs = test_wav[batch_index]\n",
    "batch_ys = test_label[batch_index]\n",
    "y_pred_ = model_wav_skip(batch_xs, training=False)\n",
    "\n",
    "print(\"label : \", str(inv_label_value[batch_ys[0]]))\n"
   ]
  },
  {
   "cell_type": "code",
   "execution_count": 34,
   "metadata": {},
   "outputs": [
    {
     "name": "stdout",
     "output_type": "stream",
     "text": [
      "y_pred: stop\n"
     ]
    }
   ],
   "source": [
    "if np.argmax(y_pred_) == test_label[i]:\n",
    "    print(\"y_pred: \" + str(inv_label_value[np.argmax(y_pred_)]))\n",
    "else:\n",
    "    print(\"y_pred: \" + str(inv_label_value[np.argmax(y_pred_)]))"
   ]
  }
 ],
 "metadata": {
  "kernelspec": {
   "display_name": "Python 3",
   "language": "python",
   "name": "python3"
  },
  "language_info": {
   "codemirror_mode": {
    "name": "ipython",
    "version": 3
   },
   "file_extension": ".py",
   "mimetype": "text/x-python",
   "name": "python",
   "nbconvert_exporter": "python",
   "pygments_lexer": "ipython3",
   "version": "3.8.5"
  },
  "toc": {
   "base_numbering": 1,
   "nav_menu": {},
   "number_sections": true,
   "sideBar": true,
   "skip_h1_title": false,
   "title_cell": "Table of Contents",
   "title_sidebar": "Contents",
   "toc_cell": false,
   "toc_position": {},
   "toc_section_display": true,
   "toc_window_display": true
  }
 },
 "nbformat": 4,
 "nbformat_minor": 4
}
