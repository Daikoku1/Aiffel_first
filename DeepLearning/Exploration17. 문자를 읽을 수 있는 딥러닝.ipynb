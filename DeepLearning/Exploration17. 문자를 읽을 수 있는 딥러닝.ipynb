{
 "cells": [
  {
   "cell_type": "code",
   "execution_count": 1,
   "metadata": {},
   "outputs": [],
   "source": [
    "from konlpy.tag import Mecab"
   ]
  },
  {
   "cell_type": "code",
   "execution_count": 2,
   "metadata": {},
   "outputs": [],
   "source": [
    "mecab = Mecab()"
   ]
  },
  {
   "cell_type": "code",
   "execution_count": 4,
   "metadata": {},
   "outputs": [],
   "source": [
    "test = '향후 우정사업본부는 우정 정보시스템 테스트환경 제공, 액셀러레이팅 등을 통해 사업화를 지원하고 우체국금융에 접목할 예정이다. OCR과 포스트페이를 연결해 송금과 물류 등 다양한 분야에 시너지가 예상된다.'"
   ]
  },
  {
   "cell_type": "code",
   "execution_count": 5,
   "metadata": {},
   "outputs": [
    {
     "data": {
      "text/plain": [
       "['향후',\n",
       " '우정사업본부',\n",
       " '는',\n",
       " '우정',\n",
       " '정보',\n",
       " '시스템',\n",
       " '테스트',\n",
       " '환경',\n",
       " '제공',\n",
       " ',',\n",
       " '액셀',\n",
       " '러',\n",
       " '레이팅',\n",
       " '등',\n",
       " '을',\n",
       " '통해',\n",
       " '사업',\n",
       " '화',\n",
       " '를',\n",
       " '지원',\n",
       " '하',\n",
       " '고',\n",
       " '우체국',\n",
       " '금융',\n",
       " '에',\n",
       " '접목',\n",
       " '할',\n",
       " '예정',\n",
       " '이',\n",
       " '다',\n",
       " '.',\n",
       " 'OCR',\n",
       " '과',\n",
       " '포스트',\n",
       " '페이',\n",
       " '를',\n",
       " '연결',\n",
       " '해',\n",
       " '송금',\n",
       " '과',\n",
       " '물류',\n",
       " '등',\n",
       " '다양',\n",
       " '한',\n",
       " '분야',\n",
       " '에',\n",
       " '시너지',\n",
       " '가',\n",
       " '예상',\n",
       " '된다',\n",
       " '.']"
      ]
     },
     "execution_count": 5,
     "metadata": {},
     "output_type": "execute_result"
    }
   ],
   "source": [
    "mecab.morphs(test)"
   ]
  },
  {
   "cell_type": "code",
   "execution_count": null,
   "metadata": {},
   "outputs": [],
   "source": []
  }
 ],
 "metadata": {
  "kernelspec": {
   "display_name": "Python 3",
   "language": "python",
   "name": "python3"
  },
  "language_info": {
   "codemirror_mode": {
    "name": "ipython",
    "version": 3
   },
   "file_extension": ".py",
   "mimetype": "text/x-python",
   "name": "python",
   "nbconvert_exporter": "python",
   "pygments_lexer": "ipython3",
   "version": "3.8.5"
  }
 },
 "nbformat": 4,
 "nbformat_minor": 4
}
