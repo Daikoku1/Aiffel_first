{
 "cells": [
  {
   "cell_type": "code",
   "execution_count": 1,
   "metadata": {},
   "outputs": [
    {
     "name": "stdout",
     "output_type": "stream",
     "text": [
      "Source 문장: <start> 나는 밥을 먹었다 \n",
      "Target 문장:  나는 밥을 먹었다 <end>\n"
     ]
    }
   ],
   "source": [
    "sentence = \" 나는 밥을 먹었다 \"\n",
    "\n",
    "source_sentence = \"<start>\" + sentence\n",
    "target_sentence = sentence + \"<end>\"\n",
    "\n",
    "print(\"Source 문장:\", source_sentence)\n",
    "print(\"Target 문장:\", target_sentence)"
   ]
  },
  {
   "cell_type": "code",
   "execution_count": 2,
   "metadata": {},
   "outputs": [
    {
     "name": "stdout",
     "output_type": "stream",
     "text": [
      "['First Citizen:', 'Before we proceed any further, hear me speak.', '', 'All:', 'Speak, speak.', '', 'First Citizen:', 'You are all resolved rather to die than to famish?', '']\n"
     ]
    }
   ],
   "source": [
    "import re                  # 정규표현식을 위한 Regex 지원 모듈 (문장 데이터를 정돈하기 위해) \n",
    "import numpy as np         # 변환된 문장 데이터(행렬)을 편하게 처리하기 위해\n",
    "import tensorflow as tf    # 대망의 텐서플로우!\n",
    "import os\n",
    "\n",
    "# 파일을 읽기모드로 열어 봅니다.\n",
    "file_path = os.getenv('HOME') + '/aiffel/lyricist/data/shakespeare.txt'\n",
    "with open(file_path, \"r\") as f:\n",
    "    raw_corpus = f.read().splitlines()   # 텍스트를 라인 단위로 끊어서 list 형태로 읽어옵니다.\n",
    "\n",
    "print(raw_corpus[:9])    # 앞에서부터 10라인만 화면에 출력해 볼까요?"
   ]
  },
  {
   "cell_type": "code",
   "execution_count": 3,
   "metadata": {},
   "outputs": [
    {
     "name": "stdout",
     "output_type": "stream",
     "text": [
      "Before we proceed any further, hear me speak.\n",
      "Speak, speak.\n",
      "You are all resolved rather to die than to famish?\n"
     ]
    }
   ],
   "source": [
    "for idx, sentence in enumerate(raw_corpus):\n",
    "    if len(sentence) == 0: continue   # 길이가 0인 문장은 건너뜁니다.\n",
    "    if sentence[-1] == \":\": continue  # 문장의 끝이 : 인 문장은 건너뜁니다.\n",
    "\n",
    "    if idx > 9: break   # 일단 문장 10개만 확인해 볼 겁니다.\n",
    "        \n",
    "    print(sentence)"
   ]
  },
  {
   "cell_type": "code",
   "execution_count": 4,
   "metadata": {},
   "outputs": [
    {
     "name": "stdout",
     "output_type": "stream",
     "text": [
      "<start> this is sample sentence . <end>\n"
     ]
    }
   ],
   "source": [
    "def preprocess_sentence(sentence):\n",
    "    sentence = sentence.lower().strip()       # 소문자로 바꾸고 양쪽 공백을 삭제\n",
    "    # 아래 3단계를 거쳐 sentence는 스페이스 1개를 delimeter로 하는 소문자 단어 시퀀스로 바뀝니다.\n",
    "    sentence = re.sub(r\"([?.!,¿])\", r\" \\1 \", sentence)        # 패턴의 특수문자를 만나면 특수문자 양쪽에 공백을 추가\n",
    "    sentence = re.sub(r'[\" \"]+', \" \", sentence)                  # 공백 패턴을 만나면 스페이스 1개로 치환\n",
    "    sentence = re.sub(r\"[^a-zA-Z?.!,¿]+\", \" \", sentence)  # a-zA-Z?.!,¿ 패턴을 제외한 모든 문자(공백문자까지도)를 스페이스 1개로 치환\n",
    "\n",
    "    sentence = sentence.strip()\n",
    "\n",
    "    sentence = '<start> ' + sentence + ' <end>'      # 이전 스텝에서 본 것처럼 문장 앞뒤로 <start>와 <end>를 단어처럼 붙여 줍니다\n",
    "    \n",
    "    return sentence\n",
    "\n",
    "print(preprocess_sentence(\"This @_is ;;;sample        sentence.\"))   # 이 문장이 어떻게 필터링되는지 확인해 보세요."
   ]
  },
  {
   "cell_type": "code",
   "execution_count": 5,
   "metadata": {},
   "outputs": [
    {
     "data": {
      "text/plain": [
       "['<start> before we proceed any further , hear me speak . <end>',\n",
       " '<start> speak , speak . <end>',\n",
       " '<start> you are all resolved rather to die than to famish ? <end>',\n",
       " '<start> resolved . resolved . <end>',\n",
       " '<start> first , you know caius marcius is chief enemy to the people . <end>',\n",
       " '<start> we know t , we know t . <end>',\n",
       " '<start> let us kill him , and we ll have corn at our own price . <end>',\n",
       " '<start> is t a verdict ? <end>',\n",
       " '<start> no more talking on t let it be done away , away ! <end>',\n",
       " '<start> one word , good citizens . <end>']"
      ]
     },
     "execution_count": 5,
     "metadata": {},
     "output_type": "execute_result"
    }
   ],
   "source": [
    "corpus = []\n",
    "\n",
    "for sentence in raw_corpus:\n",
    "    if len(sentence) == 0: continue\n",
    "    if sentence[-1] == \":\": continue\n",
    "        \n",
    "    corpus.append(preprocess_sentence(sentence))\n",
    "        \n",
    "corpus[:10]"
   ]
  },
  {
   "cell_type": "markdown",
   "metadata": {},
   "source": [
    "## tf.keras.preprocessing.text.Tokenizer\n",
    "- 정제된 데이터를 토큰화\n",
    "- 단어 사전(vocabulary 또는 dictionary라고 칭함)을 생성\n",
    "- 데이터를 숫자로 변환"
   ]
  },
  {
   "cell_type": "code",
   "execution_count": 6,
   "metadata": {},
   "outputs": [
    {
     "name": "stdout",
     "output_type": "stream",
     "text": [
      "[[   2  143   40 ...    0    0    0]\n",
      " [   2  110    4 ...    0    0    0]\n",
      " [   2   11   50 ...    0    0    0]\n",
      " ...\n",
      " [   2  149 4553 ...    0    0    0]\n",
      " [   2   34   71 ...    0    0    0]\n",
      " [   2  945   34 ...    0    0    0]] <keras_preprocessing.text.Tokenizer object at 0x7f2364346be0>\n"
     ]
    }
   ],
   "source": [
    "def tokenize(corpus):\n",
    "    # 텐서플로우에서 제공하는 Tokenizer 패키지를 생성\n",
    "    tokenizer = tf.keras.preprocessing.text.Tokenizer(\n",
    "        num_words=7000,  # 전체 단어의 개수 \n",
    "        filters=' ',    # 별도로 전처리 로직을 추가할 수 있습니다. 이번에는 사용하지 않겠습니다.\n",
    "        oov_token=\"<unk>\"  # out-of-vocabulary, 사전에 없었던 단어는 어떤 토큰으로 대체할지\n",
    "    )\n",
    "    tokenizer.fit_on_texts(corpus)   # 우리가 구축한 corpus로부터 Tokenizer가 사전을 자동구축하게 됩니다.\n",
    "\n",
    "    # 이후 tokenizer를 활용하여 모델에 입력할 데이터셋을 구축하게 됩니다.\n",
    "    tensor = tokenizer.texts_to_sequences(corpus)   # tokenizer는 구축한 사전으로부터 corpus를 해석해 Tensor로 변환합니다.\n",
    "\n",
    "    # 입력 데이터의 시퀀스 길이를 일정하게 맞추기 위한 padding  메소드를 제공합니다.\n",
    "    # maxlen의 디폴트값은 None입니다. 이 경우 corpus의 가장 긴 문장을 기준으로 시퀀스 길이가 맞춰집니다.\n",
    "    tensor = tf.keras.preprocessing.sequence.pad_sequences(tensor, padding='post')  \n",
    "\n",
    "    print(tensor,tokenizer)\n",
    "    return tensor, tokenizer\n",
    "\n",
    "tensor, tokenizer = tokenize(corpus)"
   ]
  },
  {
   "cell_type": "code",
   "execution_count": 7,
   "metadata": {},
   "outputs": [
    {
     "name": "stdout",
     "output_type": "stream",
     "text": [
      "[[   2  143   40  933  140  591    4  124   24  110]\n",
      " [   2  110    4  110    5    3    0    0    0    0]\n",
      " [   2   11   50   43 1201  316    9  201   74    9]]\n"
     ]
    }
   ],
   "source": [
    "print(tensor[:3, :10])"
   ]
  },
  {
   "cell_type": "code",
   "execution_count": 8,
   "metadata": {},
   "outputs": [
    {
     "name": "stdout",
     "output_type": "stream",
     "text": [
      "1 : <unk>\n",
      "2 : <start>\n",
      "3 : <end>\n",
      "4 : ,\n",
      "5 : .\n",
      "6 : the\n",
      "7 : and\n",
      "8 : i\n",
      "9 : to\n",
      "10 : of\n"
     ]
    }
   ],
   "source": [
    "for idx in tokenizer.index_word:\n",
    "    print(idx, \":\", tokenizer.index_word[idx])\n",
    "\n",
    "    if idx >= 10: break"
   ]
  },
  {
   "cell_type": "code",
   "execution_count": 9,
   "metadata": {},
   "outputs": [
    {
     "data": {
      "text/plain": [
       "(24015, 21)"
      ]
     },
     "execution_count": 9,
     "metadata": {},
     "output_type": "execute_result"
    }
   ],
   "source": [
    "tensor.shape"
   ]
  },
  {
   "cell_type": "code",
   "execution_count": 10,
   "metadata": {},
   "outputs": [
    {
     "name": "stdout",
     "output_type": "stream",
     "text": [
      "[  2 143  40 933 140 591   4 124  24 110   5   3   0   0   0   0   0   0\n",
      "   0   0]\n",
      "[143  40 933 140 591   4 124  24 110   5   3   0   0   0   0   0   0   0\n",
      "   0   0]\n"
     ]
    }
   ],
   "source": [
    "src_input = tensor[:, :-1]  # tensor에서 마지막 토큰을 잘라내서 소스 문장을 생성합니다. 마지막 토큰은 <END>가 아니라 <pad>일 가능성이 높습니다.\n",
    "tgt_input = tensor[:, 1:]    # tensor에서 <START>를 잘라내서 타겟 문장을 생성합니다.\n",
    "\n",
    "print(src_input[0])\n",
    "print(tgt_input[0])"
   ]
  },
  {
   "cell_type": "code",
   "execution_count": 11,
   "metadata": {},
   "outputs": [
    {
     "data": {
      "text/plain": [
       "<BatchDataset shapes: ((256, 20), (256, 20)), types: (tf.int32, tf.int32)>"
      ]
     },
     "execution_count": 11,
     "metadata": {},
     "output_type": "execute_result"
    }
   ],
   "source": [
    "BUFFER_SIZE = len(src_input)\n",
    "BATCH_SIZE = 256\n",
    "steps_per_epoch = len(src_input) // BATCH_SIZE\n",
    "\n",
    "VOCAB_SIZE = tokenizer.num_words + 1    # tokenizer가 구축한 단어사전 내 7000개와, 여기 포함되지 않은 0:<pad>를 포함하여 7001개\n",
    "\n",
    "dataset = tf.data.Dataset.from_tensor_slices((src_input, tgt_input)).shuffle(BUFFER_SIZE)\n",
    "dataset = dataset.batch(BATCH_SIZE, drop_remainder=True)\n",
    "dataset"
   ]
  },
  {
   "cell_type": "code",
   "execution_count": 12,
   "metadata": {},
   "outputs": [],
   "source": [
    "class TextGenerator(tf.keras.Model):\n",
    "    def __init__(self, vocab_size, embedding_size, hidden_size):\n",
    "        super(TextGenerator, self).__init__()\n",
    "        \n",
    "        self.embedding = tf.keras.layers.Embedding(vocab_size, embedding_size)\n",
    "        self.rnn_1 = tf.keras.layers.LSTM(hidden_size, return_sequences=True)\n",
    "        self.rnn_2 = tf.keras.layers.LSTM(hidden_size, return_sequences=True)\n",
    "        self.linear = tf.keras.layers.Dense(vocab_size)\n",
    "        \n",
    "    def call(self, x):\n",
    "        out = self.embedding(x)\n",
    "        out = self.rnn_1(out)\n",
    "        out = self.rnn_2(out)\n",
    "        out = self.linear(out)\n",
    "        \n",
    "        return out\n",
    "    \n",
    "embedding_size = 256\n",
    "hidden_size = 1024\n",
    "model = TextGenerator(tokenizer.num_words + 1, embedding_size , hidden_size)"
   ]
  },
  {
   "cell_type": "code",
   "execution_count": 13,
   "metadata": {},
   "outputs": [
    {
     "data": {
      "text/plain": [
       "<tf.Tensor: shape=(256, 20, 7001), dtype=float32, numpy=\n",
       "array([[[-3.2468015e-04, -8.5167158e-05, -7.7893856e-07, ...,\n",
       "         -5.9599690e-05,  1.2849813e-04, -1.5262947e-04],\n",
       "        [-5.7661842e-04, -2.1230482e-04, -9.4792864e-05, ...,\n",
       "          3.8453749e-05,  4.3140893e-04,  6.8587120e-05],\n",
       "        [-8.1818819e-04, -6.1174197e-04, -9.5314736e-06, ...,\n",
       "          3.9148479e-04,  8.6632033e-04, -1.0543646e-04],\n",
       "        ...,\n",
       "        [-1.7166320e-04,  1.8049097e-03,  1.2648012e-04, ...,\n",
       "          2.0320183e-03, -3.1212098e-03, -2.4985066e-03],\n",
       "        [-3.2450067e-04,  1.9457736e-03,  3.0722850e-04, ...,\n",
       "          2.2406606e-03, -3.5281139e-03, -2.8010216e-03],\n",
       "        [-4.6848386e-04,  2.0351731e-03,  4.9041613e-04, ...,\n",
       "          2.4067110e-03, -3.8911975e-03, -3.0639127e-03]],\n",
       "\n",
       "       [[-3.2468015e-04, -8.5167158e-05, -7.7893856e-07, ...,\n",
       "         -5.9599690e-05,  1.2849813e-04, -1.5262947e-04],\n",
       "        [-8.0303295e-04, -1.7913240e-05, -3.6829774e-04, ...,\n",
       "         -7.5549068e-04,  2.5015938e-04, -3.4944844e-04],\n",
       "        [-9.9380570e-04, -1.8249470e-04, -4.2684347e-04, ...,\n",
       "         -1.1051529e-03,  5.5892614e-04, -3.9965151e-05],\n",
       "        ...,\n",
       "        [-7.3722954e-04,  2.1560106e-03,  4.6699628e-04, ...,\n",
       "          2.1769330e-03, -2.5148112e-03, -2.0329701e-03],\n",
       "        [-7.7687972e-04,  2.2762837e-03,  5.6489662e-04, ...,\n",
       "          2.3338094e-03, -2.9113977e-03, -2.3380329e-03],\n",
       "        [-8.1991922e-04,  2.3451224e-03,  6.7030342e-04, ...,\n",
       "          2.4604220e-03, -3.2884525e-03, -2.6137233e-03]],\n",
       "\n",
       "       [[-3.2468015e-04, -8.5167158e-05, -7.7893856e-07, ...,\n",
       "         -5.9599690e-05,  1.2849813e-04, -1.5262947e-04],\n",
       "        [-4.0119342e-04,  1.0348866e-04,  3.1893094e-05, ...,\n",
       "          6.3367275e-05,  8.5932537e-05, -2.6425126e-04],\n",
       "        [-2.6303003e-04,  2.3697899e-04,  3.9114995e-05, ...,\n",
       "         -4.3394866e-06,  2.3301989e-04, -4.9425755e-04],\n",
       "        ...,\n",
       "        [-8.5329870e-04,  2.2032284e-03,  8.1781461e-04, ...,\n",
       "          2.3538640e-03, -3.4692020e-03, -2.1940246e-03],\n",
       "        [-9.6601906e-04,  2.2738643e-03,  9.6211780e-04, ...,\n",
       "          2.5222830e-03, -3.8411492e-03, -2.4640081e-03],\n",
       "        [-1.0511162e-03,  2.3028913e-03,  1.0994407e-03, ...,\n",
       "          2.6528731e-03, -4.1707559e-03, -2.7047007e-03]],\n",
       "\n",
       "       ...,\n",
       "\n",
       "       [[-3.2468015e-04, -8.5167158e-05, -7.7893856e-07, ...,\n",
       "         -5.9599690e-05,  1.2849813e-04, -1.5262947e-04],\n",
       "        [-3.8200873e-04, -4.7733690e-04, -1.5278571e-04, ...,\n",
       "         -4.5722169e-05, -9.4769268e-05,  6.3569634e-05],\n",
       "        [-3.1634007e-04, -7.5578049e-04, -2.7282466e-04, ...,\n",
       "          3.2379740e-04, -3.7507969e-05,  2.3713404e-04],\n",
       "        ...,\n",
       "        [-1.3272093e-03,  2.6239811e-03,  6.2406767e-04, ...,\n",
       "          2.8532147e-03, -2.2863732e-03, -3.3139915e-03],\n",
       "        [-1.3247558e-03,  2.6801114e-03,  7.1941258e-04, ...,\n",
       "          2.9430399e-03, -2.7211618e-03, -3.5243318e-03],\n",
       "        [-1.3256898e-03,  2.6935148e-03,  8.2364667e-04, ...,\n",
       "          3.0012962e-03, -3.1408840e-03, -3.6962463e-03]],\n",
       "\n",
       "       [[-3.2468015e-04, -8.5167158e-05, -7.7893856e-07, ...,\n",
       "         -5.9599690e-05,  1.2849813e-04, -1.5262947e-04],\n",
       "        [-6.4378855e-04,  2.8678623e-05,  9.6393829e-05, ...,\n",
       "          5.9726539e-05,  1.4177735e-04, -2.5913335e-04],\n",
       "        [-7.8797108e-04, -3.9815081e-05,  1.9493600e-04, ...,\n",
       "          7.2629548e-05,  3.4919730e-04, -7.2853065e-05],\n",
       "        ...,\n",
       "        [-3.2804720e-04,  1.7470319e-03,  6.2345818e-04, ...,\n",
       "          1.9392788e-03, -1.3046187e-03, -1.8722869e-03],\n",
       "        [-5.2443595e-04,  1.9522646e-03,  6.7150418e-04, ...,\n",
       "          2.1581487e-03, -1.9251400e-03, -2.2761668e-03],\n",
       "        [-6.9924048e-04,  2.0929943e-03,  7.3197519e-04, ...,\n",
       "          2.3331544e-03, -2.4995129e-03, -2.6353330e-03]],\n",
       "\n",
       "       [[-3.2468015e-04, -8.5167158e-05, -7.7893856e-07, ...,\n",
       "         -5.9599690e-05,  1.2849813e-04, -1.5262947e-04],\n",
       "        [-2.4937055e-04, -4.1985669e-04,  2.3466884e-05, ...,\n",
       "         -1.6560564e-04,  5.2592630e-04,  1.2844556e-04],\n",
       "        [-3.0231854e-04, -5.7683612e-04,  3.7199137e-04, ...,\n",
       "         -5.4720661e-04,  8.6498703e-04,  1.2597577e-04],\n",
       "        ...,\n",
       "        [ 3.2611319e-04,  1.8315723e-03,  8.7447441e-04, ...,\n",
       "          1.0327037e-03, -1.9577078e-03, -2.0947356e-03],\n",
       "        [ 1.0936041e-04,  2.1215081e-03,  9.3057018e-04, ...,\n",
       "          1.4104728e-03, -2.4196862e-03, -2.3888096e-03],\n",
       "        [-9.1857713e-05,  2.3184540e-03,  1.0017228e-03, ...,\n",
       "          1.7344276e-03, -2.8534336e-03, -2.6558195e-03]]], dtype=float32)>"
      ]
     },
     "execution_count": 13,
     "metadata": {},
     "output_type": "execute_result"
    }
   ],
   "source": [
    "for src_sample, tgt_sample in dataset.take(1): break\n",
    "model(src_sample)"
   ]
  },
  {
   "cell_type": "code",
   "execution_count": 14,
   "metadata": {},
   "outputs": [
    {
     "name": "stdout",
     "output_type": "stream",
     "text": [
      "Model: \"text_generator\"\n",
      "_________________________________________________________________\n",
      "Layer (type)                 Output Shape              Param #   \n",
      "=================================================================\n",
      "embedding (Embedding)        multiple                  1792256   \n",
      "_________________________________________________________________\n",
      "lstm (LSTM)                  multiple                  5246976   \n",
      "_________________________________________________________________\n",
      "lstm_1 (LSTM)                multiple                  8392704   \n",
      "_________________________________________________________________\n",
      "dense (Dense)                multiple                  7176025   \n",
      "=================================================================\n",
      "Total params: 22,607,961\n",
      "Trainable params: 22,607,961\n",
      "Non-trainable params: 0\n",
      "_________________________________________________________________\n"
     ]
    }
   ],
   "source": [
    "model.summary()"
   ]
  },
  {
   "cell_type": "code",
   "execution_count": 15,
   "metadata": {},
   "outputs": [
    {
     "name": "stdout",
     "output_type": "stream",
     "text": [
      "Epoch 1/30\n",
      "93/93 [==============================] - 209s 2s/step - loss: 3.4861\n",
      "Epoch 2/30\n",
      "93/93 [==============================] - 230s 2s/step - loss: 2.8014\n",
      "Epoch 3/30\n",
      "93/93 [==============================] - 232s 2s/step - loss: 2.6969\n",
      "Epoch 4/30\n",
      "93/93 [==============================] - 233s 3s/step - loss: 2.5986\n",
      "Epoch 5/30\n",
      "93/93 [==============================] - 232s 2s/step - loss: 2.5323\n",
      "Epoch 6/30\n",
      "93/93 [==============================] - 232s 2s/step - loss: 2.4761\n",
      "Epoch 7/30\n",
      "93/93 [==============================] - 231s 2s/step - loss: 2.4209\n",
      "Epoch 8/30\n",
      "93/93 [==============================] - 233s 3s/step - loss: 2.3696\n",
      "Epoch 9/30\n",
      "93/93 [==============================] - 233s 3s/step - loss: 2.3190\n",
      "Epoch 10/30\n",
      "93/93 [==============================] - 231s 2s/step - loss: 2.2694\n",
      "Epoch 11/30\n",
      "93/93 [==============================] - 232s 2s/step - loss: 2.2214\n",
      "Epoch 12/30\n",
      "93/93 [==============================] - 231s 2s/step - loss: 2.1745\n",
      "Epoch 13/30\n",
      "93/93 [==============================] - 233s 3s/step - loss: 2.1258\n",
      "Epoch 14/30\n",
      "93/93 [==============================] - 233s 3s/step - loss: 2.0790\n",
      "Epoch 15/30\n",
      "93/93 [==============================] - 232s 2s/step - loss: 2.0333\n",
      "Epoch 16/30\n",
      "93/93 [==============================] - 233s 3s/step - loss: 1.9889\n",
      "Epoch 17/30\n",
      "93/93 [==============================] - 233s 3s/step - loss: 1.9399\n",
      "Epoch 18/30\n",
      "93/93 [==============================] - 233s 3s/step - loss: 1.8934\n",
      "Epoch 19/30\n",
      "93/93 [==============================] - 233s 3s/step - loss: 1.8452\n",
      "Epoch 20/30\n",
      "93/93 [==============================] - 233s 3s/step - loss: 1.7973\n",
      "Epoch 21/30\n",
      "93/93 [==============================] - 233s 3s/step - loss: 1.7510\n",
      "Epoch 22/30\n",
      "93/93 [==============================] - 233s 3s/step - loss: 1.7035\n",
      "Epoch 23/30\n",
      "93/93 [==============================] - 233s 3s/step - loss: 1.6557\n",
      "Epoch 24/30\n",
      "93/93 [==============================] - 232s 2s/step - loss: 1.6087\n",
      "Epoch 25/30\n",
      "93/93 [==============================] - 233s 3s/step - loss: 1.5612\n",
      "Epoch 26/30\n",
      "93/93 [==============================] - 234s 3s/step - loss: 1.5142\n",
      "Epoch 27/30\n",
      "93/93 [==============================] - 234s 3s/step - loss: 1.4665\n",
      "Epoch 28/30\n",
      "93/93 [==============================] - 233s 3s/step - loss: 1.4174\n",
      "Epoch 29/30\n",
      "93/93 [==============================] - 233s 3s/step - loss: 1.3681\n",
      "Epoch 30/30\n",
      "93/93 [==============================] - 233s 3s/step - loss: 1.3197\n"
     ]
    },
    {
     "data": {
      "text/plain": [
       "<tensorflow.python.keras.callbacks.History at 0x7f22fd3d9c10>"
      ]
     },
     "execution_count": 15,
     "metadata": {},
     "output_type": "execute_result"
    }
   ],
   "source": [
    "optimizer = tf.keras.optimizers.Adam()\n",
    "loss = tf.keras.losses.SparseCategoricalCrossentropy(\n",
    "    from_logits=True,\n",
    "    reduction='none'\n",
    ")\n",
    "\n",
    "model.compile(loss=loss, optimizer=optimizer)\n",
    "model.fit(dataset, epochs=30)"
   ]
  },
  {
   "cell_type": "code",
   "execution_count": 16,
   "metadata": {},
   "outputs": [],
   "source": [
    "def generate_text(model, tokenizer, init_sentence=\"<start>\", max_len=20):\n",
    "    # 테스트를 위해서 입력받은 init_sentence도 일단 텐서로 변환합니다.\n",
    "    test_input = tokenizer.texts_to_sequences([init_sentence])\n",
    "    test_tensor = tf.convert_to_tensor(test_input, dtype=tf.int64)\n",
    "    end_token = tokenizer.word_index[\"<end>\"]\n",
    "\n",
    "    # 텍스트를 실제로 생성할때는 루프를 돌면서 단어 하나씩 생성해야 합니다. \n",
    "    while True:\n",
    "        predict = model(test_tensor)  # 입력받은 문장의 텐서를 입력합니다. \n",
    "        predict_word = tf.argmax(tf.nn.softmax(predict, axis=-1), axis=-1)[:, -1]   # 우리 모델이 예측한 마지막 단어가 바로 새롭게 생성한 단어가 됩니다. \n",
    "\n",
    "        # 우리 모델이 새롭게 예측한 단어를 입력 문장의 뒤에 붙여 줍니다. \n",
    "        test_tensor = tf.concat([test_tensor, \n",
    "\t\t\t\t\t\t\t\t\t\t\t\t\t\t\t\t tf.expand_dims(predict_word, axis=0)], axis=-1)\n",
    "\n",
    "        # 우리 모델이 <END>를 예측했거나, max_len에 도달하지 않았다면  while 루프를 또 돌면서 다음 단어를 예측해야 합니다.\n",
    "        if predict_word.numpy()[0] == end_token: break\n",
    "        if test_tensor.shape[1] >= max_len: break\n",
    "\n",
    "    generated = \"\"\n",
    "    # 생성된 tensor 안에 있는 word index를 tokenizer.index_word 사전을 통해 실제 단어로 하나씩 변환합니다. \n",
    "    for word_index in test_tensor[0].numpy():\n",
    "        generated += tokenizer.index_word[word_index] + \" \"\n",
    "\n",
    "    return generated   # 이것이 최종적으로 모델이 생성한 자연어 문장입니다."
   ]
  },
  {
   "cell_type": "code",
   "execution_count": 17,
   "metadata": {},
   "outputs": [
    {
     "data": {
      "text/plain": [
       "'<start> he is , my lord , as i do know the gods <end> '"
      ]
     },
     "execution_count": 17,
     "metadata": {},
     "output_type": "execute_result"
    }
   ],
   "source": [
    "generate_text(model, tokenizer, init_sentence=\"<start> he\")"
   ]
  },
  {
   "cell_type": "code",
   "execution_count": null,
   "metadata": {},
   "outputs": [],
   "source": []
  },
  {
   "cell_type": "code",
   "execution_count": null,
   "metadata": {},
   "outputs": [],
   "source": []
  }
 ],
 "metadata": {
  "kernelspec": {
   "display_name": "Python 3",
   "language": "python",
   "name": "python3"
  },
  "language_info": {
   "codemirror_mode": {
    "name": "ipython",
    "version": 3
   },
   "file_extension": ".py",
   "mimetype": "text/x-python",
   "name": "python",
   "nbconvert_exporter": "python",
   "pygments_lexer": "ipython3",
   "version": "3.8.5"
  }
 },
 "nbformat": 4,
 "nbformat_minor": 4
}
